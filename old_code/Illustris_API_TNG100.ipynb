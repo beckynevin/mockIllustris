{
 "cells": [
  {
   "cell_type": "code",
   "execution_count": 2,
   "metadata": {},
   "outputs": [],
   "source": [
    "import requests\n",
    "import numpy as np\n",
    "import matplotlib.pyplot as plt\n",
    "import seaborn as sns\n",
    "\n",
    "baseUrl = 'http://www.tng-project.org/api/'\n",
    "headers = {\"api-key\":\"3b865713af85f5da0dba3b577e289484\"}\n",
    "def get(path, params=None):\n",
    "    # make HTTP GET request to path\n",
    "    r = requests.get(path, params=params, headers=headers)\n",
    "    # raise exception if response code is not HTTP SUCCESS (200)\n",
    "    r.raise_for_status()\n",
    "    if r.headers['content-type'] == 'application/json':\n",
    "        return r.json() # parse json responses automatically\n",
    "    return r"
   ]
  },
  {
   "cell_type": "code",
   "execution_count": 3,
   "metadata": {},
   "outputs": [],
   "source": [
    "r = get(baseUrl)"
   ]
  },
  {
   "cell_type": "code",
   "execution_count": 4,
   "metadata": {},
   "outputs": [
    {
     "data": {
      "text/plain": [
       "dict_keys(['simulations'])"
      ]
     },
     "execution_count": 4,
     "metadata": {},
     "output_type": "execute_result"
    }
   ],
   "source": [
    "r.keys()"
   ]
  },
  {
   "cell_type": "code",
   "execution_count": 5,
   "metadata": {},
   "outputs": [
    {
     "data": {
      "text/plain": [
       "45"
      ]
     },
     "execution_count": 5,
     "metadata": {},
     "output_type": "execute_result"
    }
   ],
   "source": [
    "len(r['simulations'])"
   ]
  },
  {
   "cell_type": "code",
   "execution_count": 6,
   "metadata": {},
   "outputs": [
    {
     "name": "stdout",
     "output_type": "stream",
     "text": [
      "{'name': 'Illustris-1', 'num_snapshots': 134, 'url': 'http://www.tng-project.org/api/Illustris-1/'}\n",
      "Available ['Illustris-1', 'Illustris-1-Dark', 'Illustris-2', 'Illustris-2-Dark', 'Illustris-3', 'Illustris-3-Dark', 'TNG100-1', 'TNG100-1-Dark', 'TNG100-2', 'TNG100-2-Dark', 'TNG100-3', 'TNG100-3-Dark', 'TNG300-3', 'TNG300-2-Dark', 'TNG300-2', 'TNG300-1-Dark', 'TNG300-1', 'TNG300-3-Dark', 'Illustris-1-Subbox0', 'Illustris-1-Subbox1', 'Illustris-1-Subbox2', 'Illustris-1-Subbox3', 'Illustris-2-Subbox0', 'Illustris-2-Subbox1', 'Illustris-2-Subbox2', 'Illustris-2-Subbox3', 'Illustris-3-Subbox0', 'Illustris-3-Subbox1', 'Illustris-3-Subbox2', 'Illustris-3-Subbox3', 'TNG100-1-Subbox0', 'TNG100-1-Subbox1', 'TNG100-2-Subbox0', 'TNG100-2-Subbox1', 'TNG100-3-Subbox0', 'TNG100-3-Subbox1', 'TNG300-3-Subbox1', 'TNG300-3-Subbox2', 'TNG300-3-Subbox0', 'TNG300-2-Subbox1', 'TNG300-2-Subbox2', 'TNG300-2-Subbox0', 'TNG300-1-Subbox1', 'TNG300-1-Subbox2', 'TNG300-1-Subbox0']\n"
     ]
    }
   ],
   "source": [
    "print(r['simulations'][0])\n",
    "names = [sim['name'] for sim in r['simulations']]\n",
    "print('Available', names)"
   ]
  },
  {
   "cell_type": "code",
   "execution_count": 7,
   "metadata": {},
   "outputs": [],
   "source": [
    "i = names.index('TNG100-1')"
   ]
  },
  {
   "cell_type": "code",
   "execution_count": 8,
   "metadata": {},
   "outputs": [],
   "source": [
    "sim = get( r['simulations'][i]['url'] )"
   ]
  },
  {
   "cell_type": "code",
   "execution_count": 9,
   "metadata": {},
   "outputs": [
    {
     "data": {
      "text/plain": [
       "dict_keys(['name', 'description', 'name_alt', 'boxsize', 'z_start', 'z_final', 'cosmology', 'omega_0', 'omega_L', 'omega_B', 'hubble', 'physics_model', 'has_cooling', 'has_starformation', 'has_winds', 'has_blackholes', 'mass_gas', 'mass_dm', 'softening_dm_comoving', 'softening_stars_comoving', 'softening_blackholes_comoving', 'softening_gas_comoving', 'softening_dm_max_phys', 'softening_stars_max_phys', 'softening_blackholes_max_phys', 'softening_gas_max_phys', 'softening_gas_factor', 'softening_gas_comoving_min', 'num_dm', 'num_tr_mc', 'num_tr_vel', 'longids', 'is_uniform', 'is_zoom', 'is_subbox', 'num_files_snapshot', 'num_files_groupcat', 'num_files_rockstar', 'num_files_lhalotree', 'num_files_sublink', 'num_files_ctrees', 'filesize_lhalotree', 'filesize_sublink', 'filesize_ctrees', 'filesize_ics', 'filesize_simulation', 'has_fof', 'has_subfind', 'has_rockstar', 'has_lhalotree', 'has_sublink', 'has_ctrees', 'permission_required', 'num_snapshots', 'url', 'parent_simulation', 'child_simulations', 'files', 'checksums', 'snapshots'])"
      ]
     },
     "execution_count": 9,
     "metadata": {},
     "output_type": "execute_result"
    }
   ],
   "source": [
    "sim.keys()"
   ]
  },
  {
   "cell_type": "code",
   "execution_count": 10,
   "metadata": {},
   "outputs": [
    {
     "data": {
      "text/plain": [
       "'http://www.tng-project.org/api/TNG100-1/snapshots/'"
      ]
     },
     "execution_count": 10,
     "metadata": {},
     "output_type": "execute_result"
    }
   ],
   "source": [
    "sim['snapshots']"
   ]
  },
  {
   "cell_type": "code",
   "execution_count": 11,
   "metadata": {},
   "outputs": [],
   "source": [
    "snaps = get( sim['snapshots'] )"
   ]
  },
  {
   "cell_type": "code",
   "execution_count": 12,
   "metadata": {},
   "outputs": [
    {
     "name": "stdout",
     "output_type": "stream",
     "text": [
      "100\n"
     ]
    }
   ],
   "source": [
    "print(len(snaps))"
   ]
  },
  {
   "cell_type": "code",
   "execution_count": 13,
   "metadata": {},
   "outputs": [
    {
     "data": {
      "text/plain": [
       "{'number': 98,\n",
       " 'redshift': 0.00952166696794476,\n",
       " 'num_groups_subfind': 4378491,\n",
       " 'url': 'http://www.tng-project.org/api/TNG100-1/snapshots/98/'}"
      ]
     },
     "execution_count": 13,
     "metadata": {},
     "output_type": "execute_result"
    }
   ],
   "source": [
    "snaps[-2]# this is the one at z=0"
   ]
  },
  {
   "cell_type": "code",
   "execution_count": 14,
   "metadata": {},
   "outputs": [],
   "source": [
    "snap = get( snaps[-2]['url'] ) # you can also download these things here - \n",
    "#https://www.illustris-project.org/data/downloads/Illustris-3/"
   ]
  },
  {
   "cell_type": "code",
   "execution_count": 15,
   "metadata": {},
   "outputs": [
    {
     "data": {
      "text/plain": [
       "{'simulation': 'http://www.tng-project.org/api/TNG100-1/',\n",
       " 'number': 98,\n",
       " 'redshift': 0.00952166696794476,\n",
       " 'num_gas': 5455189750,\n",
       " 'num_dm': 6028568000,\n",
       " 'num_trmc': 0,\n",
       " 'num_stars': 452205927,\n",
       " 'num_bhs': 36733,\n",
       " 'num_groups_fof': 6303326,\n",
       " 'num_groups_subfind': 4378491,\n",
       " 'num_groups_rockstar': 0,\n",
       " 'filesize_snapshot': 521948823396.0,\n",
       " 'filesize_groupcat': 4453965672.0,\n",
       " 'filesize_rockstar': 0.0,\n",
       " 'url': 'http://www.tng-project.org/api/TNG100-1/snapshots/98/',\n",
       " 'subhalos': 'http://www.tng-project.org/api/TNG100-1/snapshots/98/subhalos/',\n",
       " 'vis': {'groupcat_sfms': 'http://www.tng-project.org/api/TNG100-1/snapshots/98/subhalos/plot.png?xQuant=mstar2_log&yQuant=ssfr&xlim=9.0%2C11.0',\n",
       "  'groupcat_sizemass': 'http://www.tng-project.org/api/TNG100-1/snapshots/98/subhalos/plot.png?xQuant=mstar2_log&yQuant=size_stars',\n",
       "  'groupcat_mz_gas': 'http://www.tng-project.org/api/TNG100-1/snapshots/98/subhalos/plot.png?xQuant=mstar2_log&yQuant=Z_gas',\n",
       "  'groupcat_mz_stars': 'http://www.tng-project.org/api/TNG100-1/snapshots/98/subhalos/plot.png?xQuant=mstar2_log&yQuant=Z_stars',\n",
       "  'groupcat_mstar_mhalo': 'http://www.tng-project.org/api/TNG100-1/snapshots/98/subhalos/plot.png?xQuant=mhalo_200_log&yQuant=mstar2_log',\n",
       "  'groupcat_smhm': 'http://www.tng-project.org/api/TNG100-1/snapshots/98/subhalos/plot.png?xQuant=mhalo_200_log&yQuant=mstar2_mhalo200_ratio&xlim=10.0%2C14.5',\n",
       "  'groupcat_halo_sizemass': 'http://www.tng-project.org/api/TNG100-1/snapshots/98/subhalos/plot.png?xQuant=mhalo_200_log&yQuant=rhalo_200&xlim=9.0%2C15.0',\n",
       "  'groupcat_fmr': 'http://www.tng-project.org/api/TNG100-1/snapshots/98/subhalos/plot.png?xQuant=mstar2_log&yQuant=delta_sfms&cQuant=Z_gas&xlim=8.5%2C11.0&ylim=-1.5%2C1.5&cRel=0.7%2C1.3'},\n",
       " 'files': {'snapshot': 'http://www.tng-project.org/api/TNG100-1/files/snapshot-98/',\n",
       "  'groupcat': 'http://www.tng-project.org/api/TNG100-1/files/groupcat-98/'}}"
      ]
     },
     "execution_count": 15,
     "metadata": {},
     "output_type": "execute_result"
    }
   ],
   "source": [
    "snap"
   ]
  },
  {
   "cell_type": "code",
   "execution_count": 16,
   "metadata": {},
   "outputs": [
    {
     "name": "stdout",
     "output_type": "stream",
     "text": [
      "dict_keys(['count', 'next', 'previous', 'results'])\n"
     ]
    }
   ],
   "source": [
    "# grab the subhalos\n",
    "subs = get( snap['subhalos'] )\n",
    "print(subs.keys())"
   ]
  },
  {
   "cell_type": "code",
   "execution_count": 17,
   "metadata": {},
   "outputs": [
    {
     "name": "stdout",
     "output_type": "stream",
     "text": [
      "[{'id': 0, 'sfr': 1.40367, 'mass_log_msun': 14.601248216708818, 'url': 'http://www.tng-project.org/api/TNG100-1/snapshots/98/subhalos/0/'}, {'id': 1, 'sfr': 0.278222, 'mass_log_msun': 13.74088459690506, 'url': 'http://www.tng-project.org/api/TNG100-1/snapshots/98/subhalos/1/'}, {'id': 2, 'sfr': 14.3951, 'mass_log_msun': 13.097592653374768, 'url': 'http://www.tng-project.org/api/TNG100-1/snapshots/98/subhalos/2/'}, {'id': 3, 'sfr': 6.22572, 'mass_log_msun': 12.72630215404047, 'url': 'http://www.tng-project.org/api/TNG100-1/snapshots/98/subhalos/3/'}, {'id': 4, 'sfr': 1.29808, 'mass_log_msun': 12.684500026462977, 'url': 'http://www.tng-project.org/api/TNG100-1/snapshots/98/subhalos/4/'}, {'id': 5, 'sfr': 0.892944, 'mass_log_msun': 12.666184027797218, 'url': 'http://www.tng-project.org/api/TNG100-1/snapshots/98/subhalos/5/'}, {'id': 6, 'sfr': 1.98932, 'mass_log_msun': 12.514410880468052, 'url': 'http://www.tng-project.org/api/TNG100-1/snapshots/98/subhalos/6/'}, {'id': 7, 'sfr': 2.38205, 'mass_log_msun': 12.235499371901604, 'url': 'http://www.tng-project.org/api/TNG100-1/snapshots/98/subhalos/7/'}, {'id': 8, 'sfr': 0.0, 'mass_log_msun': 12.268983870675306, 'url': 'http://www.tng-project.org/api/TNG100-1/snapshots/98/subhalos/8/'}, {'id': 9, 'sfr': 0.0, 'mass_log_msun': 12.296009977050645, 'url': 'http://www.tng-project.org/api/TNG100-1/snapshots/98/subhalos/9/'}, {'id': 10, 'sfr': 0.0, 'mass_log_msun': 12.180894369079708, 'url': 'http://www.tng-project.org/api/TNG100-1/snapshots/98/subhalos/10/'}, {'id': 11, 'sfr': 0.0, 'mass_log_msun': 11.799286610637687, 'url': 'http://www.tng-project.org/api/TNG100-1/snapshots/98/subhalos/11/'}, {'id': 12, 'sfr': 0.0, 'mass_log_msun': 12.234013211493098, 'url': 'http://www.tng-project.org/api/TNG100-1/snapshots/98/subhalos/12/'}, {'id': 13, 'sfr': 0.0, 'mass_log_msun': 12.191265487445555, 'url': 'http://www.tng-project.org/api/TNG100-1/snapshots/98/subhalos/13/'}, {'id': 14, 'sfr': 0.0, 'mass_log_msun': 11.970377352371129, 'url': 'http://www.tng-project.org/api/TNG100-1/snapshots/98/subhalos/14/'}, {'id': 15, 'sfr': 0.0, 'mass_log_msun': 12.12301786756608, 'url': 'http://www.tng-project.org/api/TNG100-1/snapshots/98/subhalos/15/'}, {'id': 16, 'sfr': 0.0155876, 'mass_log_msun': 12.154803088074873, 'url': 'http://www.tng-project.org/api/TNG100-1/snapshots/98/subhalos/16/'}, {'id': 17, 'sfr': 0.103259, 'mass_log_msun': 12.106244713843822, 'url': 'http://www.tng-project.org/api/TNG100-1/snapshots/98/subhalos/17/'}, {'id': 18, 'sfr': 0.0, 'mass_log_msun': 11.826921785280495, 'url': 'http://www.tng-project.org/api/TNG100-1/snapshots/98/subhalos/18/'}, {'id': 19, 'sfr': 0.0115974, 'mass_log_msun': 11.935435264048387, 'url': 'http://www.tng-project.org/api/TNG100-1/snapshots/98/subhalos/19/'}, {'id': 20, 'sfr': 0.554804, 'mass_log_msun': 11.998232044920396, 'url': 'http://www.tng-project.org/api/TNG100-1/snapshots/98/subhalos/20/'}, {'id': 21, 'sfr': 0.0, 'mass_log_msun': 11.71910414397693, 'url': 'http://www.tng-project.org/api/TNG100-1/snapshots/98/subhalos/21/'}, {'id': 22, 'sfr': 0.0, 'mass_log_msun': 11.65741777929726, 'url': 'http://www.tng-project.org/api/TNG100-1/snapshots/98/subhalos/22/'}, {'id': 23, 'sfr': 0.0, 'mass_log_msun': 11.915865273873127, 'url': 'http://www.tng-project.org/api/TNG100-1/snapshots/98/subhalos/23/'}, {'id': 24, 'sfr': 3.14279, 'mass_log_msun': 11.785147971187934, 'url': 'http://www.tng-project.org/api/TNG100-1/snapshots/98/subhalos/24/'}, {'id': 25, 'sfr': 0.0, 'mass_log_msun': 11.707238175504884, 'url': 'http://www.tng-project.org/api/TNG100-1/snapshots/98/subhalos/25/'}, {'id': 26, 'sfr': 0.0, 'mass_log_msun': 11.772149696637088, 'url': 'http://www.tng-project.org/api/TNG100-1/snapshots/98/subhalos/26/'}, {'id': 27, 'sfr': 0.00134548, 'mass_log_msun': 11.80661351506153, 'url': 'http://www.tng-project.org/api/TNG100-1/snapshots/98/subhalos/27/'}, {'id': 28, 'sfr': 0.199384, 'mass_log_msun': 11.84626239973348, 'url': 'http://www.tng-project.org/api/TNG100-1/snapshots/98/subhalos/28/'}, {'id': 29, 'sfr': 0.0, 'mass_log_msun': 11.749217177589468, 'url': 'http://www.tng-project.org/api/TNG100-1/snapshots/98/subhalos/29/'}, {'id': 30, 'sfr': 0.0, 'mass_log_msun': 11.365720604815406, 'url': 'http://www.tng-project.org/api/TNG100-1/snapshots/98/subhalos/30/'}, {'id': 31, 'sfr': 0.0, 'mass_log_msun': 11.652348279921258, 'url': 'http://www.tng-project.org/api/TNG100-1/snapshots/98/subhalos/31/'}, {'id': 32, 'sfr': 0.66883, 'mass_log_msun': 11.681290654207212, 'url': 'http://www.tng-project.org/api/TNG100-1/snapshots/98/subhalos/32/'}, {'id': 33, 'sfr': 0.0, 'mass_log_msun': 11.619037229029955, 'url': 'http://www.tng-project.org/api/TNG100-1/snapshots/98/subhalos/33/'}, {'id': 34, 'sfr': 0.585916, 'mass_log_msun': 11.661993390614121, 'url': 'http://www.tng-project.org/api/TNG100-1/snapshots/98/subhalos/34/'}, {'id': 35, 'sfr': 0.0, 'mass_log_msun': 11.470872615162211, 'url': 'http://www.tng-project.org/api/TNG100-1/snapshots/98/subhalos/35/'}, {'id': 36, 'sfr': 0.0, 'mass_log_msun': 11.667241952580225, 'url': 'http://www.tng-project.org/api/TNG100-1/snapshots/98/subhalos/36/'}, {'id': 37, 'sfr': 0.141727, 'mass_log_msun': 11.672535508456733, 'url': 'http://www.tng-project.org/api/TNG100-1/snapshots/98/subhalos/37/'}, {'id': 38, 'sfr': 0.0, 'mass_log_msun': 11.626553718396538, 'url': 'http://www.tng-project.org/api/TNG100-1/snapshots/98/subhalos/38/'}, {'id': 39, 'sfr': 0.0, 'mass_log_msun': 11.514481478962498, 'url': 'http://www.tng-project.org/api/TNG100-1/snapshots/98/subhalos/39/'}, {'id': 40, 'sfr': 8.67791, 'mass_log_msun': 11.371239702912337, 'url': 'http://www.tng-project.org/api/TNG100-1/snapshots/98/subhalos/40/'}, {'id': 41, 'sfr': 3.15394, 'mass_log_msun': 11.58807560403531, 'url': 'http://www.tng-project.org/api/TNG100-1/snapshots/98/subhalos/41/'}, {'id': 42, 'sfr': 2.00444, 'mass_log_msun': 11.575659221224647, 'url': 'http://www.tng-project.org/api/TNG100-1/snapshots/98/subhalos/42/'}, {'id': 43, 'sfr': 1.61886, 'mass_log_msun': 11.598564683493878, 'url': 'http://www.tng-project.org/api/TNG100-1/snapshots/98/subhalos/43/'}, {'id': 44, 'sfr': 1.263, 'mass_log_msun': 11.502898228473807, 'url': 'http://www.tng-project.org/api/TNG100-1/snapshots/98/subhalos/44/'}, {'id': 45, 'sfr': 0.0, 'mass_log_msun': 11.537246355648945, 'url': 'http://www.tng-project.org/api/TNG100-1/snapshots/98/subhalos/45/'}, {'id': 46, 'sfr': 0.0, 'mass_log_msun': 11.484512092681628, 'url': 'http://www.tng-project.org/api/TNG100-1/snapshots/98/subhalos/46/'}, {'id': 47, 'sfr': 0.0, 'mass_log_msun': 11.517288256133511, 'url': 'http://www.tng-project.org/api/TNG100-1/snapshots/98/subhalos/47/'}, {'id': 48, 'sfr': 1.73317, 'mass_log_msun': 11.516711182703526, 'url': 'http://www.tng-project.org/api/TNG100-1/snapshots/98/subhalos/48/'}, {'id': 49, 'sfr': 0.0, 'mass_log_msun': 11.268382966925929, 'url': 'http://www.tng-project.org/api/TNG100-1/snapshots/98/subhalos/49/'}, {'id': 50, 'sfr': 0.0, 'mass_log_msun': 11.19595763516058, 'url': 'http://www.tng-project.org/api/TNG100-1/snapshots/98/subhalos/50/'}, {'id': 51, 'sfr': 2.17587, 'mass_log_msun': 11.481869408684835, 'url': 'http://www.tng-project.org/api/TNG100-1/snapshots/98/subhalos/51/'}, {'id': 52, 'sfr': 0.0, 'mass_log_msun': 11.381440983091272, 'url': 'http://www.tng-project.org/api/TNG100-1/snapshots/98/subhalos/52/'}, {'id': 53, 'sfr': 0.872738, 'mass_log_msun': 11.43346723337957, 'url': 'http://www.tng-project.org/api/TNG100-1/snapshots/98/subhalos/53/'}, {'id': 54, 'sfr': 0.0, 'mass_log_msun': 11.381925520411079, 'url': 'http://www.tng-project.org/api/TNG100-1/snapshots/98/subhalos/54/'}, {'id': 55, 'sfr': 0.834542, 'mass_log_msun': 11.553034774657604, 'url': 'http://www.tng-project.org/api/TNG100-1/snapshots/98/subhalos/55/'}, {'id': 56, 'sfr': 0.0, 'mass_log_msun': 11.175162780772421, 'url': 'http://www.tng-project.org/api/TNG100-1/snapshots/98/subhalos/56/'}, {'id': 57, 'sfr': 0.0, 'mass_log_msun': 11.483820311459962, 'url': 'http://www.tng-project.org/api/TNG100-1/snapshots/98/subhalos/57/'}, {'id': 58, 'sfr': 0.0, 'mass_log_msun': 11.220087231838326, 'url': 'http://www.tng-project.org/api/TNG100-1/snapshots/98/subhalos/58/'}, {'id': 59, 'sfr': 2.0815, 'mass_log_msun': 11.346546999767488, 'url': 'http://www.tng-project.org/api/TNG100-1/snapshots/98/subhalos/59/'}, {'id': 60, 'sfr': 0.0, 'mass_log_msun': 11.138753812058605, 'url': 'http://www.tng-project.org/api/TNG100-1/snapshots/98/subhalos/60/'}, {'id': 61, 'sfr': 0.289244, 'mass_log_msun': 11.431776733776962, 'url': 'http://www.tng-project.org/api/TNG100-1/snapshots/98/subhalos/61/'}, {'id': 62, 'sfr': 0.0, 'mass_log_msun': 11.270496259135243, 'url': 'http://www.tng-project.org/api/TNG100-1/snapshots/98/subhalos/62/'}, {'id': 63, 'sfr': 1.14117, 'mass_log_msun': 11.340448213302853, 'url': 'http://www.tng-project.org/api/TNG100-1/snapshots/98/subhalos/63/'}, {'id': 64, 'sfr': 0.0, 'mass_log_msun': 11.469358858943854, 'url': 'http://www.tng-project.org/api/TNG100-1/snapshots/98/subhalos/64/'}, {'id': 65, 'sfr': 0.0, 'mass_log_msun': 10.846842042727205, 'url': 'http://www.tng-project.org/api/TNG100-1/snapshots/98/subhalos/65/'}, {'id': 66, 'sfr': 0.0, 'mass_log_msun': 11.249481802317872, 'url': 'http://www.tng-project.org/api/TNG100-1/snapshots/98/subhalos/66/'}, {'id': 67, 'sfr': 0.0, 'mass_log_msun': 10.878824102011723, 'url': 'http://www.tng-project.org/api/TNG100-1/snapshots/98/subhalos/67/'}, {'id': 68, 'sfr': 0.0, 'mass_log_msun': 11.065371176733485, 'url': 'http://www.tng-project.org/api/TNG100-1/snapshots/98/subhalos/68/'}, {'id': 69, 'sfr': 0.0, 'mass_log_msun': 11.17577913533696, 'url': 'http://www.tng-project.org/api/TNG100-1/snapshots/98/subhalos/69/'}, {'id': 70, 'sfr': 0.0, 'mass_log_msun': 10.96034281563031, 'url': 'http://www.tng-project.org/api/TNG100-1/snapshots/98/subhalos/70/'}, {'id': 71, 'sfr': 7.08981, 'mass_log_msun': 11.219839970915528, 'url': 'http://www.tng-project.org/api/TNG100-1/snapshots/98/subhalos/71/'}, {'id': 72, 'sfr': 2.81235, 'mass_log_msun': 11.204656588754336, 'url': 'http://www.tng-project.org/api/TNG100-1/snapshots/98/subhalos/72/'}, {'id': 73, 'sfr': 0.65863, 'mass_log_msun': 11.383410371048077, 'url': 'http://www.tng-project.org/api/TNG100-1/snapshots/98/subhalos/73/'}, {'id': 74, 'sfr': 0.0649721, 'mass_log_msun': 11.31164438779912, 'url': 'http://www.tng-project.org/api/TNG100-1/snapshots/98/subhalos/74/'}, {'id': 75, 'sfr': 0.0890142, 'mass_log_msun': 11.29162627089066, 'url': 'http://www.tng-project.org/api/TNG100-1/snapshots/98/subhalos/75/'}, {'id': 76, 'sfr': 0.0, 'mass_log_msun': 11.32646346129099, 'url': 'http://www.tng-project.org/api/TNG100-1/snapshots/98/subhalos/76/'}, {'id': 77, 'sfr': 0.371215, 'mass_log_msun': 11.397906669168204, 'url': 'http://www.tng-project.org/api/TNG100-1/snapshots/98/subhalos/77/'}, {'id': 78, 'sfr': 0.0, 'mass_log_msun': 11.266412117384808, 'url': 'http://www.tng-project.org/api/TNG100-1/snapshots/98/subhalos/78/'}, {'id': 79, 'sfr': 0.00616157, 'mass_log_msun': 11.377262790444505, 'url': 'http://www.tng-project.org/api/TNG100-1/snapshots/98/subhalos/79/'}, {'id': 80, 'sfr': 0.0, 'mass_log_msun': 11.320592080218143, 'url': 'http://www.tng-project.org/api/TNG100-1/snapshots/98/subhalos/80/'}, {'id': 81, 'sfr': 0.0, 'mass_log_msun': 11.36134020378288, 'url': 'http://www.tng-project.org/api/TNG100-1/snapshots/98/subhalos/81/'}, {'id': 82, 'sfr': 0.0, 'mass_log_msun': 10.891255405117294, 'url': 'http://www.tng-project.org/api/TNG100-1/snapshots/98/subhalos/82/'}, {'id': 83, 'sfr': 0.0, 'mass_log_msun': 11.389461683847422, 'url': 'http://www.tng-project.org/api/TNG100-1/snapshots/98/subhalos/83/'}, {'id': 84, 'sfr': 0.0, 'mass_log_msun': 11.34686441377457, 'url': 'http://www.tng-project.org/api/TNG100-1/snapshots/98/subhalos/84/'}, {'id': 85, 'sfr': 0.251575, 'mass_log_msun': 11.348537099021902, 'url': 'http://www.tng-project.org/api/TNG100-1/snapshots/98/subhalos/85/'}, {'id': 86, 'sfr': 0.0, 'mass_log_msun': 11.261088941230229, 'url': 'http://www.tng-project.org/api/TNG100-1/snapshots/98/subhalos/86/'}, {'id': 87, 'sfr': 0.326575, 'mass_log_msun': 11.343479242064529, 'url': 'http://www.tng-project.org/api/TNG100-1/snapshots/98/subhalos/87/'}, {'id': 88, 'sfr': 0.0, 'mass_log_msun': 10.708602282815898, 'url': 'http://www.tng-project.org/api/TNG100-1/snapshots/98/subhalos/88/'}, {'id': 89, 'sfr': 0.0, 'mass_log_msun': 10.516191941476341, 'url': 'http://www.tng-project.org/api/TNG100-1/snapshots/98/subhalos/89/'}, {'id': 90, 'sfr': 0.4707, 'mass_log_msun': 11.19630047346573, 'url': 'http://www.tng-project.org/api/TNG100-1/snapshots/98/subhalos/90/'}, {'id': 91, 'sfr': 0.0, 'mass_log_msun': 10.884245173952076, 'url': 'http://www.tng-project.org/api/TNG100-1/snapshots/98/subhalos/91/'}, {'id': 92, 'sfr': 0.0, 'mass_log_msun': 10.62243032786173, 'url': 'http://www.tng-project.org/api/TNG100-1/snapshots/98/subhalos/92/'}, {'id': 93, 'sfr': 0.0, 'mass_log_msun': 11.081815721047194, 'url': 'http://www.tng-project.org/api/TNG100-1/snapshots/98/subhalos/93/'}, {'id': 94, 'sfr': 0.0, 'mass_log_msun': 10.625203355757673, 'url': 'http://www.tng-project.org/api/TNG100-1/snapshots/98/subhalos/94/'}, {'id': 95, 'sfr': 0.177148, 'mass_log_msun': 11.234921195314136, 'url': 'http://www.tng-project.org/api/TNG100-1/snapshots/98/subhalos/95/'}, {'id': 96, 'sfr': 0.0, 'mass_log_msun': 11.305247254363604, 'url': 'http://www.tng-project.org/api/TNG100-1/snapshots/98/subhalos/96/'}, {'id': 97, 'sfr': 0.167537, 'mass_log_msun': 11.190492982206504, 'url': 'http://www.tng-project.org/api/TNG100-1/snapshots/98/subhalos/97/'}, {'id': 98, 'sfr': 1.11954, 'mass_log_msun': 11.247412196018121, 'url': 'http://www.tng-project.org/api/TNG100-1/snapshots/98/subhalos/98/'}, {'id': 99, 'sfr': 0.0, 'mass_log_msun': 11.209693858023668, 'url': 'http://www.tng-project.org/api/TNG100-1/snapshots/98/subhalos/99/'}]\n"
     ]
    }
   ],
   "source": [
    "print(subs['results'])"
   ]
  },
  {
   "cell_type": "code",
   "execution_count": 18,
   "metadata": {},
   "outputs": [],
   "source": [
    "# can modify the restrictions on the length of number of subhalos:\n",
    "#subs = get( snap['subhalos'], {'limit':220} )\n",
    "\n",
    "# The ordering is random unless otherwise specified:\n",
    "subs = get( snap['subhalos'], {'limit':20, 'order_by':'-mass_stars'} )\n",
    "# Negative is descending order, otherwise ascending?"
   ]
  },
  {
   "cell_type": "code",
   "execution_count": 19,
   "metadata": {},
   "outputs": [
    {
     "name": "stdout",
     "output_type": "stream",
     "text": [
      "[0, 31158, 68598, 17200, 82416]\n"
     ]
    }
   ],
   "source": [
    "print([ subs['results'][i]['id'] for i in range(5) ])"
   ]
  },
  {
   "cell_type": "code",
   "execution_count": 20,
   "metadata": {},
   "outputs": [],
   "source": [
    "sub = get( subs['results'][1]['url'] )"
   ]
  },
  {
   "cell_type": "code",
   "execution_count": 21,
   "metadata": {},
   "outputs": [
    {
     "data": {
      "text/plain": [
       "{'snap': 98,\n",
       " 'id': 31158,\n",
       " 'bhmdot': 0.00181804,\n",
       " 'cm_x': 10963.4,\n",
       " 'cm_y': 50830.9,\n",
       " 'cm_z': 47608.4,\n",
       " 'gasmetallicity': 0.00584247,\n",
       " 'gasmetallicityhalfrad': 0.00614362,\n",
       " 'gasmetallicitymaxrad': 0.00417512,\n",
       " 'gasmetallicitysfr': 0.013224,\n",
       " 'gasmetallicitysfrweighted': 0.0138786,\n",
       " 'pos_x': 10879.0,\n",
       " 'pos_y': 50869.3,\n",
       " 'pos_z': 47578.6,\n",
       " 'halfmassrad': 511.966,\n",
       " 'halfmassrad_gas': 524.054,\n",
       " 'halfmassrad_dm': 513.168,\n",
       " 'halfmassrad_stars': 57.7242,\n",
       " 'halfmassrad_bhs': 0.0,\n",
       " 'len': 74597135,\n",
       " 'len_gas': 32799392,\n",
       " 'len_dm': 38786628,\n",
       " 'len_stars': 3011112,\n",
       " 'len_bhs': 3,\n",
       " 'mass': 23098.1,\n",
       " 'mass_gas': 3295.88,\n",
       " 'mass_dm': 19609.5,\n",
       " 'mass_stars': 191.82,\n",
       " 'mass_bhs': 0.838334,\n",
       " 'massinhalfrad': 661.511,\n",
       " 'massinhalfrad_gas': 18.6267,\n",
       " 'massinhalfrad_dm': 546.136,\n",
       " 'massinhalfrad_stars': 95.9098,\n",
       " 'massinhalfrad_bhs': 0.838334,\n",
       " 'massinmaxrad': 13513.0,\n",
       " 'massinmaxrad_gas': 1954.22,\n",
       " 'massinmaxrad_dm': 11380.1,\n",
       " 'massinmaxrad_stars': 177.842,\n",
       " 'massinmaxrad_bhs': 0.838334,\n",
       " 'massinrad': 1743.89,\n",
       " 'massinrad_gas': 97.1519,\n",
       " 'massinrad_dm': 1523.43,\n",
       " 'massinrad_stars': 122.467,\n",
       " 'massinrad_bhs': 0.838334,\n",
       " 'sfr': 6.40521,\n",
       " 'sfrinhalfrad': 5.21035,\n",
       " 'sfrinmaxrad': 6.39841,\n",
       " 'sfrinrad': 5.27299,\n",
       " 'spin_x': 12189.9,\n",
       " 'spin_y': -8382.45,\n",
       " 'spin_z': -58481.7,\n",
       " 'starmetallicity': 0.0222767,\n",
       " 'starmetallicityhalfrad': 0.0246558,\n",
       " 'starmetallicitymaxrad': 0.0182223,\n",
       " 'stellarphotometrics_u': -23.912,\n",
       " 'stellarphotometrics_b': -24.2536,\n",
       " 'stellarphotometrics_v': -25.0775,\n",
       " 'stellarphotometrics_k': -27.9474,\n",
       " 'stellarphotometrics_g': -24.6913,\n",
       " 'stellarphotometrics_r': -25.4073,\n",
       " 'stellarphotometrics_i': -25.753,\n",
       " 'stellarphotometrics_z': -25.9988,\n",
       " 'stellarphotometricsmassinrad': 80.6061,\n",
       " 'stellarphotometricsrad': 31.08,\n",
       " 'vel_x': 283.044,\n",
       " 'vel_y': -99.5051,\n",
       " 'vel_z': 79.7601,\n",
       " 'veldisp': 575.993,\n",
       " 'vmax': 992.735,\n",
       " 'vmaxrad': 595.468,\n",
       " 'windmass': 0.009633,\n",
       " 'prog_snap': 97,\n",
       " 'prog_sfid': 30615,\n",
       " 'desc_snap': 99,\n",
       " 'desc_sfid': 31342,\n",
       " 'parent': 0,\n",
       " 'grnr': 2,\n",
       " 'primary_flag': 1,\n",
       " 'mass_log_msun': 14.532731064923247,\n",
       " 'related': {'sublink_progenitor': 'http://www.tng-project.org/api/TNG100-1/snapshots/97/subhalos/30615/',\n",
       "  'sublink_descendant': 'http://www.tng-project.org/api/TNG100-1/snapshots/99/subhalos/31342/',\n",
       "  'parent_halo': 'http://www.tng-project.org/api/TNG100-1/snapshots/98/halos/2/'},\n",
       " 'cutouts': {'subhalo': 'http://www.tng-project.org/api/TNG100-1/snapshots/98/subhalos/31158/cutout.hdf5',\n",
       "  'parent_halo': 'http://www.tng-project.org/api/TNG100-1/snapshots/98/halos/2/cutout.hdf5'},\n",
       " 'trees': {'sublink': 'http://www.tng-project.org/api/TNG100-1/snapshots/98/subhalos/31158/sublink/full.hdf5',\n",
       "  'sublink_mpb': 'http://www.tng-project.org/api/TNG100-1/snapshots/98/subhalos/31158/sublink/mpb.hdf5',\n",
       "  'sublink_mdb': 'http://www.tng-project.org/api/TNG100-1/snapshots/98/subhalos/31158/sublink/mdb.hdf5',\n",
       "  'sublink_simple': 'http://www.tng-project.org/api/TNG100-1/snapshots/98/subhalos/31158/sublink/simple.json',\n",
       "  'lhalotree': 'http://www.tng-project.org/api/TNG100-1/snapshots/98/subhalos/31158/lhalotree/full.hdf5',\n",
       "  'lhalotree_mpb': 'http://www.tng-project.org/api/TNG100-1/snapshots/98/subhalos/31158/lhalotree/mpb.hdf5'},\n",
       " 'supplementary_data': {},\n",
       " 'vis': {'mergertree_sublink': 'http://www.tng-project.org/api/TNG100-1/snapshots/98/subhalos/31158/sublink/tree.png',\n",
       "  'halo_gas_dens': 'http://www.tng-project.org/api/TNG100-1/snapshots/98/subhalos/31158/vis.png?partType=gas',\n",
       "  'halo_gas_temp': 'http://www.tng-project.org/api/TNG100-1/snapshots/98/subhalos/31158/vis.png?partType=gas&partField=temp',\n",
       "  'halo_dm_dens': 'http://www.tng-project.org/api/TNG100-1/snapshots/98/subhalos/31158/vis.png?partType=dm',\n",
       "  'halo_stellar_dens': 'http://www.tng-project.org/api/TNG100-1/snapshots/98/subhalos/31158/vis.png?partType=stars',\n",
       "  'galaxy_gas_dens': 'http://www.tng-project.org/api/TNG100-1/snapshots/98/subhalos/31158/vis.png?partType=gas&size=5.0&sizeType=rHalfMassStars',\n",
       "  'galaxy_gas_dens_faceon': 'http://www.tng-project.org/api/TNG100-1/snapshots/98/subhalos/31158/vis.png?partType=gas&size=5.0&sizeType=rHalfMassStars&rotation=face-on',\n",
       "  'galaxy_stellar_light': 'http://www.tng-project.org/api/TNG100-1/snapshots/98/subhalos/31158/vis.png?partType=stars&partField=stellarComp-jwst_f200w-jwst_f115w-jwst_f070w&size=5.0&sizeType=rHalfMassStars',\n",
       "  'galaxy_stellar_light_faceon': 'http://www.tng-project.org/api/TNG100-1/snapshots/98/subhalos/31158/vis.png?partType=stars&partField=stellarComp-jwst_f200w-jwst_f115w-jwst_f070w&size=5.0&sizeType=rHalfMassStars&rotation=face-on'},\n",
       " 'meta': {'url': 'http://www.tng-project.org/api/TNG100-1/snapshots/98/subhalos/31158/',\n",
       "  'snapshot': 'http://www.tng-project.org/api/TNG100-1/snapshots/98/',\n",
       "  'simulation': 'http://www.tng-project.org/api/TNG100-1/',\n",
       "  'info': 'http://www.tng-project.org/api/TNG100-1/snapshots/98/subhalos/31158/info.json'}}"
      ]
     },
     "execution_count": 21,
     "metadata": {},
     "output_type": "execute_result"
    }
   ],
   "source": [
    "sub # this is the info for the second most massive subhalo"
   ]
  },
  {
   "cell_type": "code",
   "execution_count": 22,
   "metadata": {},
   "outputs": [
    {
     "name": "stdout",
     "output_type": "stream",
     "text": [
      "\n",
      "Progenitors 97 30615\n",
      "Descendents 99 31342\n"
     ]
    }
   ],
   "source": [
    "# Try to look at this galaxy and its descendent in imaging\n",
    "print()\n",
    "print('Progenitors', sub['prog_snap'], sub['prog_sfid'])\n",
    "print('Descendents', sub['desc_snap'],sub['desc_sfid'])"
   ]
  },
  {
   "cell_type": "code",
   "execution_count": 23,
   "metadata": {},
   "outputs": [
    {
     "data": {
      "text/plain": [
       "'http://www.tng-project.org/api/TNG100-1/snapshots/97/subhalos/30615/'"
      ]
     },
     "execution_count": 23,
     "metadata": {},
     "output_type": "execute_result"
    }
   ],
   "source": [
    "sub['related']['sublink_progenitor']"
   ]
  },
  {
   "cell_type": "code",
   "execution_count": 24,
   "metadata": {},
   "outputs": [],
   "source": [
    "snap_prog = get( sub['related']['sublink_progenitor'])\n"
   ]
  },
  {
   "cell_type": "code",
   "execution_count": 25,
   "metadata": {},
   "outputs": [
    {
     "name": "stdout",
     "output_type": "stream",
     "text": [
      "{'snap': 97, 'id': 30615, 'bhmdot': 0.0293793, 'cm_x': 10923.6, 'cm_y': 50844.5, 'cm_z': 47598.7, 'gasmetallicity': 0.00589963, 'gasmetallicityhalfrad': 0.00645494, 'gasmetallicitymaxrad': 0.00411132, 'gasmetallicitysfr': 0.0129335, 'gasmetallicitysfrweighted': 0.0133791, 'pos_x': 10845.5, 'pos_y': 50889.3, 'pos_z': 47560.8, 'halfmassrad': 496.724, 'halfmassrad_gas': 497.726, 'halfmassrad_dm': 500.396, 'halfmassrad_stars': 65.1498, 'halfmassrad_bhs': 0.0, 'len': 74029670, 'len_gas': 32408138, 'len_dm': 38555474, 'len_stars': 3066051, 'len_bhs': 7, 'mass': 22944.6, 'mass_gas': 3255.56, 'mass_dm': 19492.7, 'mass_stars': 195.548, 'mass_bhs': 0.838223, 'massinhalfrad': 756.603, 'massinhalfrad_gas': 24.3844, 'massinhalfrad_dm': 633.607, 'massinhalfrad_stars': 97.7741, 'massinhalfrad_bhs': 0.837452, 'massinmaxrad': 14008.8, 'massinmaxrad_gas': 2060.97, 'massinmaxrad_dm': 11763.6, 'massinmaxrad_stars': 183.447, 'massinmaxrad_bhs': 0.838079, 'massinrad': 2024.45, 'massinrad_gas': 130.042, 'massinrad_dm': 1769.74, 'massinrad_stars': 123.831, 'massinrad_bhs': 0.837633, 'sfr': 7.99865, 'sfrinhalfrad': 6.00733, 'sfrinmaxrad': 7.99039, 'sfrinrad': 6.55521, 'spin_x': 12196.7, 'spin_y': -9264.0, 'spin_z': -59659.4, 'starmetallicity': 0.0221124, 'starmetallicityhalfrad': 0.0244415, 'starmetallicitymaxrad': 0.0179895, 'stellarphotometrics_u': -23.9898, 'stellarphotometrics_b': -24.3097, 'stellarphotometrics_v': -25.1242, 'stellarphotometrics_k': -27.9849, 'stellarphotometrics_g': -24.7433, 'stellarphotometrics_r': -25.4516, 'stellarphotometrics_i': -25.7949, 'stellarphotometrics_z': -26.0392, 'stellarphotometricsmassinrad': 83.1511, 'stellarphotometricsrad': 29.3288, 'vel_x': 280.138, 'vel_y': -96.912, 'vel_z': 80.6922, 'veldisp': 592.765, 'vmax': 1010.24, 'vmaxrad': 604.648, 'windmass': 0.014049, 'prog_snap': 96, 'prog_sfid': 27447, 'desc_snap': 98, 'desc_sfid': 31158, 'parent': 0, 'grnr': 2, 'primary_flag': 1, 'mass_log_msun': 14.52983529860387, 'related': {'sublink_progenitor': 'http://www.tng-project.org/api/TNG100-1/snapshots/96/subhalos/27447/', 'sublink_descendant': 'http://www.tng-project.org/api/TNG100-1/snapshots/98/subhalos/31158/', 'parent_halo': 'http://www.tng-project.org/api/TNG100-1/snapshots/97/halos/2/'}, 'cutouts': {'subhalo': 'http://www.tng-project.org/api/TNG100-1/snapshots/97/subhalos/30615/cutout.hdf5', 'parent_halo': 'http://www.tng-project.org/api/TNG100-1/snapshots/97/halos/2/cutout.hdf5'}, 'trees': {'sublink': 'http://www.tng-project.org/api/TNG100-1/snapshots/97/subhalos/30615/sublink/full.hdf5', 'sublink_mpb': 'http://www.tng-project.org/api/TNG100-1/snapshots/97/subhalos/30615/sublink/mpb.hdf5', 'sublink_mdb': 'http://www.tng-project.org/api/TNG100-1/snapshots/97/subhalos/30615/sublink/mdb.hdf5', 'sublink_simple': 'http://www.tng-project.org/api/TNG100-1/snapshots/97/subhalos/30615/sublink/simple.json', 'lhalotree': 'http://www.tng-project.org/api/TNG100-1/snapshots/97/subhalos/30615/lhalotree/full.hdf5', 'lhalotree_mpb': 'http://www.tng-project.org/api/TNG100-1/snapshots/97/subhalos/30615/lhalotree/mpb.hdf5'}, 'supplementary_data': {}, 'vis': {'mergertree_sublink': 'http://www.tng-project.org/api/TNG100-1/snapshots/97/subhalos/30615/sublink/tree.png', 'halo_gas_dens': 'http://www.tng-project.org/api/TNG100-1/snapshots/97/subhalos/30615/vis.png?partType=gas', 'halo_gas_temp': 'http://www.tng-project.org/api/TNG100-1/snapshots/97/subhalos/30615/vis.png?partType=gas&partField=temp', 'halo_dm_dens': 'http://www.tng-project.org/api/TNG100-1/snapshots/97/subhalos/30615/vis.png?partType=dm', 'halo_stellar_dens': 'http://www.tng-project.org/api/TNG100-1/snapshots/97/subhalos/30615/vis.png?partType=stars', 'galaxy_gas_dens': 'http://www.tng-project.org/api/TNG100-1/snapshots/97/subhalos/30615/vis.png?partType=gas&size=5.0&sizeType=rHalfMassStars', 'galaxy_gas_dens_faceon': 'http://www.tng-project.org/api/TNG100-1/snapshots/97/subhalos/30615/vis.png?partType=gas&size=5.0&sizeType=rHalfMassStars&rotation=face-on', 'galaxy_stellar_light': 'http://www.tng-project.org/api/TNG100-1/snapshots/97/subhalos/30615/vis.png?partType=stars&partField=stellarComp-jwst_f200w-jwst_f115w-jwst_f070w&size=5.0&sizeType=rHalfMassStars', 'galaxy_stellar_light_faceon': 'http://www.tng-project.org/api/TNG100-1/snapshots/97/subhalos/30615/vis.png?partType=stars&partField=stellarComp-jwst_f200w-jwst_f115w-jwst_f070w&size=5.0&sizeType=rHalfMassStars&rotation=face-on'}, 'meta': {'url': 'http://www.tng-project.org/api/TNG100-1/snapshots/97/subhalos/30615/', 'snapshot': 'http://www.tng-project.org/api/TNG100-1/snapshots/97/', 'simulation': 'http://www.tng-project.org/api/TNG100-1/', 'info': 'http://www.tng-project.org/api/TNG100-1/snapshots/97/subhalos/30615/info.json'}}\n"
     ]
    }
   ],
   "source": [
    "print(snap_prog)"
   ]
  },
  {
   "cell_type": "code",
   "execution_count": null,
   "metadata": {},
   "outputs": [],
   "source": []
  },
  {
   "cell_type": "code",
   "execution_count": 26,
   "metadata": {},
   "outputs": [
    {
     "ename": "KeyboardInterrupt",
     "evalue": "",
     "output_type": "error",
     "traceback": [
      "\u001b[0;31m---------------------------------------------------------------------------\u001b[0m",
      "\u001b[0;31mKeyboardInterrupt\u001b[0m                         Traceback (most recent call last)",
      "\u001b[0;32m<ipython-input-26-f814155a49e9>\u001b[0m in \u001b[0;36m<module>\u001b[0;34m\u001b[0m\n\u001b[1;32m     13\u001b[0m         \u001b[0mr\u001b[0m\u001b[0;34m[\u001b[0m\u001b[0mfield\u001b[0m\u001b[0;34m]\u001b[0m\u001b[0;34m.\u001b[0m\u001b[0mappend\u001b[0m\u001b[0;34m(\u001b[0m\u001b[0msub\u001b[0m\u001b[0;34m[\u001b[0m\u001b[0mfield\u001b[0m\u001b[0;34m]\u001b[0m\u001b[0;34m)\u001b[0m\u001b[0;34m\u001b[0m\u001b[0;34m\u001b[0m\u001b[0m\n\u001b[1;32m     14\u001b[0m     \u001b[0;31m# request the full subhalo details of the descendant by following the sublink URL\u001b[0m\u001b[0;34m\u001b[0m\u001b[0;34m\u001b[0m\u001b[0;34m\u001b[0m\u001b[0m\n\u001b[0;32m---> 15\u001b[0;31m     \u001b[0msub\u001b[0m \u001b[0;34m=\u001b[0m \u001b[0mget\u001b[0m\u001b[0;34m(\u001b[0m\u001b[0msub\u001b[0m\u001b[0;34m[\u001b[0m\u001b[0;34m'related'\u001b[0m\u001b[0;34m]\u001b[0m\u001b[0;34m[\u001b[0m\u001b[0;34m'sublink_descendant'\u001b[0m\u001b[0;34m]\u001b[0m\u001b[0;34m)\u001b[0m\u001b[0;34m\u001b[0m\u001b[0;34m\u001b[0m\u001b[0m\n\u001b[0m\u001b[1;32m     16\u001b[0m     \u001b[0;31m# so I think this follows you through the descendents\u001b[0m\u001b[0;34m\u001b[0m\u001b[0;34m\u001b[0m\u001b[0;34m\u001b[0m\u001b[0m\n\u001b[1;32m     17\u001b[0m     \u001b[0;31m# you can also get progenitors using 'sublink_progenitor'\u001b[0m\u001b[0;34m\u001b[0m\u001b[0;34m\u001b[0m\u001b[0;34m\u001b[0m\u001b[0m\n",
      "\u001b[0;32m<ipython-input-2-57329b28285f>\u001b[0m in \u001b[0;36mget\u001b[0;34m(path, params)\u001b[0m\n\u001b[1;32m      8\u001b[0m \u001b[0;32mdef\u001b[0m \u001b[0mget\u001b[0m\u001b[0;34m(\u001b[0m\u001b[0mpath\u001b[0m\u001b[0;34m,\u001b[0m \u001b[0mparams\u001b[0m\u001b[0;34m=\u001b[0m\u001b[0;32mNone\u001b[0m\u001b[0;34m)\u001b[0m\u001b[0;34m:\u001b[0m\u001b[0;34m\u001b[0m\u001b[0;34m\u001b[0m\u001b[0m\n\u001b[1;32m      9\u001b[0m     \u001b[0;31m# make HTTP GET request to path\u001b[0m\u001b[0;34m\u001b[0m\u001b[0;34m\u001b[0m\u001b[0;34m\u001b[0m\u001b[0m\n\u001b[0;32m---> 10\u001b[0;31m     \u001b[0mr\u001b[0m \u001b[0;34m=\u001b[0m \u001b[0mrequests\u001b[0m\u001b[0;34m.\u001b[0m\u001b[0mget\u001b[0m\u001b[0;34m(\u001b[0m\u001b[0mpath\u001b[0m\u001b[0;34m,\u001b[0m \u001b[0mparams\u001b[0m\u001b[0;34m=\u001b[0m\u001b[0mparams\u001b[0m\u001b[0;34m,\u001b[0m \u001b[0mheaders\u001b[0m\u001b[0;34m=\u001b[0m\u001b[0mheaders\u001b[0m\u001b[0;34m)\u001b[0m\u001b[0;34m\u001b[0m\u001b[0;34m\u001b[0m\u001b[0m\n\u001b[0m\u001b[1;32m     11\u001b[0m     \u001b[0;31m# raise exception if response code is not HTTP SUCCESS (200)\u001b[0m\u001b[0;34m\u001b[0m\u001b[0;34m\u001b[0m\u001b[0;34m\u001b[0m\u001b[0m\n\u001b[1;32m     12\u001b[0m     \u001b[0mr\u001b[0m\u001b[0;34m.\u001b[0m\u001b[0mraise_for_status\u001b[0m\u001b[0;34m(\u001b[0m\u001b[0;34m)\u001b[0m\u001b[0;34m\u001b[0m\u001b[0;34m\u001b[0m\u001b[0m\n",
      "\u001b[0;32m~/anaconda3/lib/python3.7/site-packages/requests/api.py\u001b[0m in \u001b[0;36mget\u001b[0;34m(url, params, **kwargs)\u001b[0m\n\u001b[1;32m     73\u001b[0m \u001b[0;34m\u001b[0m\u001b[0m\n\u001b[1;32m     74\u001b[0m     \u001b[0mkwargs\u001b[0m\u001b[0;34m.\u001b[0m\u001b[0msetdefault\u001b[0m\u001b[0;34m(\u001b[0m\u001b[0;34m'allow_redirects'\u001b[0m\u001b[0;34m,\u001b[0m \u001b[0;32mTrue\u001b[0m\u001b[0;34m)\u001b[0m\u001b[0;34m\u001b[0m\u001b[0;34m\u001b[0m\u001b[0m\n\u001b[0;32m---> 75\u001b[0;31m     \u001b[0;32mreturn\u001b[0m \u001b[0mrequest\u001b[0m\u001b[0;34m(\u001b[0m\u001b[0;34m'get'\u001b[0m\u001b[0;34m,\u001b[0m \u001b[0murl\u001b[0m\u001b[0;34m,\u001b[0m \u001b[0mparams\u001b[0m\u001b[0;34m=\u001b[0m\u001b[0mparams\u001b[0m\u001b[0;34m,\u001b[0m \u001b[0;34m**\u001b[0m\u001b[0mkwargs\u001b[0m\u001b[0;34m)\u001b[0m\u001b[0;34m\u001b[0m\u001b[0;34m\u001b[0m\u001b[0m\n\u001b[0m\u001b[1;32m     76\u001b[0m \u001b[0;34m\u001b[0m\u001b[0m\n\u001b[1;32m     77\u001b[0m \u001b[0;34m\u001b[0m\u001b[0m\n",
      "\u001b[0;32m~/anaconda3/lib/python3.7/site-packages/requests/api.py\u001b[0m in \u001b[0;36mrequest\u001b[0;34m(method, url, **kwargs)\u001b[0m\n\u001b[1;32m     58\u001b[0m     \u001b[0;31m# cases, and look like a memory leak in others.\u001b[0m\u001b[0;34m\u001b[0m\u001b[0;34m\u001b[0m\u001b[0;34m\u001b[0m\u001b[0m\n\u001b[1;32m     59\u001b[0m     \u001b[0;32mwith\u001b[0m \u001b[0msessions\u001b[0m\u001b[0;34m.\u001b[0m\u001b[0mSession\u001b[0m\u001b[0;34m(\u001b[0m\u001b[0;34m)\u001b[0m \u001b[0;32mas\u001b[0m \u001b[0msession\u001b[0m\u001b[0;34m:\u001b[0m\u001b[0;34m\u001b[0m\u001b[0;34m\u001b[0m\u001b[0m\n\u001b[0;32m---> 60\u001b[0;31m         \u001b[0;32mreturn\u001b[0m \u001b[0msession\u001b[0m\u001b[0;34m.\u001b[0m\u001b[0mrequest\u001b[0m\u001b[0;34m(\u001b[0m\u001b[0mmethod\u001b[0m\u001b[0;34m=\u001b[0m\u001b[0mmethod\u001b[0m\u001b[0;34m,\u001b[0m \u001b[0murl\u001b[0m\u001b[0;34m=\u001b[0m\u001b[0murl\u001b[0m\u001b[0;34m,\u001b[0m \u001b[0;34m**\u001b[0m\u001b[0mkwargs\u001b[0m\u001b[0;34m)\u001b[0m\u001b[0;34m\u001b[0m\u001b[0;34m\u001b[0m\u001b[0m\n\u001b[0m\u001b[1;32m     61\u001b[0m \u001b[0;34m\u001b[0m\u001b[0m\n\u001b[1;32m     62\u001b[0m \u001b[0;34m\u001b[0m\u001b[0m\n",
      "\u001b[0;32m~/anaconda3/lib/python3.7/site-packages/requests/sessions.py\u001b[0m in \u001b[0;36mrequest\u001b[0;34m(self, method, url, params, data, headers, cookies, files, auth, timeout, allow_redirects, proxies, hooks, stream, verify, cert, json)\u001b[0m\n\u001b[1;32m    531\u001b[0m         }\n\u001b[1;32m    532\u001b[0m         \u001b[0msend_kwargs\u001b[0m\u001b[0;34m.\u001b[0m\u001b[0mupdate\u001b[0m\u001b[0;34m(\u001b[0m\u001b[0msettings\u001b[0m\u001b[0;34m)\u001b[0m\u001b[0;34m\u001b[0m\u001b[0;34m\u001b[0m\u001b[0m\n\u001b[0;32m--> 533\u001b[0;31m         \u001b[0mresp\u001b[0m \u001b[0;34m=\u001b[0m \u001b[0mself\u001b[0m\u001b[0;34m.\u001b[0m\u001b[0msend\u001b[0m\u001b[0;34m(\u001b[0m\u001b[0mprep\u001b[0m\u001b[0;34m,\u001b[0m \u001b[0;34m**\u001b[0m\u001b[0msend_kwargs\u001b[0m\u001b[0;34m)\u001b[0m\u001b[0;34m\u001b[0m\u001b[0;34m\u001b[0m\u001b[0m\n\u001b[0m\u001b[1;32m    534\u001b[0m \u001b[0;34m\u001b[0m\u001b[0m\n\u001b[1;32m    535\u001b[0m         \u001b[0;32mreturn\u001b[0m \u001b[0mresp\u001b[0m\u001b[0;34m\u001b[0m\u001b[0;34m\u001b[0m\u001b[0m\n",
      "\u001b[0;32m~/anaconda3/lib/python3.7/site-packages/requests/sessions.py\u001b[0m in \u001b[0;36msend\u001b[0;34m(self, request, **kwargs)\u001b[0m\n\u001b[1;32m    644\u001b[0m \u001b[0;34m\u001b[0m\u001b[0m\n\u001b[1;32m    645\u001b[0m         \u001b[0;31m# Send the request\u001b[0m\u001b[0;34m\u001b[0m\u001b[0;34m\u001b[0m\u001b[0;34m\u001b[0m\u001b[0m\n\u001b[0;32m--> 646\u001b[0;31m         \u001b[0mr\u001b[0m \u001b[0;34m=\u001b[0m \u001b[0madapter\u001b[0m\u001b[0;34m.\u001b[0m\u001b[0msend\u001b[0m\u001b[0;34m(\u001b[0m\u001b[0mrequest\u001b[0m\u001b[0;34m,\u001b[0m \u001b[0;34m**\u001b[0m\u001b[0mkwargs\u001b[0m\u001b[0;34m)\u001b[0m\u001b[0;34m\u001b[0m\u001b[0;34m\u001b[0m\u001b[0m\n\u001b[0m\u001b[1;32m    647\u001b[0m \u001b[0;34m\u001b[0m\u001b[0m\n\u001b[1;32m    648\u001b[0m         \u001b[0;31m# Total elapsed time of the request (approximately)\u001b[0m\u001b[0;34m\u001b[0m\u001b[0;34m\u001b[0m\u001b[0;34m\u001b[0m\u001b[0m\n",
      "\u001b[0;32m~/anaconda3/lib/python3.7/site-packages/requests/adapters.py\u001b[0m in \u001b[0;36msend\u001b[0;34m(self, request, stream, timeout, verify, cert, proxies)\u001b[0m\n\u001b[1;32m    447\u001b[0m                     \u001b[0mdecode_content\u001b[0m\u001b[0;34m=\u001b[0m\u001b[0;32mFalse\u001b[0m\u001b[0;34m,\u001b[0m\u001b[0;34m\u001b[0m\u001b[0;34m\u001b[0m\u001b[0m\n\u001b[1;32m    448\u001b[0m                     \u001b[0mretries\u001b[0m\u001b[0;34m=\u001b[0m\u001b[0mself\u001b[0m\u001b[0;34m.\u001b[0m\u001b[0mmax_retries\u001b[0m\u001b[0;34m,\u001b[0m\u001b[0;34m\u001b[0m\u001b[0;34m\u001b[0m\u001b[0m\n\u001b[0;32m--> 449\u001b[0;31m                     \u001b[0mtimeout\u001b[0m\u001b[0;34m=\u001b[0m\u001b[0mtimeout\u001b[0m\u001b[0;34m\u001b[0m\u001b[0;34m\u001b[0m\u001b[0m\n\u001b[0m\u001b[1;32m    450\u001b[0m                 )\n\u001b[1;32m    451\u001b[0m \u001b[0;34m\u001b[0m\u001b[0m\n",
      "\u001b[0;32m~/anaconda3/lib/python3.7/site-packages/urllib3/connectionpool.py\u001b[0m in \u001b[0;36murlopen\u001b[0;34m(self, method, url, body, headers, retries, redirect, assert_same_host, timeout, pool_timeout, release_conn, chunked, body_pos, **response_kw)\u001b[0m\n\u001b[1;32m    670\u001b[0m                 \u001b[0mbody\u001b[0m\u001b[0;34m=\u001b[0m\u001b[0mbody\u001b[0m\u001b[0;34m,\u001b[0m\u001b[0;34m\u001b[0m\u001b[0;34m\u001b[0m\u001b[0m\n\u001b[1;32m    671\u001b[0m                 \u001b[0mheaders\u001b[0m\u001b[0;34m=\u001b[0m\u001b[0mheaders\u001b[0m\u001b[0;34m,\u001b[0m\u001b[0;34m\u001b[0m\u001b[0;34m\u001b[0m\u001b[0m\n\u001b[0;32m--> 672\u001b[0;31m                 \u001b[0mchunked\u001b[0m\u001b[0;34m=\u001b[0m\u001b[0mchunked\u001b[0m\u001b[0;34m,\u001b[0m\u001b[0;34m\u001b[0m\u001b[0;34m\u001b[0m\u001b[0m\n\u001b[0m\u001b[1;32m    673\u001b[0m             )\n\u001b[1;32m    674\u001b[0m \u001b[0;34m\u001b[0m\u001b[0m\n",
      "\u001b[0;32m~/anaconda3/lib/python3.7/site-packages/urllib3/connectionpool.py\u001b[0m in \u001b[0;36m_make_request\u001b[0;34m(self, conn, method, url, timeout, chunked, **httplib_request_kw)\u001b[0m\n\u001b[1;32m    385\u001b[0m             \u001b[0mconn\u001b[0m\u001b[0;34m.\u001b[0m\u001b[0mrequest_chunked\u001b[0m\u001b[0;34m(\u001b[0m\u001b[0mmethod\u001b[0m\u001b[0;34m,\u001b[0m \u001b[0murl\u001b[0m\u001b[0;34m,\u001b[0m \u001b[0;34m**\u001b[0m\u001b[0mhttplib_request_kw\u001b[0m\u001b[0;34m)\u001b[0m\u001b[0;34m\u001b[0m\u001b[0;34m\u001b[0m\u001b[0m\n\u001b[1;32m    386\u001b[0m         \u001b[0;32melse\u001b[0m\u001b[0;34m:\u001b[0m\u001b[0;34m\u001b[0m\u001b[0;34m\u001b[0m\u001b[0m\n\u001b[0;32m--> 387\u001b[0;31m             \u001b[0mconn\u001b[0m\u001b[0;34m.\u001b[0m\u001b[0mrequest\u001b[0m\u001b[0;34m(\u001b[0m\u001b[0mmethod\u001b[0m\u001b[0;34m,\u001b[0m \u001b[0murl\u001b[0m\u001b[0;34m,\u001b[0m \u001b[0;34m**\u001b[0m\u001b[0mhttplib_request_kw\u001b[0m\u001b[0;34m)\u001b[0m\u001b[0;34m\u001b[0m\u001b[0;34m\u001b[0m\u001b[0m\n\u001b[0m\u001b[1;32m    388\u001b[0m \u001b[0;34m\u001b[0m\u001b[0m\n\u001b[1;32m    389\u001b[0m         \u001b[0;31m# Reset the timeout for the recv() on the socket\u001b[0m\u001b[0;34m\u001b[0m\u001b[0;34m\u001b[0m\u001b[0;34m\u001b[0m\u001b[0m\n",
      "\u001b[0;32m~/anaconda3/lib/python3.7/http/client.py\u001b[0m in \u001b[0;36mrequest\u001b[0;34m(self, method, url, body, headers, encode_chunked)\u001b[0m\n\u001b[1;32m   1227\u001b[0m                 encode_chunked=False):\n\u001b[1;32m   1228\u001b[0m         \u001b[0;34m\"\"\"Send a complete request to the server.\"\"\"\u001b[0m\u001b[0;34m\u001b[0m\u001b[0;34m\u001b[0m\u001b[0m\n\u001b[0;32m-> 1229\u001b[0;31m         \u001b[0mself\u001b[0m\u001b[0;34m.\u001b[0m\u001b[0m_send_request\u001b[0m\u001b[0;34m(\u001b[0m\u001b[0mmethod\u001b[0m\u001b[0;34m,\u001b[0m \u001b[0murl\u001b[0m\u001b[0;34m,\u001b[0m \u001b[0mbody\u001b[0m\u001b[0;34m,\u001b[0m \u001b[0mheaders\u001b[0m\u001b[0;34m,\u001b[0m \u001b[0mencode_chunked\u001b[0m\u001b[0;34m)\u001b[0m\u001b[0;34m\u001b[0m\u001b[0;34m\u001b[0m\u001b[0m\n\u001b[0m\u001b[1;32m   1230\u001b[0m \u001b[0;34m\u001b[0m\u001b[0m\n\u001b[1;32m   1231\u001b[0m     \u001b[0;32mdef\u001b[0m \u001b[0m_send_request\u001b[0m\u001b[0;34m(\u001b[0m\u001b[0mself\u001b[0m\u001b[0;34m,\u001b[0m \u001b[0mmethod\u001b[0m\u001b[0;34m,\u001b[0m \u001b[0murl\u001b[0m\u001b[0;34m,\u001b[0m \u001b[0mbody\u001b[0m\u001b[0;34m,\u001b[0m \u001b[0mheaders\u001b[0m\u001b[0;34m,\u001b[0m \u001b[0mencode_chunked\u001b[0m\u001b[0;34m)\u001b[0m\u001b[0;34m:\u001b[0m\u001b[0;34m\u001b[0m\u001b[0;34m\u001b[0m\u001b[0m\n",
      "\u001b[0;32m~/anaconda3/lib/python3.7/http/client.py\u001b[0m in \u001b[0;36m_send_request\u001b[0;34m(self, method, url, body, headers, encode_chunked)\u001b[0m\n\u001b[1;32m   1273\u001b[0m             \u001b[0;31m# default charset of iso-8859-1.\u001b[0m\u001b[0;34m\u001b[0m\u001b[0;34m\u001b[0m\u001b[0;34m\u001b[0m\u001b[0m\n\u001b[1;32m   1274\u001b[0m             \u001b[0mbody\u001b[0m \u001b[0;34m=\u001b[0m \u001b[0m_encode\u001b[0m\u001b[0;34m(\u001b[0m\u001b[0mbody\u001b[0m\u001b[0;34m,\u001b[0m \u001b[0;34m'body'\u001b[0m\u001b[0;34m)\u001b[0m\u001b[0;34m\u001b[0m\u001b[0;34m\u001b[0m\u001b[0m\n\u001b[0;32m-> 1275\u001b[0;31m         \u001b[0mself\u001b[0m\u001b[0;34m.\u001b[0m\u001b[0mendheaders\u001b[0m\u001b[0;34m(\u001b[0m\u001b[0mbody\u001b[0m\u001b[0;34m,\u001b[0m \u001b[0mencode_chunked\u001b[0m\u001b[0;34m=\u001b[0m\u001b[0mencode_chunked\u001b[0m\u001b[0;34m)\u001b[0m\u001b[0;34m\u001b[0m\u001b[0;34m\u001b[0m\u001b[0m\n\u001b[0m\u001b[1;32m   1276\u001b[0m \u001b[0;34m\u001b[0m\u001b[0m\n\u001b[1;32m   1277\u001b[0m     \u001b[0;32mdef\u001b[0m \u001b[0mgetresponse\u001b[0m\u001b[0;34m(\u001b[0m\u001b[0mself\u001b[0m\u001b[0;34m)\u001b[0m\u001b[0;34m:\u001b[0m\u001b[0;34m\u001b[0m\u001b[0;34m\u001b[0m\u001b[0m\n",
      "\u001b[0;32m~/anaconda3/lib/python3.7/http/client.py\u001b[0m in \u001b[0;36mendheaders\u001b[0;34m(self, message_body, encode_chunked)\u001b[0m\n\u001b[1;32m   1222\u001b[0m         \u001b[0;32melse\u001b[0m\u001b[0;34m:\u001b[0m\u001b[0;34m\u001b[0m\u001b[0;34m\u001b[0m\u001b[0m\n\u001b[1;32m   1223\u001b[0m             \u001b[0;32mraise\u001b[0m \u001b[0mCannotSendHeader\u001b[0m\u001b[0;34m(\u001b[0m\u001b[0;34m)\u001b[0m\u001b[0;34m\u001b[0m\u001b[0;34m\u001b[0m\u001b[0m\n\u001b[0;32m-> 1224\u001b[0;31m         \u001b[0mself\u001b[0m\u001b[0;34m.\u001b[0m\u001b[0m_send_output\u001b[0m\u001b[0;34m(\u001b[0m\u001b[0mmessage_body\u001b[0m\u001b[0;34m,\u001b[0m \u001b[0mencode_chunked\u001b[0m\u001b[0;34m=\u001b[0m\u001b[0mencode_chunked\u001b[0m\u001b[0;34m)\u001b[0m\u001b[0;34m\u001b[0m\u001b[0;34m\u001b[0m\u001b[0m\n\u001b[0m\u001b[1;32m   1225\u001b[0m \u001b[0;34m\u001b[0m\u001b[0m\n\u001b[1;32m   1226\u001b[0m     def request(self, method, url, body=None, headers={}, *,\n",
      "\u001b[0;32m~/anaconda3/lib/python3.7/http/client.py\u001b[0m in \u001b[0;36m_send_output\u001b[0;34m(self, message_body, encode_chunked)\u001b[0m\n\u001b[1;32m   1014\u001b[0m         \u001b[0mmsg\u001b[0m \u001b[0;34m=\u001b[0m \u001b[0;34mb\"\\r\\n\"\u001b[0m\u001b[0;34m.\u001b[0m\u001b[0mjoin\u001b[0m\u001b[0;34m(\u001b[0m\u001b[0mself\u001b[0m\u001b[0;34m.\u001b[0m\u001b[0m_buffer\u001b[0m\u001b[0;34m)\u001b[0m\u001b[0;34m\u001b[0m\u001b[0;34m\u001b[0m\u001b[0m\n\u001b[1;32m   1015\u001b[0m         \u001b[0;32mdel\u001b[0m \u001b[0mself\u001b[0m\u001b[0;34m.\u001b[0m\u001b[0m_buffer\u001b[0m\u001b[0;34m[\u001b[0m\u001b[0;34m:\u001b[0m\u001b[0;34m]\u001b[0m\u001b[0;34m\u001b[0m\u001b[0;34m\u001b[0m\u001b[0m\n\u001b[0;32m-> 1016\u001b[0;31m         \u001b[0mself\u001b[0m\u001b[0;34m.\u001b[0m\u001b[0msend\u001b[0m\u001b[0;34m(\u001b[0m\u001b[0mmsg\u001b[0m\u001b[0;34m)\u001b[0m\u001b[0;34m\u001b[0m\u001b[0;34m\u001b[0m\u001b[0m\n\u001b[0m\u001b[1;32m   1017\u001b[0m \u001b[0;34m\u001b[0m\u001b[0m\n\u001b[1;32m   1018\u001b[0m         \u001b[0;32mif\u001b[0m \u001b[0mmessage_body\u001b[0m \u001b[0;32mis\u001b[0m \u001b[0;32mnot\u001b[0m \u001b[0;32mNone\u001b[0m\u001b[0;34m:\u001b[0m\u001b[0;34m\u001b[0m\u001b[0;34m\u001b[0m\u001b[0m\n",
      "\u001b[0;32m~/anaconda3/lib/python3.7/http/client.py\u001b[0m in \u001b[0;36msend\u001b[0;34m(self, data)\u001b[0m\n\u001b[1;32m    954\u001b[0m         \u001b[0;32mif\u001b[0m \u001b[0mself\u001b[0m\u001b[0;34m.\u001b[0m\u001b[0msock\u001b[0m \u001b[0;32mis\u001b[0m \u001b[0;32mNone\u001b[0m\u001b[0;34m:\u001b[0m\u001b[0;34m\u001b[0m\u001b[0;34m\u001b[0m\u001b[0m\n\u001b[1;32m    955\u001b[0m             \u001b[0;32mif\u001b[0m \u001b[0mself\u001b[0m\u001b[0;34m.\u001b[0m\u001b[0mauto_open\u001b[0m\u001b[0;34m:\u001b[0m\u001b[0;34m\u001b[0m\u001b[0;34m\u001b[0m\u001b[0m\n\u001b[0;32m--> 956\u001b[0;31m                 \u001b[0mself\u001b[0m\u001b[0;34m.\u001b[0m\u001b[0mconnect\u001b[0m\u001b[0;34m(\u001b[0m\u001b[0;34m)\u001b[0m\u001b[0;34m\u001b[0m\u001b[0;34m\u001b[0m\u001b[0m\n\u001b[0m\u001b[1;32m    957\u001b[0m             \u001b[0;32melse\u001b[0m\u001b[0;34m:\u001b[0m\u001b[0;34m\u001b[0m\u001b[0;34m\u001b[0m\u001b[0m\n\u001b[1;32m    958\u001b[0m                 \u001b[0;32mraise\u001b[0m \u001b[0mNotConnected\u001b[0m\u001b[0;34m(\u001b[0m\u001b[0;34m)\u001b[0m\u001b[0;34m\u001b[0m\u001b[0;34m\u001b[0m\u001b[0m\n",
      "\u001b[0;32m~/anaconda3/lib/python3.7/site-packages/urllib3/connection.py\u001b[0m in \u001b[0;36mconnect\u001b[0;34m(self)\u001b[0m\n\u001b[1;32m    182\u001b[0m \u001b[0;34m\u001b[0m\u001b[0m\n\u001b[1;32m    183\u001b[0m     \u001b[0;32mdef\u001b[0m \u001b[0mconnect\u001b[0m\u001b[0;34m(\u001b[0m\u001b[0mself\u001b[0m\u001b[0;34m)\u001b[0m\u001b[0;34m:\u001b[0m\u001b[0;34m\u001b[0m\u001b[0;34m\u001b[0m\u001b[0m\n\u001b[0;32m--> 184\u001b[0;31m         \u001b[0mconn\u001b[0m \u001b[0;34m=\u001b[0m \u001b[0mself\u001b[0m\u001b[0;34m.\u001b[0m\u001b[0m_new_conn\u001b[0m\u001b[0;34m(\u001b[0m\u001b[0;34m)\u001b[0m\u001b[0;34m\u001b[0m\u001b[0;34m\u001b[0m\u001b[0m\n\u001b[0m\u001b[1;32m    185\u001b[0m         \u001b[0mself\u001b[0m\u001b[0;34m.\u001b[0m\u001b[0m_prepare_conn\u001b[0m\u001b[0;34m(\u001b[0m\u001b[0mconn\u001b[0m\u001b[0;34m)\u001b[0m\u001b[0;34m\u001b[0m\u001b[0;34m\u001b[0m\u001b[0m\n\u001b[1;32m    186\u001b[0m \u001b[0;34m\u001b[0m\u001b[0m\n",
      "\u001b[0;32m~/anaconda3/lib/python3.7/site-packages/urllib3/connection.py\u001b[0m in \u001b[0;36m_new_conn\u001b[0;34m(self)\u001b[0m\n\u001b[1;32m    155\u001b[0m         \u001b[0;32mtry\u001b[0m\u001b[0;34m:\u001b[0m\u001b[0;34m\u001b[0m\u001b[0;34m\u001b[0m\u001b[0m\n\u001b[1;32m    156\u001b[0m             conn = connection.create_connection(\n\u001b[0;32m--> 157\u001b[0;31m                 \u001b[0;34m(\u001b[0m\u001b[0mself\u001b[0m\u001b[0;34m.\u001b[0m\u001b[0m_dns_host\u001b[0m\u001b[0;34m,\u001b[0m \u001b[0mself\u001b[0m\u001b[0;34m.\u001b[0m\u001b[0mport\u001b[0m\u001b[0;34m)\u001b[0m\u001b[0;34m,\u001b[0m \u001b[0mself\u001b[0m\u001b[0;34m.\u001b[0m\u001b[0mtimeout\u001b[0m\u001b[0;34m,\u001b[0m \u001b[0;34m**\u001b[0m\u001b[0mextra_kw\u001b[0m\u001b[0;34m\u001b[0m\u001b[0;34m\u001b[0m\u001b[0m\n\u001b[0m\u001b[1;32m    158\u001b[0m             )\n\u001b[1;32m    159\u001b[0m \u001b[0;34m\u001b[0m\u001b[0m\n",
      "\u001b[0;32m~/anaconda3/lib/python3.7/site-packages/urllib3/util/connection.py\u001b[0m in \u001b[0;36mcreate_connection\u001b[0;34m(address, timeout, source_address, socket_options)\u001b[0m\n\u001b[1;32m     72\u001b[0m             \u001b[0;32mif\u001b[0m \u001b[0msource_address\u001b[0m\u001b[0;34m:\u001b[0m\u001b[0;34m\u001b[0m\u001b[0;34m\u001b[0m\u001b[0m\n\u001b[1;32m     73\u001b[0m                 \u001b[0msock\u001b[0m\u001b[0;34m.\u001b[0m\u001b[0mbind\u001b[0m\u001b[0;34m(\u001b[0m\u001b[0msource_address\u001b[0m\u001b[0;34m)\u001b[0m\u001b[0;34m\u001b[0m\u001b[0;34m\u001b[0m\u001b[0m\n\u001b[0;32m---> 74\u001b[0;31m             \u001b[0msock\u001b[0m\u001b[0;34m.\u001b[0m\u001b[0mconnect\u001b[0m\u001b[0;34m(\u001b[0m\u001b[0msa\u001b[0m\u001b[0;34m)\u001b[0m\u001b[0;34m\u001b[0m\u001b[0;34m\u001b[0m\u001b[0m\n\u001b[0m\u001b[1;32m     75\u001b[0m             \u001b[0;32mreturn\u001b[0m \u001b[0msock\u001b[0m\u001b[0;34m\u001b[0m\u001b[0;34m\u001b[0m\u001b[0m\n\u001b[1;32m     76\u001b[0m \u001b[0;34m\u001b[0m\u001b[0m\n",
      "\u001b[0;31mKeyboardInterrupt\u001b[0m: "
     ]
    }
   ],
   "source": [
    "\n",
    "id = 109974\n",
    "url = \"http://www.tng-project.org/api/TNG100-1/snapshots/68/subhalos/\" + str(id)\n",
    "sub = get(url) # get json response of subhalo properties\n",
    "\n",
    "# prepare dict to hold result arrays\n",
    "fields = ['snap','id','mass_gas','mass_stars','mass_dm','mass_bhs']\n",
    "r = {}\n",
    "for field in fields:\n",
    "    r[field] = []\n",
    " \n",
    "while sub['desc_sfid'] != -1:# so basically walking to present day\n",
    "    for field in fields:\n",
    "        r[field].append(sub[field])\n",
    "    # request the full subhalo details of the descendant by following the sublink URL\n",
    "    sub = get(sub['related']['sublink_descendant'])\n",
    "    # so I think this follows you through the descendents\n",
    "    # you can also get progenitors using 'sublink_progenitor'\n",
    "\n",
    "# make a plot (notice our subhalo falls into a much more massive halo around snapshot 105)\n",
    "for partType in ['gas','dm','stars','bhs']:\n",
    "    mass_logmsun = np.log10( np.array(r['mass_'+partType])*1e10/0.704)\n",
    "    plt.plot(r['snap'],mass_logmsun,label=partType)\n",
    "    \n",
    "plt.xlabel('Snapshot Number')\n",
    "plt.ylabel('Mass [log $M_\\odot$]')\n",
    "plt.legend(loc='lower right');"
   ]
  },
  {
   "cell_type": "code",
   "execution_count": null,
   "metadata": {},
   "outputs": [],
   "source": [
    "# make a plot (notice our subhalo falls into a much more massive halo around snapshot 105)\n",
    "sns.set_context(\"talk\")\n",
    "plt.clf()\n",
    "fig=plt.figure(figsize=(4,3))\n",
    "for partType in ['gas','dm','stars','bhs']:\n",
    "    mass_logmsun = np.log10( np.array(r['mass_'+partType])*1e10/0.704)\n",
    "    plt.plot(r['snap'],mass_logmsun,label=partType)\n",
    "    if partType=='stars':\n",
    "        for j in range(len(mass_logmsun)):\n",
    "            #print('id', r['id'][j])\n",
    "            plt.annotate(str(r['id'][j]), xy=(r['snap'][j], mass_logmsun[j]), xycoords='data', color='red', size=10)\n",
    "\n",
    "\n",
    "plt.xlabel('Snapshot Number')\n",
    "plt.ylabel('Mass [log $M_\\odot$]')\n",
    "plt.xlim([80,85])\n",
    "#plt.legend(loc='lower right')\n",
    "plt.show()"
   ]
  },
  {
   "cell_type": "code",
   "execution_count": 31,
   "metadata": {},
   "outputs": [],
   "source": [
    "def get(path, params=None):\n",
    "    # make HTTP GET request to path\n",
    "    headers = {\"api-key\":\"3b865713af85f5da0dba3b577e289484\"}\n",
    "    r = requests.get(path, params=params, headers=headers)\n",
    "    # raise exception if response code is not HTTP SUCCESS (200)\n",
    "    r.raise_for_status()\n",
    "\n",
    "    if r.headers['content-type'] == 'application/json':\n",
    "        return r.json() # parse json responses automatically\n",
    "\n",
    "    if 'content-disposition' in r.headers:\n",
    "        filename = r.headers['content-disposition'].split(\"filename=\")[1]\n",
    "        with open(filename, 'wb') as f:\n",
    "            f.write(r.content)\n",
    "        return filename # return the filename string\n",
    "    return r"
   ]
  },
  {
   "cell_type": "code",
   "execution_count": 29,
   "metadata": {
    "scrolled": true
   },
   "outputs": [
    {
     "name": "stdout",
     "output_type": "stream",
     "text": [
      "[68, 69, 70, 71, 72, 73, 74, 75, 76, 77, 78, 79, 80, 81, 82, 83, 84, 85, 86, 87, 88, 89, 90, 91, 92, 93, 94, 95, 96, 97, 98] [109974, 112238, 111850, 116953, 119774, 128871, 130359, 132504, 585890, 448800, 450644, 151019, 151856, 161411, 652272, 656768, 660174, 666915, 670745, 684734, 687591, 693683, 699942, 706410, 710100, 712858, 715071, 715624, 715072, 715180, 214152]\n",
      "id 109974 snap 68\n",
      "id 112238 snap 69\n",
      "id 111850 snap 70\n",
      "id 116953 snap 71\n",
      "id 119774 snap 72\n",
      "id 128871 snap 73\n",
      "id 130359 snap 74\n",
      "id 132504 snap 75\n",
      "id 585890 snap 76\n",
      "id 448800 snap 77\n",
      "id 450644 snap 78\n",
      "id 151019 snap 79\n",
      "id 151856 snap 80\n"
     ]
    },
    {
     "data": {
      "image/png": "[encoded data removed]",
      "text/plain": [
       "<Figure size 432x288 with 1 Axes>"
      ]
     },
     "metadata": {
      "needs_background": "light"
     },
     "output_type": "display_data"
    },
    {
     "name": "stdout",
     "output_type": "stream",
     "text": [
      "id 161411 snap 81\n"
     ]
    },
    {
     "data": {
      "image/png": "[encoded data removed]",
      "text/plain": [
       "<Figure size 432x288 with 1 Axes>"
      ]
     },
     "metadata": {
      "needs_background": "light"
     },
     "output_type": "display_data"
    },
    {
     "name": "stdout",
     "output_type": "stream",
     "text": [
      "id 652272 snap 82\n"
     ]
    },
    {
     "data": {
      "image/png": "[encoded data removed]",
      "text/plain": [
       "<Figure size 432x288 with 1 Axes>"
      ]
     },
     "metadata": {
      "needs_background": "light"
     },
     "output_type": "display_data"
    },
    {
     "name": "stdout",
     "output_type": "stream",
     "text": [
      "id 656768 snap 83\n"
     ]
    },
    {
     "data": {
      "image/png": "[encoded data removed]",
      "text/plain": [
       "<Figure size 432x288 with 1 Axes>"
      ]
     },
     "metadata": {
      "needs_background": "light"
     },
     "output_type": "display_data"
    },
    {
     "name": "stdout",
     "output_type": "stream",
     "text": [
      "id 660174 snap 84\n"
     ]
    },
    {
     "data": {
      "image/png": "[encoded data removed]",
      "text/plain": [
       "<Figure size 432x288 with 1 Axes>"
      ]
     },
     "metadata": {
      "needs_background": "light"
     },
     "output_type": "display_data"
    },
    {
     "name": "stdout",
     "output_type": "stream",
     "text": [
      "id 666915 snap 85\n"
     ]
    },
    {
     "data": {
      "image/png": "[encoded data removed]",
      "text/plain": [
       "<Figure size 432x288 with 1 Axes>"
      ]
     },
     "metadata": {
      "needs_background": "light"
     },
     "output_type": "display_data"
    },
    {
     "name": "stdout",
     "output_type": "stream",
     "text": [
      "id 670745 snap 86\n"
     ]
    },
    {
     "data": {
      "image/png": "[encoded data removed]",
      "text/plain": [
       "<Figure size 432x288 with 1 Axes>"
      ]
     },
     "metadata": {
      "needs_background": "light"
     },
     "output_type": "display_data"
    },
    {
     "name": "stdout",
     "output_type": "stream",
     "text": [
      "id 684734 snap 87\n"
     ]
    },
    {
     "data": {
      "image/png": "[encoded data removed]",
      "text/plain": [
       "<Figure size 432x288 with 1 Axes>"
      ]
     },
     "metadata": {
      "needs_background": "light"
     },
     "output_type": "display_data"
    },
    {
     "name": "stdout",
     "output_type": "stream",
     "text": [
      "id 687591 snap 88\n"
     ]
    },
    {
     "data": {
      "image/png": "[encoded data removed]",
      "text/plain": [
       "<Figure size 432x288 with 1 Axes>"
      ]
     },
     "metadata": {
      "needs_background": "light"
     },
     "output_type": "display_data"
    },
    {
     "name": "stdout",
     "output_type": "stream",
     "text": [
      "id 693683 snap 89\n"
     ]
    },
    {
     "data": {
      "image/png": "[encoded data removed]",
      "text/plain": [
       "<Figure size 432x288 with 1 Axes>"
      ]
     },
     "metadata": {
      "needs_background": "light"
     },
     "output_type": "display_data"
    },
    {
     "name": "stdout",
     "output_type": "stream",
     "text": [
      "id 699942 snap 90\n"
     ]
    },
    {
     "data": {
      "image/png": "[encoded data removed]",
      "text/plain": [
       "<Figure size 432x288 with 1 Axes>"
      ]
     },
     "metadata": {
      "needs_background": "light"
     },
     "output_type": "display_data"
    },
    {
     "name": "stdout",
     "output_type": "stream",
     "text": [
      "id 706410 snap 91\n",
      "id 710100 snap 92\n",
      "id 712858 snap 93\n",
      "id 715071 snap 94\n",
      "id 715624 snap 95\n",
      "id 715072 snap 96\n",
      "id 715180 snap 97\n",
      "id 214152 snap 98\n"
     ]
    }
   ],
   "source": [
    "# Okay now plot the snapshot for the above before and after case :)\n",
    "#['snap','id','mass_gas','mass_stars','mass_dm','mass_bhs']\n",
    "\n",
    "\n",
    "'''snaplist = np.arange(0,100)[::-1]\n",
    "redshift = np.array([20,15,12,11,10,9.4,9,8.5,8,7.6,7.2,7,6.5,6,5.8,5.5,5.2,5,4.7,4.4,\n",
    "                     4.2,4,3.7,3.5,3.3,3,2.9,2.7,2.6,2.4,2.3,2.2,2.1,2,1.9,1.8,1.7,1.7,1.6,1.5,\n",
    "                     1.5,1.4,1.4,1.3,1.3,1.2,1.2,1.1,1.1,1,1,0.96,0.92,0.88,0.85,0.82,0.79,0.76,0.73,0.7,\n",
    "                     0.67,0.65,0.62,0.6,0.57,0.55,0.53,0.5,0.48,0.46,0.44,0.42,\n",
    "                     0.4,0.38,0.36,0.35,0.33,0.31,0.3,0.28,0.26,0.24,0.23,0.21,0.2,0.18,0.17,\n",
    "                     0.15,0.14,0.13,0.11,0.1,0.086,0.073,0.06,0.048,0.035,0.023,0.012,0])[::-1]\n",
    "print('snaps', snaplist)\n",
    "print('redshift', redshift)\n",
    "STOP'''\n",
    "\n",
    "import h5py\n",
    "print(r['snap'], r['id'])\n",
    "\n",
    "ids = r['id']\n",
    "snaps = r['snap']\n",
    "\n",
    "little_h = 0.704\n",
    "\n",
    "cutout_request = {'gas':'Coordinates,Masses'}#was {'gas':'Coordinates,Masses'}\n",
    "#{'stars':'Coordinates,GFM_Metallicity'}\n",
    "\n",
    "# it is of course possible this data product does not exist for all requested subhalos\n",
    "for j in range(len(ids)):\n",
    "    \n",
    "    idj = ids[j]\n",
    "    snap = snaps[j]\n",
    "    \n",
    "    print('id', idj, 'snap', snap)\n",
    "    if snap <80 or snap > 90:\n",
    "        continue\n",
    "        \n",
    "    redshift_url = \"http://www.tng-project.org/api/TNG100-1/snapshots/\"+str(snap)\n",
    "    scale_factor =  1 / (1 + get(redshift_url)['redshift'])\n",
    "    \n",
    "    sub_prog_url = \"http://www.tng-project.org/api/TNG100-1/snapshots/\"+str(snap)+\"/subhalos/\" + str(idj)\n",
    "    sub_prog = get(sub_prog_url)\n",
    "    \n",
    "    cutout = get(sub_prog_url+\"/cutout.hdf5\", cutout_request)\n",
    "    with h5py.File(cutout,'r') as f:\n",
    "        x = f['PartType0']['Coordinates'][:,0] - sub_prog['pos_x']\n",
    "        y = f['PartType0']['Coordinates'][:,1] - sub_prog['pos_y']\n",
    "        \n",
    "        x *= scale_factor/little_h\n",
    "        y *= scale_factor/little_h\n",
    "        #rr *= scale_factor/little_h # ckpc/h -> physical kpc\n",
    "        #scale_factor = 1.0 / (1+redshift)\n",
    "        #little_h = 0.704\n",
    "        dens = np.log10(f['PartType0']['Masses'][:])\n",
    "    plt.hist2d(x,y,weights=dens,bins=[150,100], cmap='RdYlGn')\n",
    "    plt.xlabel('$\\Delta x$ [kpc]')\n",
    "    plt.ylabel('$\\Delta y$ [kpc]');\n",
    "    plt.title('Snap = '+str(snap)+' ID = '+str(idj))\n",
    "    plt.show()"
   ]
  },
  {
   "cell_type": "markdown",
   "metadata": {},
   "source": [
    "### The main question that I have is how to load a tree so I can then walk through it"
   ]
  },
  {
   "cell_type": "code",
   "execution_count": 30,
   "metadata": {},
   "outputs": [
    {
     "data": {
      "text/plain": [
       "{'number': 99,\n",
       " 'redshift': 2.22044604925031e-16,\n",
       " 'num_groups_subfind': 4371211,\n",
       " 'url': 'http://www.tng-project.org/api/TNG100-1/snapshots/99/'}"
      ]
     },
     "execution_count": 30,
     "metadata": {},
     "output_type": "execute_result"
    }
   ],
   "source": [
    "i = names.index('TNG100-1')#Illustris-1')\n",
    "baseUrl = 'http://www.tng-project.org/api/'\n",
    "r = get(baseUrl)\n",
    "sim = get( r['simulations'][i]['url'] )\n",
    "snaps = get( sim['snapshots'] )\n",
    "snaps[-1]"
   ]
  },
  {
   "cell_type": "code",
   "execution_count": 31,
   "metadata": {},
   "outputs": [
    {
     "name": "stdout",
     "output_type": "stream",
     "text": [
      "99\n",
      "{'snap': 99, 'id': 17185, 'bhmdot': 9.72462e-05, 'cm_x': 19809.4, 'cm_y': 47835.8, 'cm_z': 48903.6, 'gasmetallicity': 0.00436775, 'gasmetallicityhalfrad': 0.0045686, 'gasmetallicitymaxrad': 0.00359437, 'gasmetallicitysfr': 0.0087547, 'gasmetallicitysfrweighted': 0.00880867, 'pos_x': 19755.3, 'pos_y': 47555.0, 'pos_z': 48920.6, 'halfmassrad': 682.504, 'halfmassrad_gas': 685.717, 'halfmassrad_dm': 684.591, 'halfmassrad_stars': 88.3385, 'halfmassrad_bhs': 0.0, 'len': 84913532, 'len_gas': 35544745, 'len_dm': 46946727, 'len_stars': 2422056, 'len_bhs': 4, 'mass': 27463.6, 'mass_gas': 3573.19, 'mass_dm': 23735.1, 'mass_stars': 154.816, 'mass_bhs': 0.558348, 'massinhalfrad': 839.234, 'massinhalfrad_gas': 24.8743, 'massinhalfrad_dm': 736.394, 'massinhalfrad_stars': 77.4079, 'massinhalfrad_bhs': 0.557978, 'massinmaxrad': 20546.2, 'massinmaxrad_gas': 2870.99, 'massinmaxrad_dm': 17528.6, 'massinmaxrad_stars': 146.032, 'massinmaxrad_bhs': 0.558218, 'massinrad': 2195.78, 'massinrad_gas': 128.053, 'massinrad_dm': 1970.26, 'massinrad_stars': 96.905, 'massinrad_bhs': 0.557978, 'sfr': 2.65302, 'sfrinhalfrad': 0.745663, 'sfrinmaxrad': 2.65302, 'sfrinrad': 1.65766, 'spin_x': 4050.22, 'spin_y': -18174.4, 'spin_z': -19789.6, 'starmetallicity': 0.0209396, 'starmetallicityhalfrad': 0.0234063, 'starmetallicitymaxrad': 0.0165932, 'stellarphotometrics_u': -23.6917, 'stellarphotometrics_b': -24.0385, 'stellarphotometrics_v': -24.8665, 'stellarphotometrics_k': -27.6985, 'stellarphotometrics_g': -24.4784, 'stellarphotometrics_r': -25.196, 'stellarphotometrics_i': -25.5378, 'stellarphotometrics_z': -25.7762, 'stellarphotometricsmassinrad': 50.5052, 'stellarphotometricsrad': 24.0424, 'vel_x': -175.534, 'vel_y': 79.7657, 'vel_z': -6.1149, 'veldisp': 594.971, 'vmax': 959.353, 'vmaxrad': 960.357, 'windmass': 0.028896, 'prog_snap': 98, 'prog_sfid': 17200, 'desc_snap': -1, 'desc_sfid': -1, 'parent': 0, 'grnr': 1, 'primary_flag': 1, 'mass_log_msun': 14.607912272771992, 'related': {'sublink_progenitor': 'http://www.tng-project.org/api/TNG100-1/snapshots/98/subhalos/17200/', 'sublink_descendant': None, 'parent_halo': 'http://www.tng-project.org/api/TNG100-1/snapshots/99/halos/1/'}, 'cutouts': {'subhalo': 'http://www.tng-project.org/api/TNG100-1/snapshots/99/subhalos/17185/cutout.hdf5', 'parent_halo': 'http://www.tng-project.org/api/TNG100-1/snapshots/99/halos/1/cutout.hdf5'}, 'trees': {'sublink': 'http://www.tng-project.org/api/TNG100-1/snapshots/99/subhalos/17185/sublink/full.hdf5', 'sublink_mpb': 'http://www.tng-project.org/api/TNG100-1/snapshots/99/subhalos/17185/sublink/mpb.hdf5', 'sublink_mdb': 'http://www.tng-project.org/api/TNG100-1/snapshots/99/subhalos/17185/sublink/mdb.hdf5', 'sublink_simple': 'http://www.tng-project.org/api/TNG100-1/snapshots/99/subhalos/17185/sublink/simple.json', 'lhalotree': 'http://www.tng-project.org/api/TNG100-1/snapshots/99/subhalos/17185/lhalotree/full.hdf5', 'lhalotree_mpb': 'http://www.tng-project.org/api/TNG100-1/snapshots/99/subhalos/17185/lhalotree/mpb.hdf5'}, 'supplementary_data': {'skirt_images': {'fits_sdss': 'http://www.tng-project.org/api/TNG100-1/snapshots/99/subhalos/17185/skirt/broadband_sdss.fits', 'image_g_sdss': 'http://www.tng-project.org/api/TNG100-1/snapshots/99/subhalos/17185/skirt/image_g_sdss.png', 'image_i_sdss': 'http://www.tng-project.org/api/TNG100-1/snapshots/99/subhalos/17185/skirt/image_i_sdss.png', 'fits_pogs': 'http://www.tng-project.org/api/TNG100-1/snapshots/99/subhalos/17185/skirt/broadband_pogs.fits', 'image_g_pogs': 'http://www.tng-project.org/api/TNG100-1/snapshots/99/subhalos/17185/skirt/image_g_pogs.png', 'image_i_pogs': 'http://www.tng-project.org/api/TNG100-1/snapshots/99/subhalos/17185/skirt/image_i_pogs.png'}}, 'vis': {'mergertree_sublink': 'http://www.tng-project.org/api/TNG100-1/snapshots/99/subhalos/17185/sublink/tree.png', 'halo_gas_dens': 'http://www.tng-project.org/api/TNG100-1/snapshots/99/subhalos/17185/vis.png?partType=gas', 'halo_gas_temp': 'http://www.tng-project.org/api/TNG100-1/snapshots/99/subhalos/17185/vis.png?partType=gas&partField=temp', 'halo_dm_dens': 'http://www.tng-project.org/api/TNG100-1/snapshots/99/subhalos/17185/vis.png?partType=dm', 'halo_stellar_dens': 'http://www.tng-project.org/api/TNG100-1/snapshots/99/subhalos/17185/vis.png?partType=stars', 'galaxy_gas_dens': 'http://www.tng-project.org/api/TNG100-1/snapshots/99/subhalos/17185/vis.png?partType=gas&size=5.0&sizeType=rHalfMassStars', 'galaxy_gas_dens_faceon': 'http://www.tng-project.org/api/TNG100-1/snapshots/99/subhalos/17185/vis.png?partType=gas&size=5.0&sizeType=rHalfMassStars&rotation=face-on', 'galaxy_stellar_light': 'http://www.tng-project.org/api/TNG100-1/snapshots/99/subhalos/17185/vis.png?partType=stars&partField=stellarComp-jwst_f200w-jwst_f115w-jwst_f070w&size=5.0&sizeType=rHalfMassStars', 'galaxy_stellar_light_faceon': 'http://www.tng-project.org/api/TNG100-1/snapshots/99/subhalos/17185/vis.png?partType=stars&partField=stellarComp-jwst_f200w-jwst_f115w-jwst_f070w&size=5.0&sizeType=rHalfMassStars&rotation=face-on'}, 'meta': {'url': 'http://www.tng-project.org/api/TNG100-1/snapshots/99/subhalos/17185/', 'snapshot': 'http://www.tng-project.org/api/TNG100-1/snapshots/99/', 'simulation': 'http://www.tng-project.org/api/TNG100-1/', 'info': 'http://www.tng-project.org/api/TNG100-1/snapshots/99/subhalos/17185/info.json'}}\n"
     ]
    }
   ],
   "source": [
    "snap = get( snaps[-1]['url'] )# -1 is redshift zero\n",
    "#print(snap)\n",
    "print(snap['number'])\n",
    "subs = get( snap['subhalos'], {'limit':3, 'order_by':'-mass_stars'} )\n",
    "# limit to one to make it smaller, this is \n",
    "sub = get( subs['results'][2]['url'] )\n",
    "print(sub)\n"
   ]
  },
  {
   "cell_type": "code",
   "execution_count": 32,
   "metadata": {},
   "outputs": [],
   "source": [
    "url_json = sub['trees']['sublink_simple']\n",
    "url_tree_png = sub['vis']['mergertree_sublink']\n",
    "\n",
    "#url_skirt = sub['supplementary_data']['stellar_mocks']['image_subhalo']\n",
    "#['supplementary_data']['skirt_images']['image_g_sdss']\n",
    "\n",
    "url_tree = sub['trees']['sublink']#was 'sublink_mpb'\n",
    "def get(path, params=None):\n",
    "    # make HTTP GET request to path\n",
    "    r = requests.get(path, params=params, headers=headers)\n",
    "\n",
    "    # raise exception if response code is not HTTP SUCCESS (200)\n",
    "    r.raise_for_status()\n",
    "\n",
    "    if r.headers['content-type'] == 'application/json':\n",
    "        return r.json() # parse json responses automatically\n",
    "\n",
    "    if 'content-disposition' in r.headers:\n",
    "        filename = r.headers['content-disposition'].split(\"filename=\")[1]\n",
    "        with open(filename, 'wb') as f:\n",
    "            f.write(r.content)\n",
    "        return filename # return the filename string\n",
    "\n",
    "    return r"
   ]
  },
  {
   "cell_type": "code",
   "execution_count": 99,
   "metadata": {},
   "outputs": [
    {
     "name": "stdout",
     "output_type": "stream",
     "text": [
      "{'number': 99, 'redshift': 2.22044604925031e-16, 'num_groups_subfind': 4371211, 'url': 'http://www.tng-project.org/api/TNG100-1/snapshots/99/'}\n",
      "checking if this is a url http://www.tng-project.org/api/TNG100-1/snapshots/99/subhalos/17185/\n",
      "{'mergertree_sublink': 'http://www.tng-project.org/api/TNG100-1/snapshots/99/subhalos/17185/sublink/tree.png', 'halo_gas_dens': 'http://www.tng-project.org/api/TNG100-1/snapshots/99/subhalos/17185/vis.png?partType=gas', 'halo_gas_temp': 'http://www.tng-project.org/api/TNG100-1/snapshots/99/subhalos/17185/vis.png?partType=gas&partField=temp', 'halo_dm_dens': 'http://www.tng-project.org/api/TNG100-1/snapshots/99/subhalos/17185/vis.png?partType=dm', 'halo_stellar_dens': 'http://www.tng-project.org/api/TNG100-1/snapshots/99/subhalos/17185/vis.png?partType=stars', 'galaxy_gas_dens': 'http://www.tng-project.org/api/TNG100-1/snapshots/99/subhalos/17185/vis.png?partType=gas&size=5.0&sizeType=rHalfMassStars', 'galaxy_gas_dens_faceon': 'http://www.tng-project.org/api/TNG100-1/snapshots/99/subhalos/17185/vis.png?partType=gas&size=5.0&sizeType=rHalfMassStars&rotation=face-on', 'galaxy_stellar_light': 'http://www.tng-project.org/api/TNG100-1/snapshots/99/subhalos/17185/vis.png?partType=stars&partField=stellarComp-jwst_f200w-jwst_f115w-jwst_f070w&size=5.0&sizeType=rHalfMassStars', 'galaxy_stellar_light_faceon': 'http://www.tng-project.org/api/TNG100-1/snapshots/99/subhalos/17185/vis.png?partType=stars&partField=stellarComp-jwst_f200w-jwst_f115w-jwst_f070w&size=5.0&sizeType=rHalfMassStars&rotation=face-on'}\n",
      "{'fits_sdss': 'http://www.tng-project.org/api/TNG100-1/snapshots/99/subhalos/17185/skirt/broadband_sdss.fits', 'image_g_sdss': 'http://www.tng-project.org/api/TNG100-1/snapshots/99/subhalos/17185/skirt/image_g_sdss.png', 'image_i_sdss': 'http://www.tng-project.org/api/TNG100-1/snapshots/99/subhalos/17185/skirt/image_i_sdss.png', 'fits_pogs': 'http://www.tng-project.org/api/TNG100-1/snapshots/99/subhalos/17185/skirt/broadband_pogs.fits', 'image_g_pogs': 'http://www.tng-project.org/api/TNG100-1/snapshots/99/subhalos/17185/skirt/image_g_pogs.png', 'image_i_pogs': 'http://www.tng-project.org/api/TNG100-1/snapshots/99/subhalos/17185/skirt/image_i_pogs.png'}\n",
      "18978\n",
      "98 17579\n"
     ]
    },
    {
     "ename": "TypeError",
     "evalue": "string indices must be integers",
     "output_type": "error",
     "traceback": [
      "\u001b[0;31m---------------------------------------------------------------------------\u001b[0m",
      "\u001b[0;31mTypeError\u001b[0m                                 Traceback (most recent call last)",
      "\u001b[0;32m<ipython-input-99-565cf05aca0b>\u001b[0m in \u001b[0;36m<module>\u001b[0;34m\u001b[0m\n\u001b[1;32m     74\u001b[0m \u001b[0;34m\u001b[0m\u001b[0m\n\u001b[1;32m     75\u001b[0m         \u001b[0mtree\u001b[0m \u001b[0;34m=\u001b[0m \u001b[0mget\u001b[0m\u001b[0;34m(\u001b[0m\u001b[0murl_tree\u001b[0m\u001b[0;34m)\u001b[0m\u001b[0;31m#,  onlyMPB=True)#fields=fields,\u001b[0m\u001b[0;34m\u001b[0m\u001b[0;34m\u001b[0m\u001b[0m\n\u001b[0;32m---> 76\u001b[0;31m         \u001b[0mmass\u001b[0m \u001b[0;34m=\u001b[0m \u001b[0mmaxPastMass_and_index\u001b[0m\u001b[0;34m(\u001b[0m\u001b[0mtree\u001b[0m\u001b[0;34m,\u001b[0m \u001b[0;36m0\u001b[0m\u001b[0;34m,\u001b[0m \u001b[0;34m'stars'\u001b[0m\u001b[0;34m)\u001b[0m\u001b[0;34m\u001b[0m\u001b[0;34m\u001b[0m\u001b[0m\n\u001b[0m\u001b[1;32m     77\u001b[0m         \u001b[0mprint\u001b[0m\u001b[0;34m(\u001b[0m\u001b[0;34m'mass'\u001b[0m\u001b[0;34m,\u001b[0m \u001b[0mmass\u001b[0m\u001b[0;34m)\u001b[0m\u001b[0;34m\u001b[0m\u001b[0;34m\u001b[0m\u001b[0m\n\u001b[1;32m     78\u001b[0m         '''\n",
      "\u001b[0;32m<ipython-input-98-e3b9997cc1f8>\u001b[0m in \u001b[0;36mmaxPastMass_and_index\u001b[0;34m(tree, index, partType)\u001b[0m\n\u001b[1;32m    362\u001b[0m     \u001b[0;31m# since the subhalo IDs increase by one along the main branch, this will give you the number of\u001b[0m\u001b[0;34m\u001b[0m\u001b[0;34m\u001b[0m\u001b[0;34m\u001b[0m\u001b[0m\n\u001b[1;32m    363\u001b[0m     \u001b[0;31m# indices to increase by\u001b[0m\u001b[0;34m\u001b[0m\u001b[0;34m\u001b[0m\u001b[0;34m\u001b[0m\u001b[0m\n\u001b[0;32m--> 364\u001b[0;31m     \u001b[0mbranchSize\u001b[0m \u001b[0;34m=\u001b[0m \u001b[0mtree\u001b[0m\u001b[0;34m[\u001b[0m\u001b[0;34m'MainLeafProgenitorID'\u001b[0m\u001b[0;34m]\u001b[0m\u001b[0;34m[\u001b[0m\u001b[0mindex\u001b[0m\u001b[0;34m]\u001b[0m \u001b[0;34m-\u001b[0m \u001b[0mtree\u001b[0m\u001b[0;34m[\u001b[0m\u001b[0;34m'SubhaloID'\u001b[0m\u001b[0;34m]\u001b[0m\u001b[0;34m[\u001b[0m\u001b[0mindex\u001b[0m\u001b[0;34m]\u001b[0m \u001b[0;34m+\u001b[0m \u001b[0;36m1\u001b[0m\u001b[0;34m\u001b[0m\u001b[0;34m\u001b[0m\u001b[0m\n\u001b[0m\u001b[1;32m    365\u001b[0m \u001b[0;34m\u001b[0m\u001b[0m\n\u001b[1;32m    366\u001b[0m     \u001b[0;31m# Create a list of masses along the main branch\u001b[0m\u001b[0;34m\u001b[0m\u001b[0;34m\u001b[0m\u001b[0;34m\u001b[0m\u001b[0m\n",
      "\u001b[0;31mTypeError\u001b[0m: string indices must be integers"
     ]
    }
   ],
   "source": [
    "import illustris_python as ill\n",
    "# Get them images:\n",
    "import matplotlib.image as mpimg\n",
    "try:\n",
    "    from StringIO import StringIO ## for Python 2\n",
    "except ImportError:\n",
    "    from io import BytesIO ## for Python 3\n",
    "\n",
    "#using the json file you can\n",
    "#retrieve a simple representation of the SubLink tree, \n",
    "#the Main Progenitor Branch (in 'Main') and a list of past mergers (in 'Mergers') only. \n",
    "#In both cases a snapshot number and subfind ID pair is given.\n",
    "i = names.index('TNG100-1')#Illustris-1')\n",
    "baseUrl = 'http://www.tng-project.org/api/'\n",
    "r = get(baseUrl)\n",
    "sim = get( r['simulations'][i]['url'] )\n",
    "snaps = get( sim['snapshots'] )\n",
    "\n",
    "\n",
    "print(snaps[99])\n",
    "snap = get( snaps[-1]['url'] )# -1 is redshift zero\n",
    "subs = get( snap['subhalos'], {'limit':3, 'order_by':'-mass_stars'} )\n",
    "sub = get( subs['results'][2]['url'] )\n",
    "print('checking if this is a url', subs['results'][2]['url'])\n",
    "print(sub['vis'])\n",
    "stars = get(sub['vis']['galaxy_stellar_light'])\n",
    "\n",
    "print(sub['supplementary_data']['skirt_images'])\n",
    "\n",
    "# This only works for z = 0 and z= 0.05\n",
    "# But you can get various morphological measurements for the galaxy:\n",
    "if 'skirt_images' in sub['supplementary_data']: \n",
    "    # download PNG image, the version which includes all stars in the FoF halo (try replacing 'fof' with 'gz')\n",
    "    png_url = sub['supplementary_data']['skirt_images']['image_g_sdss']\n",
    "    \n",
    "    response = get(png_url)\n",
    "    \n",
    "\n",
    "url_json = sub['trees']['sublink_simple']\n",
    "\n",
    "\n",
    "tree_simple = get(url_json)\n",
    "fields = ['SubhaloID','NextProgenitorID','MainLeafProgenitorID','FirstProgenitorID','SubhaloMassType']\n",
    "\n",
    "\n",
    "print(len(tree_simple['Mergers']))# This is the number of mergers in the merger tree\n",
    "#print(tree_simple['Mergers'])\n",
    "\n",
    "\n",
    "snapnumber=98\n",
    "gal=0\n",
    "list_mergers = []\n",
    "\n",
    "for j in range(len(tree_simple['Mergers'])):\n",
    "    if gal > 5:\n",
    "        break\n",
    "    if tree_simple['Mergers'][j][0] ==snapnumber:\n",
    "        #Then this means it happened at the redshift one before\n",
    "        idj = tree_simple['Mergers'][j][1]\n",
    "        print(snapnumber, idj)\n",
    "        snap = get(snaps[snapnumber]['url'])\n",
    "        sub_prog_url = \"http://www.tng-project.org/api/TNG100-1/snapshots/\"+str(snapnumber)+\"/subhalos/\" + str(idj)\n",
    "        sub_prog = get(sub_prog_url)\n",
    "        \n",
    "        \n",
    "        # Getting the max past mass:\n",
    "        url_tree = sub_prog['trees']['sublink']\n",
    "        # There's gotta be a better way to do this\n",
    "        # Maybe: The related['sublink_progenitor'] link would take us directly there.\n",
    "        \n",
    "        #base_url = 'http://www.tng-project.org/api/TNG100-1'\n",
    "        #base_url = 'TNG100-1/output'\n",
    "        #tree = ill.sublink.loadTree(base_url, snapnumber, idj, fields=fields, onlyMPB=True)# was baseUrl\n",
    "        \n",
    "        tree = get(url_tree)#,  onlyMPB=True)#fields=fields,\n",
    "        mass = maxPastMass_and_index(tree, 0, 'stars')\n",
    "        print('mass', mass)\n",
    "        '''\n",
    "        fpID   = tree['FirstProgenitorID'][index] # one moment back in time\n",
    "\n",
    "        while fpID != -1: # while there is a FP id...\n",
    "            fpIndex = index + (fpID - rootID) # This will add one to the index (walking along the MPB)\n",
    "            fpMass  = maxPastMass(tree, fpIndex, massPartType)\n",
    "\n",
    "            # explore breadth\n",
    "            npID = tree['NextProgenitorID'][fpIndex] # Now moving horizontally\n",
    "\n",
    "            while npID != -1:\n",
    "                npIndex = index + (npID - rootID)\n",
    "                npMass  = maxPastMass(tree, npIndex, massPartType)'''\n",
    "        \n",
    "        \n",
    "        list_mergers.append([idj,mass])\n",
    "        '''print(sub_prog['mass_log_msun'])\n",
    "        \n",
    "        print(sub_prog['vis'])\n",
    "        \n",
    "        get(sub_prog['vis']['galaxy_stellar_light'])# this is a visualization?'''\n",
    "        gal+=1\n",
    "        \n",
    "        \n",
    "        \n",
    "        \n",
    "        continue\n",
    "    \n",
    "\n",
    "        cutout = get(sub_prog_url+\"/cutout.hdf5\")\n",
    "        f = h5py.File(cutout,'r')\n",
    "        '''print(f.keys())\n",
    "        print(f['PartType1'])'''\n",
    "        with h5py.File(cutout,'r') as f:\n",
    "            x = f['PartType1']['Coordinates'][:,0] - sub_prog['pos_x']\n",
    "            y = f['PartType0']['Coordinates'][:,1] - sub_prog['pos_y']\n",
    "\n",
    "            x *= scale_factor/little_h\n",
    "            y *= scale_factor/little_h\n",
    "            #rr *= scale_factor/little_h # ckpc/h -> physical kpc\n",
    "            #scale_factor = 1.0 / (1+redshift)\n",
    "            #little_h = 0.704\n",
    "            dens = np.log10(f['PartType0']['Masses'][:])\n",
    "        plt.hist2d(x,y,weights=dens,bins=[150,100], cmap='RdYlGn')\n",
    "        plt.xlabel('$\\Delta x$ [kpc]')\n",
    "        plt.ylabel('$\\Delta y$ [kpc]');\n",
    "        plt.title('Snap = '+str(snap)+' ID = '+str(idj))\n",
    "        plt.show()\n",
    "        STOP\n",
    "        \n",
    "print('ids past mergers', list_mergers)\n",
    "        \n",
    "index = 2\n",
    "print(tree_simple['Mergers'][index:100])# This lists the snapnum and the subhalo ID\n",
    "print(np.shape(np.array(tree_simple['Mergers'])))\n"
   ]
  },
  {
   "cell_type": "code",
   "execution_count": null,
   "metadata": {},
   "outputs": [],
   "source": [
    "# Construct a code that will dig through this .json file \n",
    "# for different galaxies at a specific snapnum, finding all mergers that occur in the snapshot before\n",
    "# and then going back and collecting their mass ratio and other\n",
    "# properties\n",
    "\n",
    "subs = get( snap['subhalos'], {'limit':3, 'order_by':'-mass_stars'} )\n",
    "sub = get( subs['results'][2]['url'] )\n",
    "\n",
    "url_json = sub['trees']['sublink_simple']\n",
    "\n",
    "tree_simple = get(url_json)"
   ]
  },
  {
   "cell_type": "markdown",
   "metadata": {},
   "source": [
    "# This doesn't apply anymore because these are subfind IDs not subhalo IDs\n",
    "\n",
    "# Okay find the most massive ones then plz\n",
    "print(np.shape(tree_simple['Mergers']))\n",
    "just_subids = np.array(tree_simple['Mergers'])[:,1]\n",
    "print(np.argmin(just_subids))\n",
    "min_index = tree_simple['Mergers'][np.argmin(just_subids)]\n",
    "print('min index', min_index)\n",
    "min_subid = min_index[1]\n",
    "min_snap = min_index[0]"
   ]
  },
  {
   "cell_type": "markdown",
   "metadata": {},
   "source": [
    "# Likewise, you can't search by subhalo ID because the above are subfind IDs\n",
    "\n",
    "# Okay I still cannot tell if there are any galaxies here so we'll access the cutouts - \n",
    "\n",
    "\n",
    "sub_url = \"https://www.tng-project.org/api/TNG100-1/snapshots/\"+str(min_snap)+\"/subhalos/\"+str(min_subid)+\"/\"\n",
    "print(sub_url)\n",
    "sub_merg = get(sub_url)\n",
    "\n",
    "cutout_request = {'gas':'Coordinates,Masses'}\n",
    "cutout = get(sub_url+\"cutout.hdf5\")#, cutout_request)\n",
    "\n",
    "print(sub_url+\"cutout.hdf5\")\n",
    "\n",
    "f = h5py.File(cutout,'r')\n",
    "print(f.keys())\n",
    "\n",
    "print(f['PartType1']['Coordinates'][:,0])\n",
    "STOP\n",
    "\n",
    "\n",
    "with h5py.File(cutout,'r') as f:\n",
    "    \n",
    "    #print(f.header())\n",
    "    x = f['PartType0']['Coordinates'][:,0] - sub_merg['pos_x']\n",
    "    y = f['PartType0']['Coordinates'][:,1] - sub_merg['pos_y']\n",
    "    dens = np.log10(f['PartType0']['Masses'][:])\n",
    "plt.hist2d(x,y,weights=dens,bins=[150,100])\n",
    "plt.xlabel('$\\Delta x$ [ckpc/h]')\n",
    "plt.ylabel('$\\Delta y$ [ckpc/h]');"
   ]
  },
  {
   "cell_type": "markdown",
   "metadata": {},
   "source": [
    "### What about using Zephyrs' code to also get the subhalo ID and the mass ratio\n",
    "returnSimpleTree(basePath, subhalo_id,snapshot_number):"
   ]
  },
  {
   "cell_type": "code",
   "execution_count": 35,
   "metadata": {},
   "outputs": [
    {
     "ename": "KeyboardInterrupt",
     "evalue": "",
     "output_type": "error",
     "traceback": [
      "\u001b[0;31m---------------------------------------------------------------------------\u001b[0m",
      "\u001b[0;31mKeyboardInterrupt\u001b[0m                         Traceback (most recent call last)",
      "\u001b[0;32m<ipython-input-35-98b0c3ed229f>\u001b[0m in \u001b[0;36m<module>\u001b[0;34m\u001b[0m\n\u001b[1;32m     16\u001b[0m \u001b[0;34m\u001b[0m\u001b[0m\n\u001b[1;32m     17\u001b[0m \u001b[0;34m\u001b[0m\u001b[0m\n\u001b[0;32m---> 18\u001b[0;31m \u001b[0mpractice\u001b[0m \u001b[0;34m=\u001b[0m \u001b[0mget\u001b[0m\u001b[0;34m(\u001b[0m\u001b[0;34m\"http://www.tng-project.org/api/TNG100-1/files/offsets.\"\u001b[0m\u001b[0;34m+\u001b[0m\u001b[0mstr\u001b[0m\u001b[0;34m(\u001b[0m\u001b[0msnapshot_number\u001b[0m\u001b[0;34m)\u001b[0m\u001b[0;34m+\u001b[0m\u001b[0;34m\".hdf5\"\u001b[0m\u001b[0;34m)\u001b[0m\u001b[0;34m\u001b[0m\u001b[0;34m\u001b[0m\u001b[0m\n\u001b[0m\u001b[1;32m     19\u001b[0m \u001b[0mprint\u001b[0m\u001b[0;34m(\u001b[0m\u001b[0;34m'made it here'\u001b[0m\u001b[0;34m)\u001b[0m\u001b[0;34m\u001b[0m\u001b[0;34m\u001b[0m\u001b[0m\n\u001b[1;32m     20\u001b[0m \u001b[0mprac\u001b[0m \u001b[0;34m=\u001b[0m \u001b[0mh5py\u001b[0m\u001b[0;34m.\u001b[0m\u001b[0mFile\u001b[0m\u001b[0;34m(\u001b[0m\u001b[0mpractice\u001b[0m\u001b[0;34m,\u001b[0m\u001b[0;34m'r'\u001b[0m\u001b[0;34m)\u001b[0m\u001b[0;34m\u001b[0m\u001b[0;34m\u001b[0m\u001b[0m\n",
      "\u001b[0;32m<ipython-input-32-82d5af0c3ccc>\u001b[0m in \u001b[0;36mget\u001b[0;34m(path, params)\u001b[0m\n\u001b[1;32m      8\u001b[0m \u001b[0;32mdef\u001b[0m \u001b[0mget\u001b[0m\u001b[0;34m(\u001b[0m\u001b[0mpath\u001b[0m\u001b[0;34m,\u001b[0m \u001b[0mparams\u001b[0m\u001b[0;34m=\u001b[0m\u001b[0;32mNone\u001b[0m\u001b[0;34m)\u001b[0m\u001b[0;34m:\u001b[0m\u001b[0;34m\u001b[0m\u001b[0;34m\u001b[0m\u001b[0m\n\u001b[1;32m      9\u001b[0m     \u001b[0;31m# make HTTP GET request to path\u001b[0m\u001b[0;34m\u001b[0m\u001b[0;34m\u001b[0m\u001b[0;34m\u001b[0m\u001b[0m\n\u001b[0;32m---> 10\u001b[0;31m     \u001b[0mr\u001b[0m \u001b[0;34m=\u001b[0m \u001b[0mrequests\u001b[0m\u001b[0;34m.\u001b[0m\u001b[0mget\u001b[0m\u001b[0;34m(\u001b[0m\u001b[0mpath\u001b[0m\u001b[0;34m,\u001b[0m \u001b[0mparams\u001b[0m\u001b[0;34m=\u001b[0m\u001b[0mparams\u001b[0m\u001b[0;34m,\u001b[0m \u001b[0mheaders\u001b[0m\u001b[0;34m=\u001b[0m\u001b[0mheaders\u001b[0m\u001b[0;34m)\u001b[0m\u001b[0;34m\u001b[0m\u001b[0;34m\u001b[0m\u001b[0m\n\u001b[0m\u001b[1;32m     11\u001b[0m \u001b[0;34m\u001b[0m\u001b[0m\n\u001b[1;32m     12\u001b[0m     \u001b[0;31m# raise exception if response code is not HTTP SUCCESS (200)\u001b[0m\u001b[0;34m\u001b[0m\u001b[0;34m\u001b[0m\u001b[0;34m\u001b[0m\u001b[0m\n",
      "\u001b[0;32m~/anaconda3/lib/python3.7/site-packages/requests/api.py\u001b[0m in \u001b[0;36mget\u001b[0;34m(url, params, **kwargs)\u001b[0m\n\u001b[1;32m     73\u001b[0m \u001b[0;34m\u001b[0m\u001b[0m\n\u001b[1;32m     74\u001b[0m     \u001b[0mkwargs\u001b[0m\u001b[0;34m.\u001b[0m\u001b[0msetdefault\u001b[0m\u001b[0;34m(\u001b[0m\u001b[0;34m'allow_redirects'\u001b[0m\u001b[0;34m,\u001b[0m \u001b[0;32mTrue\u001b[0m\u001b[0;34m)\u001b[0m\u001b[0;34m\u001b[0m\u001b[0;34m\u001b[0m\u001b[0m\n\u001b[0;32m---> 75\u001b[0;31m     \u001b[0;32mreturn\u001b[0m \u001b[0mrequest\u001b[0m\u001b[0;34m(\u001b[0m\u001b[0;34m'get'\u001b[0m\u001b[0;34m,\u001b[0m \u001b[0murl\u001b[0m\u001b[0;34m,\u001b[0m \u001b[0mparams\u001b[0m\u001b[0;34m=\u001b[0m\u001b[0mparams\u001b[0m\u001b[0;34m,\u001b[0m \u001b[0;34m**\u001b[0m\u001b[0mkwargs\u001b[0m\u001b[0;34m)\u001b[0m\u001b[0;34m\u001b[0m\u001b[0;34m\u001b[0m\u001b[0m\n\u001b[0m\u001b[1;32m     76\u001b[0m \u001b[0;34m\u001b[0m\u001b[0m\n\u001b[1;32m     77\u001b[0m \u001b[0;34m\u001b[0m\u001b[0m\n",
      "\u001b[0;32m~/anaconda3/lib/python3.7/site-packages/requests/api.py\u001b[0m in \u001b[0;36mrequest\u001b[0;34m(method, url, **kwargs)\u001b[0m\n\u001b[1;32m     58\u001b[0m     \u001b[0;31m# cases, and look like a memory leak in others.\u001b[0m\u001b[0;34m\u001b[0m\u001b[0;34m\u001b[0m\u001b[0;34m\u001b[0m\u001b[0m\n\u001b[1;32m     59\u001b[0m     \u001b[0;32mwith\u001b[0m \u001b[0msessions\u001b[0m\u001b[0;34m.\u001b[0m\u001b[0mSession\u001b[0m\u001b[0;34m(\u001b[0m\u001b[0;34m)\u001b[0m \u001b[0;32mas\u001b[0m \u001b[0msession\u001b[0m\u001b[0;34m:\u001b[0m\u001b[0;34m\u001b[0m\u001b[0;34m\u001b[0m\u001b[0m\n\u001b[0;32m---> 60\u001b[0;31m         \u001b[0;32mreturn\u001b[0m \u001b[0msession\u001b[0m\u001b[0;34m.\u001b[0m\u001b[0mrequest\u001b[0m\u001b[0;34m(\u001b[0m\u001b[0mmethod\u001b[0m\u001b[0;34m=\u001b[0m\u001b[0mmethod\u001b[0m\u001b[0;34m,\u001b[0m \u001b[0murl\u001b[0m\u001b[0;34m=\u001b[0m\u001b[0murl\u001b[0m\u001b[0;34m,\u001b[0m \u001b[0;34m**\u001b[0m\u001b[0mkwargs\u001b[0m\u001b[0;34m)\u001b[0m\u001b[0;34m\u001b[0m\u001b[0;34m\u001b[0m\u001b[0m\n\u001b[0m\u001b[1;32m     61\u001b[0m \u001b[0;34m\u001b[0m\u001b[0m\n\u001b[1;32m     62\u001b[0m \u001b[0;34m\u001b[0m\u001b[0m\n",
      "\u001b[0;32m~/anaconda3/lib/python3.7/site-packages/requests/sessions.py\u001b[0m in \u001b[0;36mrequest\u001b[0;34m(self, method, url, params, data, headers, cookies, files, auth, timeout, allow_redirects, proxies, hooks, stream, verify, cert, json)\u001b[0m\n\u001b[1;32m    531\u001b[0m         }\n\u001b[1;32m    532\u001b[0m         \u001b[0msend_kwargs\u001b[0m\u001b[0;34m.\u001b[0m\u001b[0mupdate\u001b[0m\u001b[0;34m(\u001b[0m\u001b[0msettings\u001b[0m\u001b[0;34m)\u001b[0m\u001b[0;34m\u001b[0m\u001b[0;34m\u001b[0m\u001b[0m\n\u001b[0;32m--> 533\u001b[0;31m         \u001b[0mresp\u001b[0m \u001b[0;34m=\u001b[0m \u001b[0mself\u001b[0m\u001b[0;34m.\u001b[0m\u001b[0msend\u001b[0m\u001b[0;34m(\u001b[0m\u001b[0mprep\u001b[0m\u001b[0;34m,\u001b[0m \u001b[0;34m**\u001b[0m\u001b[0msend_kwargs\u001b[0m\u001b[0;34m)\u001b[0m\u001b[0;34m\u001b[0m\u001b[0;34m\u001b[0m\u001b[0m\n\u001b[0m\u001b[1;32m    534\u001b[0m \u001b[0;34m\u001b[0m\u001b[0m\n\u001b[1;32m    535\u001b[0m         \u001b[0;32mreturn\u001b[0m \u001b[0mresp\u001b[0m\u001b[0;34m\u001b[0m\u001b[0;34m\u001b[0m\u001b[0m\n",
      "\u001b[0;32m~/anaconda3/lib/python3.7/site-packages/requests/sessions.py\u001b[0m in \u001b[0;36msend\u001b[0;34m(self, request, **kwargs)\u001b[0m\n\u001b[1;32m    666\u001b[0m \u001b[0;34m\u001b[0m\u001b[0m\n\u001b[1;32m    667\u001b[0m         \u001b[0;31m# Resolve redirects if allowed.\u001b[0m\u001b[0;34m\u001b[0m\u001b[0;34m\u001b[0m\u001b[0;34m\u001b[0m\u001b[0m\n\u001b[0;32m--> 668\u001b[0;31m         \u001b[0mhistory\u001b[0m \u001b[0;34m=\u001b[0m \u001b[0;34m[\u001b[0m\u001b[0mresp\u001b[0m \u001b[0;32mfor\u001b[0m \u001b[0mresp\u001b[0m \u001b[0;32min\u001b[0m \u001b[0mgen\u001b[0m\u001b[0;34m]\u001b[0m \u001b[0;32mif\u001b[0m \u001b[0mallow_redirects\u001b[0m \u001b[0;32melse\u001b[0m \u001b[0;34m[\u001b[0m\u001b[0;34m]\u001b[0m\u001b[0;34m\u001b[0m\u001b[0;34m\u001b[0m\u001b[0m\n\u001b[0m\u001b[1;32m    669\u001b[0m \u001b[0;34m\u001b[0m\u001b[0m\n\u001b[1;32m    670\u001b[0m         \u001b[0;31m# Shuffle things around if there's history.\u001b[0m\u001b[0;34m\u001b[0m\u001b[0;34m\u001b[0m\u001b[0;34m\u001b[0m\u001b[0m\n",
      "\u001b[0;32m~/anaconda3/lib/python3.7/site-packages/requests/sessions.py\u001b[0m in \u001b[0;36m<listcomp>\u001b[0;34m(.0)\u001b[0m\n\u001b[1;32m    666\u001b[0m \u001b[0;34m\u001b[0m\u001b[0m\n\u001b[1;32m    667\u001b[0m         \u001b[0;31m# Resolve redirects if allowed.\u001b[0m\u001b[0;34m\u001b[0m\u001b[0;34m\u001b[0m\u001b[0;34m\u001b[0m\u001b[0m\n\u001b[0;32m--> 668\u001b[0;31m         \u001b[0mhistory\u001b[0m \u001b[0;34m=\u001b[0m \u001b[0;34m[\u001b[0m\u001b[0mresp\u001b[0m \u001b[0;32mfor\u001b[0m \u001b[0mresp\u001b[0m \u001b[0;32min\u001b[0m \u001b[0mgen\u001b[0m\u001b[0;34m]\u001b[0m \u001b[0;32mif\u001b[0m \u001b[0mallow_redirects\u001b[0m \u001b[0;32melse\u001b[0m \u001b[0;34m[\u001b[0m\u001b[0;34m]\u001b[0m\u001b[0;34m\u001b[0m\u001b[0;34m\u001b[0m\u001b[0m\n\u001b[0m\u001b[1;32m    669\u001b[0m \u001b[0;34m\u001b[0m\u001b[0m\n\u001b[1;32m    670\u001b[0m         \u001b[0;31m# Shuffle things around if there's history.\u001b[0m\u001b[0;34m\u001b[0m\u001b[0;34m\u001b[0m\u001b[0;34m\u001b[0m\u001b[0m\n",
      "\u001b[0;32m~/anaconda3/lib/python3.7/site-packages/requests/sessions.py\u001b[0m in \u001b[0;36mresolve_redirects\u001b[0;34m(self, resp, req, stream, timeout, verify, cert, proxies, yield_requests, **adapter_kwargs)\u001b[0m\n\u001b[1;32m    245\u001b[0m                     \u001b[0mproxies\u001b[0m\u001b[0;34m=\u001b[0m\u001b[0mproxies\u001b[0m\u001b[0;34m,\u001b[0m\u001b[0;34m\u001b[0m\u001b[0;34m\u001b[0m\u001b[0m\n\u001b[1;32m    246\u001b[0m                     \u001b[0mallow_redirects\u001b[0m\u001b[0;34m=\u001b[0m\u001b[0;32mFalse\u001b[0m\u001b[0;34m,\u001b[0m\u001b[0;34m\u001b[0m\u001b[0;34m\u001b[0m\u001b[0m\n\u001b[0;32m--> 247\u001b[0;31m                     \u001b[0;34m**\u001b[0m\u001b[0madapter_kwargs\u001b[0m\u001b[0;34m\u001b[0m\u001b[0;34m\u001b[0m\u001b[0m\n\u001b[0m\u001b[1;32m    248\u001b[0m                 )\n\u001b[1;32m    249\u001b[0m \u001b[0;34m\u001b[0m\u001b[0m\n",
      "\u001b[0;32m~/anaconda3/lib/python3.7/site-packages/requests/sessions.py\u001b[0m in \u001b[0;36msend\u001b[0;34m(self, request, **kwargs)\u001b[0m\n\u001b[1;32m    684\u001b[0m \u001b[0;34m\u001b[0m\u001b[0m\n\u001b[1;32m    685\u001b[0m         \u001b[0;32mif\u001b[0m \u001b[0;32mnot\u001b[0m \u001b[0mstream\u001b[0m\u001b[0;34m:\u001b[0m\u001b[0;34m\u001b[0m\u001b[0;34m\u001b[0m\u001b[0m\n\u001b[0;32m--> 686\u001b[0;31m             \u001b[0mr\u001b[0m\u001b[0;34m.\u001b[0m\u001b[0mcontent\u001b[0m\u001b[0;34m\u001b[0m\u001b[0;34m\u001b[0m\u001b[0m\n\u001b[0m\u001b[1;32m    687\u001b[0m \u001b[0;34m\u001b[0m\u001b[0m\n\u001b[1;32m    688\u001b[0m         \u001b[0;32mreturn\u001b[0m \u001b[0mr\u001b[0m\u001b[0;34m\u001b[0m\u001b[0;34m\u001b[0m\u001b[0m\n",
      "\u001b[0;32m~/anaconda3/lib/python3.7/site-packages/requests/models.py\u001b[0m in \u001b[0;36mcontent\u001b[0;34m(self)\u001b[0m\n\u001b[1;32m    826\u001b[0m                 \u001b[0mself\u001b[0m\u001b[0;34m.\u001b[0m\u001b[0m_content\u001b[0m \u001b[0;34m=\u001b[0m \u001b[0;32mNone\u001b[0m\u001b[0;34m\u001b[0m\u001b[0;34m\u001b[0m\u001b[0m\n\u001b[1;32m    827\u001b[0m             \u001b[0;32melse\u001b[0m\u001b[0;34m:\u001b[0m\u001b[0;34m\u001b[0m\u001b[0;34m\u001b[0m\u001b[0m\n\u001b[0;32m--> 828\u001b[0;31m                 \u001b[0mself\u001b[0m\u001b[0;34m.\u001b[0m\u001b[0m_content\u001b[0m \u001b[0;34m=\u001b[0m \u001b[0;34mb''\u001b[0m\u001b[0;34m.\u001b[0m\u001b[0mjoin\u001b[0m\u001b[0;34m(\u001b[0m\u001b[0mself\u001b[0m\u001b[0;34m.\u001b[0m\u001b[0miter_content\u001b[0m\u001b[0;34m(\u001b[0m\u001b[0mCONTENT_CHUNK_SIZE\u001b[0m\u001b[0;34m)\u001b[0m\u001b[0;34m)\u001b[0m \u001b[0;32mor\u001b[0m \u001b[0;34mb''\u001b[0m\u001b[0;34m\u001b[0m\u001b[0;34m\u001b[0m\u001b[0m\n\u001b[0m\u001b[1;32m    829\u001b[0m \u001b[0;34m\u001b[0m\u001b[0m\n\u001b[1;32m    830\u001b[0m         \u001b[0mself\u001b[0m\u001b[0;34m.\u001b[0m\u001b[0m_content_consumed\u001b[0m \u001b[0;34m=\u001b[0m \u001b[0;32mTrue\u001b[0m\u001b[0;34m\u001b[0m\u001b[0;34m\u001b[0m\u001b[0m\n",
      "\u001b[0;32m~/anaconda3/lib/python3.7/site-packages/requests/models.py\u001b[0m in \u001b[0;36mgenerate\u001b[0;34m()\u001b[0m\n\u001b[1;32m    748\u001b[0m             \u001b[0;32mif\u001b[0m \u001b[0mhasattr\u001b[0m\u001b[0;34m(\u001b[0m\u001b[0mself\u001b[0m\u001b[0;34m.\u001b[0m\u001b[0mraw\u001b[0m\u001b[0;34m,\u001b[0m \u001b[0;34m'stream'\u001b[0m\u001b[0;34m)\u001b[0m\u001b[0;34m:\u001b[0m\u001b[0;34m\u001b[0m\u001b[0;34m\u001b[0m\u001b[0m\n\u001b[1;32m    749\u001b[0m                 \u001b[0;32mtry\u001b[0m\u001b[0;34m:\u001b[0m\u001b[0;34m\u001b[0m\u001b[0;34m\u001b[0m\u001b[0m\n\u001b[0;32m--> 750\u001b[0;31m                     \u001b[0;32mfor\u001b[0m \u001b[0mchunk\u001b[0m \u001b[0;32min\u001b[0m \u001b[0mself\u001b[0m\u001b[0;34m.\u001b[0m\u001b[0mraw\u001b[0m\u001b[0;34m.\u001b[0m\u001b[0mstream\u001b[0m\u001b[0;34m(\u001b[0m\u001b[0mchunk_size\u001b[0m\u001b[0;34m,\u001b[0m \u001b[0mdecode_content\u001b[0m\u001b[0;34m=\u001b[0m\u001b[0;32mTrue\u001b[0m\u001b[0;34m)\u001b[0m\u001b[0;34m:\u001b[0m\u001b[0;34m\u001b[0m\u001b[0;34m\u001b[0m\u001b[0m\n\u001b[0m\u001b[1;32m    751\u001b[0m                         \u001b[0;32myield\u001b[0m \u001b[0mchunk\u001b[0m\u001b[0;34m\u001b[0m\u001b[0;34m\u001b[0m\u001b[0m\n\u001b[1;32m    752\u001b[0m                 \u001b[0;32mexcept\u001b[0m \u001b[0mProtocolError\u001b[0m \u001b[0;32mas\u001b[0m \u001b[0me\u001b[0m\u001b[0;34m:\u001b[0m\u001b[0;34m\u001b[0m\u001b[0;34m\u001b[0m\u001b[0m\n",
      "\u001b[0;32m~/anaconda3/lib/python3.7/site-packages/urllib3/response.py\u001b[0m in \u001b[0;36mstream\u001b[0;34m(self, amt, decode_content)\u001b[0m\n\u001b[1;32m    562\u001b[0m         \u001b[0;32melse\u001b[0m\u001b[0;34m:\u001b[0m\u001b[0;34m\u001b[0m\u001b[0;34m\u001b[0m\u001b[0m\n\u001b[1;32m    563\u001b[0m             \u001b[0;32mwhile\u001b[0m \u001b[0;32mnot\u001b[0m \u001b[0mis_fp_closed\u001b[0m\u001b[0;34m(\u001b[0m\u001b[0mself\u001b[0m\u001b[0;34m.\u001b[0m\u001b[0m_fp\u001b[0m\u001b[0;34m)\u001b[0m\u001b[0;34m:\u001b[0m\u001b[0;34m\u001b[0m\u001b[0;34m\u001b[0m\u001b[0m\n\u001b[0;32m--> 564\u001b[0;31m                 \u001b[0mdata\u001b[0m \u001b[0;34m=\u001b[0m \u001b[0mself\u001b[0m\u001b[0;34m.\u001b[0m\u001b[0mread\u001b[0m\u001b[0;34m(\u001b[0m\u001b[0mamt\u001b[0m\u001b[0;34m=\u001b[0m\u001b[0mamt\u001b[0m\u001b[0;34m,\u001b[0m \u001b[0mdecode_content\u001b[0m\u001b[0;34m=\u001b[0m\u001b[0mdecode_content\u001b[0m\u001b[0;34m)\u001b[0m\u001b[0;34m\u001b[0m\u001b[0;34m\u001b[0m\u001b[0m\n\u001b[0m\u001b[1;32m    565\u001b[0m \u001b[0;34m\u001b[0m\u001b[0m\n\u001b[1;32m    566\u001b[0m                 \u001b[0;32mif\u001b[0m \u001b[0mdata\u001b[0m\u001b[0;34m:\u001b[0m\u001b[0;34m\u001b[0m\u001b[0;34m\u001b[0m\u001b[0m\n",
      "\u001b[0;32m~/anaconda3/lib/python3.7/site-packages/urllib3/response.py\u001b[0m in \u001b[0;36mread\u001b[0;34m(self, amt, decode_content, cache_content)\u001b[0m\n\u001b[1;32m    505\u001b[0m             \u001b[0;32melse\u001b[0m\u001b[0;34m:\u001b[0m\u001b[0;34m\u001b[0m\u001b[0;34m\u001b[0m\u001b[0m\n\u001b[1;32m    506\u001b[0m                 \u001b[0mcache_content\u001b[0m \u001b[0;34m=\u001b[0m \u001b[0;32mFalse\u001b[0m\u001b[0;34m\u001b[0m\u001b[0;34m\u001b[0m\u001b[0m\n\u001b[0;32m--> 507\u001b[0;31m                 \u001b[0mdata\u001b[0m \u001b[0;34m=\u001b[0m \u001b[0mself\u001b[0m\u001b[0;34m.\u001b[0m\u001b[0m_fp\u001b[0m\u001b[0;34m.\u001b[0m\u001b[0mread\u001b[0m\u001b[0;34m(\u001b[0m\u001b[0mamt\u001b[0m\u001b[0;34m)\u001b[0m \u001b[0;32mif\u001b[0m \u001b[0;32mnot\u001b[0m \u001b[0mfp_closed\u001b[0m \u001b[0;32melse\u001b[0m \u001b[0;34mb\"\"\u001b[0m\u001b[0;34m\u001b[0m\u001b[0;34m\u001b[0m\u001b[0m\n\u001b[0m\u001b[1;32m    508\u001b[0m                 if (\n\u001b[1;32m    509\u001b[0m                     \u001b[0mamt\u001b[0m \u001b[0;34m!=\u001b[0m \u001b[0;36m0\u001b[0m \u001b[0;32mand\u001b[0m \u001b[0;32mnot\u001b[0m \u001b[0mdata\u001b[0m\u001b[0;34m\u001b[0m\u001b[0;34m\u001b[0m\u001b[0m\n",
      "\u001b[0;32m~/anaconda3/lib/python3.7/http/client.py\u001b[0m in \u001b[0;36mread\u001b[0;34m(self, amt)\u001b[0m\n\u001b[1;32m    445\u001b[0m             \u001b[0;31m# Amount is given, implement using readinto\u001b[0m\u001b[0;34m\u001b[0m\u001b[0;34m\u001b[0m\u001b[0;34m\u001b[0m\u001b[0m\n\u001b[1;32m    446\u001b[0m             \u001b[0mb\u001b[0m \u001b[0;34m=\u001b[0m \u001b[0mbytearray\u001b[0m\u001b[0;34m(\u001b[0m\u001b[0mamt\u001b[0m\u001b[0;34m)\u001b[0m\u001b[0;34m\u001b[0m\u001b[0;34m\u001b[0m\u001b[0m\n\u001b[0;32m--> 447\u001b[0;31m             \u001b[0mn\u001b[0m \u001b[0;34m=\u001b[0m \u001b[0mself\u001b[0m\u001b[0;34m.\u001b[0m\u001b[0mreadinto\u001b[0m\u001b[0;34m(\u001b[0m\u001b[0mb\u001b[0m\u001b[0;34m)\u001b[0m\u001b[0;34m\u001b[0m\u001b[0;34m\u001b[0m\u001b[0m\n\u001b[0m\u001b[1;32m    448\u001b[0m             \u001b[0;32mreturn\u001b[0m \u001b[0mmemoryview\u001b[0m\u001b[0;34m(\u001b[0m\u001b[0mb\u001b[0m\u001b[0;34m)\u001b[0m\u001b[0;34m[\u001b[0m\u001b[0;34m:\u001b[0m\u001b[0mn\u001b[0m\u001b[0;34m]\u001b[0m\u001b[0;34m.\u001b[0m\u001b[0mtobytes\u001b[0m\u001b[0;34m(\u001b[0m\u001b[0;34m)\u001b[0m\u001b[0;34m\u001b[0m\u001b[0;34m\u001b[0m\u001b[0m\n\u001b[1;32m    449\u001b[0m         \u001b[0;32melse\u001b[0m\u001b[0;34m:\u001b[0m\u001b[0;34m\u001b[0m\u001b[0;34m\u001b[0m\u001b[0m\n",
      "\u001b[0;32m~/anaconda3/lib/python3.7/http/client.py\u001b[0m in \u001b[0;36mreadinto\u001b[0;34m(self, b)\u001b[0m\n\u001b[1;32m    489\u001b[0m         \u001b[0;31m# connection, and the user is reading more bytes than will be provided\u001b[0m\u001b[0;34m\u001b[0m\u001b[0;34m\u001b[0m\u001b[0;34m\u001b[0m\u001b[0m\n\u001b[1;32m    490\u001b[0m         \u001b[0;31m# (for example, reading in 1k chunks)\u001b[0m\u001b[0;34m\u001b[0m\u001b[0;34m\u001b[0m\u001b[0;34m\u001b[0m\u001b[0m\n\u001b[0;32m--> 491\u001b[0;31m         \u001b[0mn\u001b[0m \u001b[0;34m=\u001b[0m \u001b[0mself\u001b[0m\u001b[0;34m.\u001b[0m\u001b[0mfp\u001b[0m\u001b[0;34m.\u001b[0m\u001b[0mreadinto\u001b[0m\u001b[0;34m(\u001b[0m\u001b[0mb\u001b[0m\u001b[0;34m)\u001b[0m\u001b[0;34m\u001b[0m\u001b[0;34m\u001b[0m\u001b[0m\n\u001b[0m\u001b[1;32m    492\u001b[0m         \u001b[0;32mif\u001b[0m \u001b[0;32mnot\u001b[0m \u001b[0mn\u001b[0m \u001b[0;32mand\u001b[0m \u001b[0mb\u001b[0m\u001b[0;34m:\u001b[0m\u001b[0;34m\u001b[0m\u001b[0;34m\u001b[0m\u001b[0m\n\u001b[1;32m    493\u001b[0m             \u001b[0;31m# Ideally, we would raise IncompleteRead if the content-length\u001b[0m\u001b[0;34m\u001b[0m\u001b[0;34m\u001b[0m\u001b[0;34m\u001b[0m\u001b[0m\n",
      "\u001b[0;32m~/anaconda3/lib/python3.7/socket.py\u001b[0m in \u001b[0;36mreadinto\u001b[0;34m(self, b)\u001b[0m\n\u001b[1;32m    587\u001b[0m         \u001b[0;32mwhile\u001b[0m \u001b[0;32mTrue\u001b[0m\u001b[0;34m:\u001b[0m\u001b[0;34m\u001b[0m\u001b[0;34m\u001b[0m\u001b[0m\n\u001b[1;32m    588\u001b[0m             \u001b[0;32mtry\u001b[0m\u001b[0;34m:\u001b[0m\u001b[0;34m\u001b[0m\u001b[0;34m\u001b[0m\u001b[0m\n\u001b[0;32m--> 589\u001b[0;31m                 \u001b[0;32mreturn\u001b[0m \u001b[0mself\u001b[0m\u001b[0;34m.\u001b[0m\u001b[0m_sock\u001b[0m\u001b[0;34m.\u001b[0m\u001b[0mrecv_into\u001b[0m\u001b[0;34m(\u001b[0m\u001b[0mb\u001b[0m\u001b[0;34m)\u001b[0m\u001b[0;34m\u001b[0m\u001b[0;34m\u001b[0m\u001b[0m\n\u001b[0m\u001b[1;32m    590\u001b[0m             \u001b[0;32mexcept\u001b[0m \u001b[0mtimeout\u001b[0m\u001b[0;34m:\u001b[0m\u001b[0;34m\u001b[0m\u001b[0;34m\u001b[0m\u001b[0m\n\u001b[1;32m    591\u001b[0m                 \u001b[0mself\u001b[0m\u001b[0;34m.\u001b[0m\u001b[0m_timeout_occurred\u001b[0m \u001b[0;34m=\u001b[0m \u001b[0;32mTrue\u001b[0m\u001b[0;34m\u001b[0m\u001b[0;34m\u001b[0m\u001b[0m\n",
      "\u001b[0;32m~/anaconda3/lib/python3.7/site-packages/urllib3/contrib/pyopenssl.py\u001b[0m in \u001b[0;36mrecv_into\u001b[0;34m(self, *args, **kwargs)\u001b[0m\n\u001b[1;32m    311\u001b[0m     \u001b[0;32mdef\u001b[0m \u001b[0mrecv_into\u001b[0m\u001b[0;34m(\u001b[0m\u001b[0mself\u001b[0m\u001b[0;34m,\u001b[0m \u001b[0;34m*\u001b[0m\u001b[0margs\u001b[0m\u001b[0;34m,\u001b[0m \u001b[0;34m**\u001b[0m\u001b[0mkwargs\u001b[0m\u001b[0;34m)\u001b[0m\u001b[0;34m:\u001b[0m\u001b[0;34m\u001b[0m\u001b[0;34m\u001b[0m\u001b[0m\n\u001b[1;32m    312\u001b[0m         \u001b[0;32mtry\u001b[0m\u001b[0;34m:\u001b[0m\u001b[0;34m\u001b[0m\u001b[0;34m\u001b[0m\u001b[0m\n\u001b[0;32m--> 313\u001b[0;31m             \u001b[0;32mreturn\u001b[0m \u001b[0mself\u001b[0m\u001b[0;34m.\u001b[0m\u001b[0mconnection\u001b[0m\u001b[0;34m.\u001b[0m\u001b[0mrecv_into\u001b[0m\u001b[0;34m(\u001b[0m\u001b[0;34m*\u001b[0m\u001b[0margs\u001b[0m\u001b[0;34m,\u001b[0m \u001b[0;34m**\u001b[0m\u001b[0mkwargs\u001b[0m\u001b[0;34m)\u001b[0m\u001b[0;34m\u001b[0m\u001b[0;34m\u001b[0m\u001b[0m\n\u001b[0m\u001b[1;32m    314\u001b[0m         \u001b[0;32mexcept\u001b[0m \u001b[0mOpenSSL\u001b[0m\u001b[0;34m.\u001b[0m\u001b[0mSSL\u001b[0m\u001b[0;34m.\u001b[0m\u001b[0mSysCallError\u001b[0m \u001b[0;32mas\u001b[0m \u001b[0me\u001b[0m\u001b[0;34m:\u001b[0m\u001b[0;34m\u001b[0m\u001b[0;34m\u001b[0m\u001b[0m\n\u001b[1;32m    315\u001b[0m             \u001b[0;32mif\u001b[0m \u001b[0mself\u001b[0m\u001b[0;34m.\u001b[0m\u001b[0msuppress_ragged_eofs\u001b[0m \u001b[0;32mand\u001b[0m \u001b[0me\u001b[0m\u001b[0;34m.\u001b[0m\u001b[0margs\u001b[0m \u001b[0;34m==\u001b[0m \u001b[0;34m(\u001b[0m\u001b[0;34m-\u001b[0m\u001b[0;36m1\u001b[0m\u001b[0;34m,\u001b[0m \u001b[0;34m\"Unexpected EOF\"\u001b[0m\u001b[0;34m)\u001b[0m\u001b[0;34m:\u001b[0m\u001b[0;34m\u001b[0m\u001b[0;34m\u001b[0m\u001b[0m\n",
      "\u001b[0;32m~/anaconda3/lib/python3.7/site-packages/OpenSSL/SSL.py\u001b[0m in \u001b[0;36mrecv_into\u001b[0;34m(self, buffer, nbytes, flags)\u001b[0m\n\u001b[1;32m   1837\u001b[0m             \u001b[0mresult\u001b[0m \u001b[0;34m=\u001b[0m \u001b[0m_lib\u001b[0m\u001b[0;34m.\u001b[0m\u001b[0mSSL_peek\u001b[0m\u001b[0;34m(\u001b[0m\u001b[0mself\u001b[0m\u001b[0;34m.\u001b[0m\u001b[0m_ssl\u001b[0m\u001b[0;34m,\u001b[0m \u001b[0mbuf\u001b[0m\u001b[0;34m,\u001b[0m \u001b[0mnbytes\u001b[0m\u001b[0;34m)\u001b[0m\u001b[0;34m\u001b[0m\u001b[0;34m\u001b[0m\u001b[0m\n\u001b[1;32m   1838\u001b[0m         \u001b[0;32melse\u001b[0m\u001b[0;34m:\u001b[0m\u001b[0;34m\u001b[0m\u001b[0;34m\u001b[0m\u001b[0m\n\u001b[0;32m-> 1839\u001b[0;31m             \u001b[0mresult\u001b[0m \u001b[0;34m=\u001b[0m \u001b[0m_lib\u001b[0m\u001b[0;34m.\u001b[0m\u001b[0mSSL_read\u001b[0m\u001b[0;34m(\u001b[0m\u001b[0mself\u001b[0m\u001b[0;34m.\u001b[0m\u001b[0m_ssl\u001b[0m\u001b[0;34m,\u001b[0m \u001b[0mbuf\u001b[0m\u001b[0;34m,\u001b[0m \u001b[0mnbytes\u001b[0m\u001b[0;34m)\u001b[0m\u001b[0;34m\u001b[0m\u001b[0;34m\u001b[0m\u001b[0m\n\u001b[0m\u001b[1;32m   1840\u001b[0m         \u001b[0mself\u001b[0m\u001b[0;34m.\u001b[0m\u001b[0m_raise_ssl_error\u001b[0m\u001b[0;34m(\u001b[0m\u001b[0mself\u001b[0m\u001b[0;34m.\u001b[0m\u001b[0m_ssl\u001b[0m\u001b[0;34m,\u001b[0m \u001b[0mresult\u001b[0m\u001b[0;34m)\u001b[0m\u001b[0;34m\u001b[0m\u001b[0;34m\u001b[0m\u001b[0m\n\u001b[1;32m   1841\u001b[0m \u001b[0;34m\u001b[0m\u001b[0m\n",
      "\u001b[0;31mKeyboardInterrupt\u001b[0m: "
     ]
    }
   ],
   "source": [
    "# I think the TNG setup is different than his code\n",
    "\n",
    "subhalo_id = 1\n",
    "snapshot_number = 50\n",
    "\n",
    "\n",
    "i = names.index('TNG100-1')#Illustris-1')\n",
    "baseUrl = 'http://www.tng-project.org/api/'\n",
    "\n",
    "'''practice = get(\"http://www.tng-project.org/api/TNG100-1/files/offsets.0.hdf5\")\n",
    "prac = h5py.File(practice,'r')\n",
    "print(prac.keys())\n",
    "print(prac['FileOffsets'])\n",
    "STOP'''\n",
    "\n",
    "\n",
    "\n",
    "practice = get(\"http://www.tng-project.org/api/TNG100-1/files/offsets.\"+str(snapshot_number)+\".hdf5\")\n",
    "print('made it here')\n",
    "prac = h5py.File(practice,'r')\n",
    "print(prac.keys())\n",
    "print(prac['FileOffsets'])\n",
    "STOP\n",
    "\n",
    "\n",
    "\n",
    "'''# load sublink chunk offsets from header of first file\n",
    "groupFile=basePath+'groups_'+str(snapshot_number)+'/'+'groups_'+str(snapshot_number)+'.0.hdf5'\n",
    "\n",
    "#groupFile=basePath+'groups_0'+str(snapshot_number)+'/fof_subhalo_groups_0'+str(snapshot_number)+'.0.hdf5'\n",
    "file = h5py.File(groupFile, 'r')\n",
    "print(file.keys())\n",
    "print(file['Header'])'''\n",
    "#with h5py.File(offsets,'r') as file:\n",
    "subhaloFileOffsets = prac['FileOffsets']['Subhalo']\n",
    "treeFileOffsets = prac['FileOffsets']['SubLink']\n",
    "\n",
    "returnSimpleTree(baseUrl, i, subhalo_id,snapshot_number)"
   ]
  },
  {
   "cell_type": "code",
   "execution_count": null,
   "metadata": {},
   "outputs": [],
   "source": []
  },
  {
   "cell_type": "code",
   "execution_count": 150,
   "metadata": {},
   "outputs": [
    {
     "name": "stdout",
     "output_type": "stream",
     "text": [
      "{'simulation': 'http://www.tng-project.org/api/TNG100-1/', 'number': 50, 'redshift': 0.99729422578194, 'num_gas': 5604027289, 'num_dm': 6028568000, 'num_trmc': 12057136000, 'num_stars': 279081778, 'num_bhs': 35557, 'num_groups_fof': 6736881, 'num_groups_subfind': 5127294, 'num_groups_rockstar': 0, 'filesize_snapshot': 1848465894140.0, 'filesize_groupcat': 5060556988.0, 'filesize_rockstar': 0.0, 'url': 'http://www.tng-project.org/api/TNG100-1/snapshots/50/', 'subhalos': 'http://www.tng-project.org/api/TNG100-1/snapshots/50/subhalos/', 'vis': {'groupcat_sfms': 'http://www.tng-project.org/api/TNG100-1/snapshots/50/subhalos/plot.png?xQuant=mstar2_log&yQuant=ssfr&xlim=9.0%2C11.0', 'groupcat_sizemass': 'http://www.tng-project.org/api/TNG100-1/snapshots/50/subhalos/plot.png?xQuant=mstar2_log&yQuant=size_stars', 'groupcat_mz_gas': 'http://www.tng-project.org/api/TNG100-1/snapshots/50/subhalos/plot.png?xQuant=mstar2_log&yQuant=Z_gas', 'groupcat_mz_stars': 'http://www.tng-project.org/api/TNG100-1/snapshots/50/subhalos/plot.png?xQuant=mstar2_log&yQuant=Z_stars', 'groupcat_mstar_mhalo': 'http://www.tng-project.org/api/TNG100-1/snapshots/50/subhalos/plot.png?xQuant=mhalo_200_log&yQuant=mstar2_log', 'groupcat_smhm': 'http://www.tng-project.org/api/TNG100-1/snapshots/50/subhalos/plot.png?xQuant=mhalo_200_log&yQuant=mstar2_mhalo200_ratio&xlim=10.0%2C14.5', 'groupcat_halo_sizemass': 'http://www.tng-project.org/api/TNG100-1/snapshots/50/subhalos/plot.png?xQuant=mhalo_200_log&yQuant=rhalo_200&xlim=9.0%2C15.0', 'groupcat_fmr': 'http://www.tng-project.org/api/TNG100-1/snapshots/50/subhalos/plot.png?xQuant=mstar2_log&yQuant=delta_sfms&cQuant=Z_gas&xlim=8.5%2C11.0&ylim=-1.5%2C1.5&cRel=0.7%2C1.3'}, 'files': {'snapshot': 'http://www.tng-project.org/api/TNG100-1/files/snapshot-50/', 'groupcat': 'http://www.tng-project.org/api/TNG100-1/files/groupcat-50/'}}\n"
     ]
    },
    {
     "ename": "NameError",
     "evalue": "name 'STOP' is not defined",
     "output_type": "error",
     "traceback": [
      "\u001b[0;31m---------------------------------------------------------------------------\u001b[0m",
      "\u001b[0;31mNameError\u001b[0m                                 Traceback (most recent call last)",
      "\u001b[0;32m<ipython-input-150-a820421745ed>\u001b[0m in \u001b[0;36m<module>\u001b[0;34m\u001b[0m\n\u001b[1;32m      6\u001b[0m \u001b[0mbaseUrl\u001b[0m \u001b[0;34m=\u001b[0m \u001b[0;34m'http://www.tng-project.org/api/'\u001b[0m\u001b[0;34m\u001b[0m\u001b[0;34m\u001b[0m\u001b[0m\n\u001b[1;32m      7\u001b[0m \u001b[0;34m\u001b[0m\u001b[0m\n\u001b[0;32m----> 8\u001b[0;31m \u001b[0minfo\u001b[0m \u001b[0;34m=\u001b[0m \u001b[0mreturnMergerDeets\u001b[0m\u001b[0;34m(\u001b[0m\u001b[0mbaseUrl\u001b[0m\u001b[0;34m,\u001b[0m \u001b[0mi\u001b[0m\u001b[0;34m,\u001b[0m \u001b[0msubhalo_id\u001b[0m\u001b[0;34m,\u001b[0m\u001b[0msnapshot_number\u001b[0m\u001b[0;34m,\u001b[0m \u001b[0;36m0\u001b[0m\u001b[0;34m)\u001b[0m\u001b[0;34m\u001b[0m\u001b[0;34m\u001b[0m\u001b[0m\n\u001b[0m\u001b[1;32m      9\u001b[0m \u001b[0mprint\u001b[0m\u001b[0;34m(\u001b[0m\u001b[0minfo\u001b[0m\u001b[0;34m)\u001b[0m\u001b[0;34m\u001b[0m\u001b[0;34m\u001b[0m\u001b[0m\n",
      "\u001b[0;32m<ipython-input-126-ed87774fdfec>\u001b[0m in \u001b[0;36mreturnMergerDeets\u001b[0;34m(baseUrl, i, subhalo_id, snapshot_number, rowStart)\u001b[0m\n\u001b[1;32m      9\u001b[0m     \u001b[0msnap\u001b[0m \u001b[0;34m=\u001b[0m \u001b[0mget\u001b[0m\u001b[0;34m(\u001b[0m \u001b[0msnaps\u001b[0m\u001b[0;34m[\u001b[0m\u001b[0msnapshot_number\u001b[0m\u001b[0;34m]\u001b[0m\u001b[0;34m[\u001b[0m\u001b[0;34m'url'\u001b[0m\u001b[0;34m]\u001b[0m \u001b[0;34m)\u001b[0m\u001b[0;31m# -1 is redshift zero\u001b[0m\u001b[0;34m\u001b[0m\u001b[0;34m\u001b[0m\u001b[0m\n\u001b[1;32m     10\u001b[0m     \u001b[0mprint\u001b[0m\u001b[0;34m(\u001b[0m\u001b[0msnap\u001b[0m\u001b[0;34m)\u001b[0m\u001b[0;34m\u001b[0m\u001b[0;34m\u001b[0m\u001b[0m\n\u001b[0;32m---> 11\u001b[0;31m     \u001b[0mSTOP\u001b[0m\u001b[0;34m\u001b[0m\u001b[0;34m\u001b[0m\u001b[0m\n\u001b[0m\u001b[1;32m     12\u001b[0m     \u001b[0;31m# Right now, we're only going to pull a few subhaloes, the most massive\u001b[0m\u001b[0;34m\u001b[0m\u001b[0;34m\u001b[0m\u001b[0;34m\u001b[0m\u001b[0m\n\u001b[1;32m     13\u001b[0m     \u001b[0msubs\u001b[0m \u001b[0;34m=\u001b[0m \u001b[0mget\u001b[0m\u001b[0;34m(\u001b[0m \u001b[0msnap\u001b[0m\u001b[0;34m[\u001b[0m\u001b[0;34m'subhalos'\u001b[0m\u001b[0;34m]\u001b[0m\u001b[0;34m,\u001b[0m \u001b[0;34m{\u001b[0m\u001b[0;34m'limit'\u001b[0m\u001b[0;34m:\u001b[0m\u001b[0;36m3\u001b[0m\u001b[0;34m,\u001b[0m \u001b[0;34m'order_by'\u001b[0m\u001b[0;34m:\u001b[0m\u001b[0;34m'-mass_stars'\u001b[0m\u001b[0;34m}\u001b[0m \u001b[0;34m)\u001b[0m\u001b[0;34m\u001b[0m\u001b[0;34m\u001b[0m\u001b[0m\n",
      "\u001b[0;31mNameError\u001b[0m: name 'STOP' is not defined"
     ]
    }
   ],
   "source": [
    "subhalo_id = 1\n",
    "snapshot_number = 50\n",
    "\n",
    "\n",
    "i = names.index('TNG100-1')#Illustris-1')\n",
    "baseUrl = 'http://www.tng-project.org/api/'\n",
    "\n",
    "info = returnMergerDeets(baseUrl, i, subhalo_id,snapshot_number, 0)\n",
    "print(info)"
   ]
  },
  {
   "cell_type": "code",
   "execution_count": 151,
   "metadata": {},
   "outputs": [],
   "source": [
    "# This is me (Becky) modifying Zephyrs code to return merger mass ratio in addition to snapshot\n",
    "# I'm also going to make sure I return the subhalo ID and not the subfind ID\n",
    "def returnMergerDeets(baseUrl, i, subhalo_id,snapshot_number, rowStart):\n",
    "    r = get(baseUrl)\n",
    "    sim = get( r['simulations'][i]['url'] )\n",
    "    snaps = get( sim['snapshots'] )\n",
    "    \n",
    "    \n",
    "    snap = get( snaps[snapshot_number]['url'] )# -1 is redshift zero\n",
    "    \n",
    "    # Right now, we're only going to pull a few subhaloes, the most massive\n",
    "    subs = get( snap['subhalos'], {'limit':3, 'order_by':'-mass_stars'} )\n",
    "    # limit to one to make it smaller, this is \n",
    "    sub = get( subs['results'][2]['url'] )\n",
    "    \n",
    "    # What type of tree am I actually getting here:?\n",
    "    # This looks like it might not be the full extended tree\n",
    "    print(sub['trees'].keys())\n",
    "    STOP\n",
    "    url_tree = sub['trees']['sublink']\n",
    "    treeFile=get(url_tree)\n",
    "   \n",
    "    \n",
    "    '''rawTree = h5py.File(treeFile,'r')\n",
    "    print('len root descendant', rawTree['RootDescendantID'])\n",
    "    print('len last prog id', rawTree['LastProgenitorID'])\n",
    "    \n",
    "    STOP'''\n",
    "    print('about to load up the tree')\n",
    "    with h5py.File(treeFile,'r') as rawTree:\n",
    "        #finding which entries in tree we're interested in\n",
    "        firstId = rawTree['RootDescendantID'][rowStart]\n",
    "        rowStart=rowStart+(firstId-subhalo_id)\n",
    "        lastId = rawTree['LastProgenitorID'][rowStart]\n",
    "        rowEnd=rowStart+lastId-firstId+1\n",
    "\n",
    "        nFind=rawTree['SubhaloID'][rowStart:rowEnd]\n",
    "        nSnap=rawTree['SnapNum'][rowStart:rowEnd]\n",
    "        nSub=rawTree['SubhaloID'][rowStart:rowEnd]\n",
    "        nFirst=rawTree['FirstProgenitorID'][rowStart:rowEnd]\n",
    "        nNext=rawTree['NextProgenitorID'][rowStart:rowEnd]\n",
    "        nDesc=rawTree['DescendantID'][rowStart:rowEnd]\n",
    "    print('loaded all the tree files')\n",
    "    #initialises the tree\n",
    "    thisTree=-1*np.ones((snapshot_number+1,2),dtype=int)\n",
    "    thisTree[:,0]=np.arange(snapshot_number,-1,-1)\n",
    "\n",
    "    #traces the tree back to the latest subhalo in the mpb\n",
    "    zIndex=np.argwhere((nFind==subhalo_id) & (nSnap==snapshot_number))[0][0]\n",
    "    thisIndex=zIndex\n",
    "    if thisIndex!=0:\n",
    "        descSub=nDesc[zIndex]\n",
    "        thisSub=nSub[zIndex]\n",
    "        descIndex=zIndex+descSub-nSub[zIndex]\n",
    "        while ((nFirst[descIndex]==thisSub) & (nDesc[descIndex]!=-1)): #while the first progentior of each descendant is this subhalo\n",
    "            descSub=nDesc[descIndex]\n",
    "            thisSub=nSub[descIndex]\n",
    "            descIndex=descIndex+descSub-nSub[descIndex]\n",
    "            thisIndex=descIndex\n",
    "\n",
    "    thisSnap=nSnap[thisIndex]\n",
    "    thisFind=nFind[thisIndex]\n",
    "    thisTree[snapshot_number-thisSnap,1]=thisFind # records subfind id of first step\n",
    "    print('initializing the list of mergers')\n",
    "    #initialises the list of merging galaxies\n",
    "    if thisSnap!=snapshot_number: #if it doesn't reach z=0 records the subhalo it merges with\n",
    "        descIndex=thisIndex+nDesc[thisIndex]-nSub[thisIndex]\n",
    "        descSnap=nSnap[descIndex]\n",
    "        descFind=nFind[descIndex]\n",
    "        mergerTree=[[descSnap,descIndex]]\n",
    "    else:\n",
    "        mergerTree=[]\n",
    "\n",
    "    print('about to add to the list of mergers')\n",
    "    while nFirst[thisIndex]!=-1: # goes through main progenitors\n",
    "        thisIndex=thisIndex+nFirst[thisIndex]-nSub[thisIndex] #index of next main step in main progenitor branch\n",
    "\n",
    "        #thisSnap=nSnap[thisIndex] #snapshot of this main progenitor\n",
    "        #thisFind=nFind[thisIndex] #subfind id of this main progenitor\n",
    "        #thisTree[135-thisSnap,1]=thisFind # records subfind id of this main progenitor\n",
    "\n",
    "        nextIndex=thisIndex+0 #stupid python objects\n",
    "        while nNext[nextIndex]!=-1: # goes through merging halos (next progenitors)\n",
    "\n",
    "            nextIndex=nextIndex+nNext[nextIndex]-nSub[nextIndex] #index of next progenitor\n",
    "\n",
    "            #records details of these mergers\n",
    "            mergerSnap=nSnap[nextIndex]\n",
    "            mergerSub=nFind[nextIndex]\n",
    "            mergerTree.append([mergerSnap,mergerSub])\n",
    "            print([mergerSnap,mergerSub])\n",
    "\n",
    "   \n",
    "    return np.array(mergerTree)"
   ]
  },
  {
   "cell_type": "code",
   "execution_count": null,
   "metadata": {},
   "outputs": [],
   "source": []
  },
  {
   "cell_type": "code",
   "execution_count": 268,
   "metadata": {},
   "outputs": [
    {
     "name": "stdout",
     "output_type": "stream",
     "text": [
      "<KeysViewHDF5 ['DescendantID', 'FirstProgenitorID', 'FirstSubhaloInFOFGroupID', 'GroupBHMass', 'GroupBHMdot', 'GroupCM', 'GroupFirstSub', 'GroupGasMetalFractions', 'GroupGasMetallicity', 'GroupLen', 'GroupLenType', 'GroupMass', 'GroupMassType', 'GroupNsubs', 'GroupPos', 'GroupSFR', 'GroupStarMetalFractions', 'GroupStarMetallicity', 'GroupVel', 'GroupWindMass', 'Group_M_Crit200', 'Group_M_Crit500', 'Group_M_Mean200', 'Group_M_TopHat200', 'Group_R_Crit200', 'Group_R_Crit500', 'Group_R_Mean200', 'Group_R_TopHat200', 'LastProgenitorID', 'MainLeafProgenitorID', 'Mass', 'MassHistory', 'NextProgenitorID', 'NextSubhaloInFOFGroupID', 'NumParticles', 'RootDescendantID', 'SnapNum', 'SubfindID', 'SubhaloBHMass', 'SubhaloBHMdot', 'SubhaloBfldDisk', 'SubhaloBfldHalo', 'SubhaloCM', 'SubhaloGasMetalFractions', 'SubhaloGasMetalFractionsHalfRad', 'SubhaloGasMetalFractionsMaxRad', 'SubhaloGasMetalFractionsSfr', 'SubhaloGasMetalFractionsSfrWeighted', 'SubhaloGasMetallicity', 'SubhaloGasMetallicityHalfRad', 'SubhaloGasMetallicityMaxRad', 'SubhaloGasMetallicitySfr', 'SubhaloGasMetallicitySfrWeighted', 'SubhaloGrNr', 'SubhaloHalfmassRad', 'SubhaloHalfmassRadType', 'SubhaloID', 'SubhaloIDMostbound', 'SubhaloIDRaw', 'SubhaloLen', 'SubhaloLenType', 'SubhaloMass', 'SubhaloMassInHalfRad', 'SubhaloMassInHalfRadType', 'SubhaloMassInMaxRad', 'SubhaloMassInMaxRadType', 'SubhaloMassInRad', 'SubhaloMassInRadType', 'SubhaloMassType', 'SubhaloParent', 'SubhaloPos', 'SubhaloSFR', 'SubhaloSFRinHalfRad', 'SubhaloSFRinMaxRad', 'SubhaloSFRinRad', 'SubhaloSpin', 'SubhaloStarMetalFractions', 'SubhaloStarMetalFractionsHalfRad', 'SubhaloStarMetalFractionsMaxRad', 'SubhaloStarMetallicity', 'SubhaloStarMetallicityHalfRad', 'SubhaloStarMetallicityMaxRad', 'SubhaloStellarPhotometrics', 'SubhaloStellarPhotometricsMassInRad', 'SubhaloStellarPhotometricsRad', 'SubhaloVel', 'SubhaloVelDisp', 'SubhaloVmax', 'SubhaloVmaxRad', 'SubhaloWindMass', 'TreeID']>\n"
     ]
    }
   ],
   "source": [
    "# But the issue is that we don't know the mass?\n",
    "\n",
    "# Wouldn't it be cool to look at images? I think they are only available for the most\n",
    "# massive subhaloes though...\n",
    "\n",
    "# You can actually visualize these galaxies here - https://www.tng-project.org/data/vis/\n",
    "\n",
    "# I think the next step is to figure out what mass ratio the merger is that we're seeing at each 'merger'\n",
    "\n",
    "\n",
    "tree = get(url_tree)\n",
    "f = h5py.File(tree,'r')\n",
    "print(f.keys())\n",
    "\n",
    "#['SubhaloID', 'NextProgenitorID', 'MainLeafProgenitorID','FirstProgenitorID', 'SubhaloMassType']\n",
    "# link to a page that lists what these things all are - https://www.illustris-project.org/data/docs/specifications/"
   ]
  },
  {
   "cell_type": "code",
   "execution_count": 280,
   "metadata": {},
   "outputs": [
    {
     "name": "stdout",
     "output_type": "stream",
     "text": [
      "Starting with this galaxy 4515171 99\n"
     ]
    },
    {
     "name": "stderr",
     "output_type": "stream",
     "text": [
      "/Users/beckynevin/anaconda3/lib/python3.7/site-packages/ipykernel_launcher.py:236: RuntimeWarning: divide by zero encountered in float_scalars\n"
     ]
    },
    {
     "name": "stdout",
     "output_type": "stream",
     "text": [
      "we are at the end times 3\n",
      "restarting a new branch 2 4515270\n",
      "Number of major mergers 5\n",
      "IDs before ~~~~~~~~~~~~~~~~~~~~~~~~~~\n",
      "[[4515209, 4681409, 61], [4515225, 4574917, 45], [4515226, 4555695, 44], [4515264, 4515289, 6], [4515267, 4515272, 3]]\n",
      "IDS after ~~~~~~~~~~~~~~~~~~~~~~~~~~\n",
      "[[4515208, 62], [4515224, 46], [4515225, 45], [4515263, 7], [4515266, 4]]\n",
      "Ratios ~~~~~~~~~~~~~~~~~~~~~~~~\n",
      "[3.3215377, 1.9916139, 1.8456881, 2.9812093, 0.72919774]\n"
     ]
    },
    {
     "name": "stderr",
     "output_type": "stream",
     "text": [
      "/Users/beckynevin/anaconda3/lib/python3.7/site-packages/ipykernel_launcher.py:236: RuntimeWarning: invalid value encountered in float_scalars\n"
     ]
    },
    {
     "data": {
      "text/plain": [
       "\"num_mergers, ratios, indices, snapnums, mass1, mass2 = merger_info(f, 0.25, 10,0.7,'stars')\\n\\nprint(num_mergers)\\nprint('their ratios', ratios)\\nprint('indices', indices)\\nprint('snap', snapnums)\\nprint('mass primary', mass1)\\nprint('mass secondary', mass2)\""
      ]
     },
     "execution_count": 280,
     "metadata": {},
     "output_type": "execute_result"
    }
   ],
   "source": [
    "# Now we can use existing codes to find the number of mergers in this tree above a certain mass ratio\n",
    "\n",
    "#tree = get(url_tree)\n",
    "numMergers(f, 0.25,'stars')#finding all major mergers (between stellar masses)\n",
    "num, merg_bf, merg_af, ratios = numMergers_nocut(f,0.25,'stars')\n",
    "\n",
    "print('Number of major mergers', num)\n",
    "print('IDs before ~~~~~~~~~~~~~~~~~~~~~~~~~~')\n",
    "print(merg_bf)\n",
    "print('IDS after ~~~~~~~~~~~~~~~~~~~~~~~~~~')\n",
    "print(merg_af)\n",
    "print('Ratios ~~~~~~~~~~~~~~~~~~~~~~~~')\n",
    "print(ratios)\n",
    "# Now I want more info like the indices and snapnums of all of these mergers = juicy\n",
    "#num_mergers, ratios, indices, snapnums = merger_info(f, 0.25, 'stars')\n",
    "\n",
    "'''num_mergers, ratios, indices, snapnums, mass1, mass2 = merger_info(f, 0.25, 10,0.7,'stars')\n",
    "\n",
    "print(num_mergers)\n",
    "print('their ratios', ratios)\n",
    "print('indices', indices)\n",
    "print('snap', snapnums)\n",
    "print('mass primary', mass1)\n",
    "print('mass secondary', mass2)'''"
   ]
  },
  {
   "cell_type": "code",
   "execution_count": 104,
   "metadata": {},
   "outputs": [
    {
     "name": "stdout",
     "output_type": "stream",
     "text": [
      "dict_keys(['snap', 'id', 'bhmdot', 'cm_x', 'cm_y', 'cm_z', 'gasmetallicity', 'gasmetallicityhalfrad', 'gasmetallicitymaxrad', 'gasmetallicitysfr', 'gasmetallicitysfrweighted', 'pos_x', 'pos_y', 'pos_z', 'halfmassrad', 'halfmassrad_gas', 'halfmassrad_dm', 'halfmassrad_stars', 'halfmassrad_bhs', 'len', 'len_gas', 'len_dm', 'len_stars', 'len_bhs', 'mass', 'mass_gas', 'mass_dm', 'mass_stars', 'mass_bhs', 'massinhalfrad', 'massinhalfrad_gas', 'massinhalfrad_dm', 'massinhalfrad_stars', 'massinhalfrad_bhs', 'massinmaxrad', 'massinmaxrad_gas', 'massinmaxrad_dm', 'massinmaxrad_stars', 'massinmaxrad_bhs', 'massinrad', 'massinrad_gas', 'massinrad_dm', 'massinrad_stars', 'massinrad_bhs', 'sfr', 'sfrinhalfrad', 'sfrinmaxrad', 'sfrinrad', 'spin_x', 'spin_y', 'spin_z', 'starmetallicity', 'starmetallicityhalfrad', 'starmetallicitymaxrad', 'stellarphotometrics_u', 'stellarphotometrics_b', 'stellarphotometrics_v', 'stellarphotometrics_k', 'stellarphotometrics_g', 'stellarphotometrics_r', 'stellarphotometrics_i', 'stellarphotometrics_z', 'stellarphotometricsmassinrad', 'stellarphotometricsrad', 'vel_x', 'vel_y', 'vel_z', 'veldisp', 'vmax', 'vmaxrad', 'windmass', 'prog_snap', 'prog_sfid', 'desc_snap', 'desc_sfid', 'parent', 'grnr', 'primary_flag', 'mass_log_msun', 'related', 'cutouts', 'trees', 'supplementary_data', 'vis', 'meta'])\n"
     ]
    },
    {
     "ename": "KeyError",
     "evalue": "\"Unable to open object (object 'PartType0' doesn't exist)\"",
     "output_type": "error",
     "traceback": [
      "\u001b[0;31m---------------------------------------------------------------------------\u001b[0m",
      "\u001b[0;31mKeyError\u001b[0m                                  Traceback (most recent call last)",
      "\u001b[0;32m<ipython-input-104-9df5eee3c93f>\u001b[0m in \u001b[0;36m<module>\u001b[0;34m\u001b[0m\n\u001b[1;32m     14\u001b[0m \u001b[0;32mwith\u001b[0m \u001b[0mh5py\u001b[0m\u001b[0;34m.\u001b[0m\u001b[0mFile\u001b[0m\u001b[0;34m(\u001b[0m\u001b[0mcutout\u001b[0m\u001b[0;34m,\u001b[0m\u001b[0;34m'r'\u001b[0m\u001b[0;34m)\u001b[0m \u001b[0;32mas\u001b[0m \u001b[0mcut\u001b[0m\u001b[0;34m:\u001b[0m\u001b[0;34m\u001b[0m\u001b[0;34m\u001b[0m\u001b[0m\n\u001b[1;32m     15\u001b[0m \u001b[0;34m\u001b[0m\u001b[0m\n\u001b[0;32m---> 16\u001b[0;31m     \u001b[0mx\u001b[0m \u001b[0;34m=\u001b[0m \u001b[0mcut\u001b[0m\u001b[0;34m[\u001b[0m\u001b[0;34m'PartType0'\u001b[0m\u001b[0;34m]\u001b[0m\u001b[0;34m[\u001b[0m\u001b[0;34m'Coordinates'\u001b[0m\u001b[0;34m]\u001b[0m\u001b[0;34m[\u001b[0m\u001b[0;34m:\u001b[0m\u001b[0;34m,\u001b[0m\u001b[0;36m0\u001b[0m\u001b[0;34m]\u001b[0m \u001b[0;34m-\u001b[0m \u001b[0msub_prog\u001b[0m\u001b[0;34m[\u001b[0m\u001b[0;34m'pos_x'\u001b[0m\u001b[0;34m]\u001b[0m\u001b[0;34m\u001b[0m\u001b[0;34m\u001b[0m\u001b[0m\n\u001b[0m\u001b[1;32m     17\u001b[0m     \u001b[0my\u001b[0m \u001b[0;34m=\u001b[0m \u001b[0mcut\u001b[0m\u001b[0;34m[\u001b[0m\u001b[0;34m'PartType1'\u001b[0m\u001b[0;34m]\u001b[0m\u001b[0;34m[\u001b[0m\u001b[0;34m'Coordinates'\u001b[0m\u001b[0;34m]\u001b[0m\u001b[0;34m[\u001b[0m\u001b[0;34m:\u001b[0m\u001b[0;34m,\u001b[0m\u001b[0;36m1\u001b[0m\u001b[0;34m]\u001b[0m \u001b[0;34m-\u001b[0m \u001b[0msub_prog\u001b[0m\u001b[0;34m[\u001b[0m\u001b[0;34m'pos_y'\u001b[0m\u001b[0;34m]\u001b[0m\u001b[0;34m\u001b[0m\u001b[0;34m\u001b[0m\u001b[0m\n\u001b[1;32m     18\u001b[0m \u001b[0;34m\u001b[0m\u001b[0m\n",
      "\u001b[0;32mh5py/_objects.pyx\u001b[0m in \u001b[0;36mh5py._objects.with_phil.wrapper\u001b[0;34m()\u001b[0m\n",
      "\u001b[0;32mh5py/_objects.pyx\u001b[0m in \u001b[0;36mh5py._objects.with_phil.wrapper\u001b[0;34m()\u001b[0m\n",
      "\u001b[0;32m~/anaconda3/lib/python3.7/site-packages/h5py/_hl/group.py\u001b[0m in \u001b[0;36m__getitem__\u001b[0;34m(self, name)\u001b[0m\n\u001b[1;32m    260\u001b[0m                 \u001b[0;32mraise\u001b[0m \u001b[0mValueError\u001b[0m\u001b[0;34m(\u001b[0m\u001b[0;34m\"Invalid HDF5 object reference\"\u001b[0m\u001b[0;34m)\u001b[0m\u001b[0;34m\u001b[0m\u001b[0;34m\u001b[0m\u001b[0m\n\u001b[1;32m    261\u001b[0m         \u001b[0;32melse\u001b[0m\u001b[0;34m:\u001b[0m\u001b[0;34m\u001b[0m\u001b[0;34m\u001b[0m\u001b[0m\n\u001b[0;32m--> 262\u001b[0;31m             \u001b[0moid\u001b[0m \u001b[0;34m=\u001b[0m \u001b[0mh5o\u001b[0m\u001b[0;34m.\u001b[0m\u001b[0mopen\u001b[0m\u001b[0;34m(\u001b[0m\u001b[0mself\u001b[0m\u001b[0;34m.\u001b[0m\u001b[0mid\u001b[0m\u001b[0;34m,\u001b[0m \u001b[0mself\u001b[0m\u001b[0;34m.\u001b[0m\u001b[0m_e\u001b[0m\u001b[0;34m(\u001b[0m\u001b[0mname\u001b[0m\u001b[0;34m)\u001b[0m\u001b[0;34m,\u001b[0m \u001b[0mlapl\u001b[0m\u001b[0;34m=\u001b[0m\u001b[0mself\u001b[0m\u001b[0;34m.\u001b[0m\u001b[0m_lapl\u001b[0m\u001b[0;34m)\u001b[0m\u001b[0;34m\u001b[0m\u001b[0;34m\u001b[0m\u001b[0m\n\u001b[0m\u001b[1;32m    263\u001b[0m \u001b[0;34m\u001b[0m\u001b[0m\n\u001b[1;32m    264\u001b[0m         \u001b[0motype\u001b[0m \u001b[0;34m=\u001b[0m \u001b[0mh5i\u001b[0m\u001b[0;34m.\u001b[0m\u001b[0mget_type\u001b[0m\u001b[0;34m(\u001b[0m\u001b[0moid\u001b[0m\u001b[0;34m)\u001b[0m\u001b[0;34m\u001b[0m\u001b[0;34m\u001b[0m\u001b[0m\n",
      "\u001b[0;32mh5py/_objects.pyx\u001b[0m in \u001b[0;36mh5py._objects.with_phil.wrapper\u001b[0;34m()\u001b[0m\n",
      "\u001b[0;32mh5py/_objects.pyx\u001b[0m in \u001b[0;36mh5py._objects.with_phil.wrapper\u001b[0;34m()\u001b[0m\n",
      "\u001b[0;32mh5py/h5o.pyx\u001b[0m in \u001b[0;36mh5py.h5o.open\u001b[0;34m()\u001b[0m\n",
      "\u001b[0;31mKeyError\u001b[0m: \"Unable to open object (object 'PartType0' doesn't exist)\""
     ]
    }
   ],
   "source": [
    "# Is there a way to look at these and see if they look like mergers?\n",
    "snap = 61\n",
    "idj = 4515209\n",
    "\n",
    "redshift_url = \"http://www.tng-project.org/api/TNG100-1/snapshots/\"+str(snap)\n",
    "scale_factor =  1 / (1 + get(redshift_url)['redshift'])\n",
    "\n",
    "sub_prog_url = \"http://www.tng-project.org/api/TNG100-1/snapshots/\"+str(snap)+\"/subhalos/\" + str(idj)\n",
    "sub_prog = get(sub_prog_url)\n",
    "print(sub_prog.keys())\n",
    "\n",
    "cutout_request = {'gas':'Coordinates,Masses'}\n",
    "cutout = get(sub_prog_url+\"/cutout.hdf5\", cutout_request)\n",
    "with h5py.File(cutout,'r') as cut:\n",
    "    \n",
    "    x = cut['PartType0']['Coordinates'][:,0] - sub_prog['pos_x']\n",
    "    y = cut['PartType1']['Coordinates'][:,1] - sub_prog['pos_y']\n",
    "\n",
    "    x *= scale_factor/little_h\n",
    "    y *= scale_factor/little_h\n",
    "    #rr *= scale_factor/little_h # ckpc/h -> physical kpc\n",
    "    #scale_factor = 1.0 / (1+redshift)\n",
    "    #little_h = 0.704\n",
    "    dens = np.log10(cut['PartType1']['SubfindDensity'][:])\n",
    "plt.hist2d(x,y,weights=dens,bins=[150,100], cmap='RdYlGn')\n",
    "plt.xlabel('$\\Delta x$ [kpc]')\n",
    "plt.ylabel('$\\Delta y$ [kpc]');\n",
    "plt.title('Snap = '+str(snap)+' ID = '+str(idj)+' Ratio = '+str(ratios[j]))\n",
    "plt.show()"
   ]
  },
  {
   "cell_type": "code",
   "execution_count": 37,
   "metadata": {},
   "outputs": [
    {
     "name": "stdout",
     "output_type": "stream",
     "text": [
      "663985\n",
      "[49 48 47 46 45 44 43 42 41 40 39 38 37 36 35 34 37 62 61 60 59 58 57 56\n",
      " 54 52 51 50 49 48 47 46 45 44 43 42 41 40 39 38 37 61 60 59 58 57 56 54\n",
      " 52 51]\n",
      "[0.54847527 0.507031   0.46602762 0.43384218 0.39724776 0.36153516\n",
      " 0.32538164 0.2901099  0.2552791  0.22044826 0.18120848 0.14505495\n",
      " 0.10757875 0.08465213 0.05423027 0.02380841 0.00749524 0.7865594\n",
      " 0.76407367 0.7424697  0.7191022  0.69441205 0.656054   0.6199005\n",
      " 0.6035873  0.5471526  0.49027693 0.44221923 0.39636597 0.34742647\n",
      " 0.29584157 0.24734294 0.2036942  0.17327233 0.14240958 0.11198772\n",
      " 0.08553392 0.05731655 0.03527172 0.01631317 0.00661345 0.6992619\n",
      " 0.6847123  0.67016274 0.6459134  0.61637336 0.5868333  0.5555296\n",
      " 0.5215806  0.48807245]\n"
     ]
    },
    {
     "data": {
      "image/png": "[encoded data removed]",
      "text/plain": [
       "<Figure size 432x288 with 1 Axes>"
      ]
     },
     "metadata": {
      "needs_background": "light"
     },
     "output_type": "display_data"
    },
    {
     "name": "stdout",
     "output_type": "stream",
     "text": [
      "~~~~~Mergers~~~~~~\n",
      "# = 3894\n",
      "Snapnum [121 121 121 ... 134 134 134]\n",
      "SubfindID [  41939   41259   41560 ...   79746 3119691   77271]\n"
     ]
    },
    {
     "data": {
      "image/png": "[encoded data removed]",
      "text/plain": [
       "<Figure size 432x288 with 1 Axes>"
      ]
     },
     "metadata": {
      "needs_background": "light"
     },
     "output_type": "display_data"
    }
   ],
   "source": [
    "h = 0.7\n",
    "\n",
    "with h5py.File(tree,'r') as t:\n",
    "    snapnum = t['SnapNum'][:]\n",
    "    mass = t['MassHistory'][:]\n",
    "    subfindid = t['SubfindID'][:]\n",
    "\n",
    "print(len(snapnum))\n",
    "start = 15000\n",
    "end = 15050\n",
    "\n",
    "lower_snap = 120#was 60\n",
    "upper_snap = 135#was 85\n",
    "print(snapnum[start:end])\n",
    "print(mass[start:end])\n",
    "\n",
    "# Okay look for all places where snapnum switches over, this is when a merger happens\n",
    "color_pt = []\n",
    "merger_index = []\n",
    "for j in range(len(snapnum)):\n",
    "    if j==0:\n",
    "        color_pt.append('black')\n",
    "        continue\n",
    "        #try:\n",
    "    if (snapnum[j] - snapnum[j-1]) > 1 and snapnum[j] > lower_snap and snapnum[j] <upper_snap:\n",
    "        #print(abs(snapnum[j+1] - snapnum[j]), snapnum[j], snapnum[j+1])\n",
    "        color_pt.append('red')\n",
    "        merger_index.append(j)\n",
    "        #STOP\n",
    "    else:\n",
    "        color_pt.append('black')\n",
    "\n",
    "\n",
    "\n",
    "\n",
    "plt.clf()\n",
    "plt.plot(snapnum[start:end],(mass[start:end]*h))\n",
    "plt.scatter(snapnum[start:end],(mass[start:end]*h), color=color_pt[start:end])\n",
    "plt.annotate('Subid = '+str(sub['id']), xy=(0.05,0.9), xycoords='axes fraction')\n",
    "plt.xlabel('Snap number')\n",
    "plt.ylabel('Mass History, units = [/10^10 Solar]')\n",
    "#plt.ylim([-0.004,0.004])\n",
    "#plt.xlim([100,130])\n",
    "plt.show()\n",
    "\n",
    "\n",
    "print('~~~~~Mergers~~~~~~')\n",
    "print('# = '+str(len(merger_index)))\n",
    "#print('indices', merger_index)\n",
    "print('Snapnum',snapnum[merger_index])\n",
    "print('SubfindID', subfindid[merger_index])\n",
    "\n",
    "# What if you just select the mergers between a certain range of redshifts, snapshots\n",
    "# roughly correspond to redshifts 65 and 80 should do it?\n",
    "\n",
    "\n",
    "\n",
    "plt.clf()\n",
    "plt.plot(snapnum,(mass*h))\n",
    "plt.scatter(snapnum,(mass*h), color=color_pt)\n",
    "plt.annotate('Subid = '+str(sub['id']), xy=(0.05,0.9), xycoords='axes fraction')\n",
    "plt.xlabel('Snap number')\n",
    "plt.ylabel('Mass History, units = [/10^10 Solar]')\n",
    "#plt.ylim([-0.004,0.004])\n",
    "plt.xlim([lower_snap, upper_snap])\n",
    "#plt.ylim([0,5e-8])\n",
    "#snapshot 68 is z = 2.002\n",
    "plt.show()"
   ]
  },
  {
   "cell_type": "markdown",
   "metadata": {},
   "source": [
    "### The mass ratio of a merger is not taken at the moment of merging"
   ]
  },
  {
   "cell_type": "code",
   "execution_count": 69,
   "metadata": {},
   "outputs": [
    {
     "data": {
      "text/plain": [
       "10"
      ]
     },
     "execution_count": 69,
     "metadata": {},
     "output_type": "execute_result"
    }
   ],
   "source": [
    "# Use the below codes to find the number of mergers\n",
    "numMergers(f, 1e-1,'stars')#was 1e-10\n"
   ]
  },
  {
   "cell_type": "code",
   "execution_count": 70,
   "metadata": {},
   "outputs": [
    {
     "name": "stdout",
     "output_type": "stream",
     "text": [
      "fpID 10000000105518489 rootID 10000000105518488\n",
      "fp Index 1 fpID 10000000105518489\n",
      "npID 10000000106146903\n",
      "fp Index 2 fpID 10000000105518490\n",
      "npID 10000000106134946\n",
      "fp Index 3 fpID 10000000105518491\n",
      "npID 10000000106124687\n",
      "fp Index 4 fpID 10000000105518492\n",
      "npID 10000000106111650\n",
      "fp Index 5 fpID 10000000105518493\n",
      "npID 10000000106102132\n",
      "fp Index 6 fpID 10000000105518494\n",
      "npID 10000000106089682\n",
      "fp Index 7 fpID 10000000105518495\n",
      "npID 10000000106078782\n",
      "fp Index 8 fpID 10000000105518496\n",
      "npID 10000000106066061\n",
      "fp Index 9 fpID 10000000105518497\n",
      "npID 10000000106056946\n",
      "fp Index 10 fpID 10000000105518498\n",
      "npID 10000000106046102\n",
      "fp Index 11 fpID 10000000105518499\n",
      "npID 10000000106033874\n",
      "fp Index 12 fpID 10000000105518500\n",
      "npID 10000000106023473\n",
      "fp Index 13 fpID 10000000105518501\n",
      "npID 10000000106011076\n",
      "fp Index 14 fpID 10000000105518502\n",
      "npID 10000000106001926\n",
      "fp Index 15 fpID 10000000105518503\n",
      "npID 10000000105991073\n",
      "fp Index 16 fpID 10000000105518504\n",
      "npID 10000000105980941\n",
      "fp Index 17 fpID 10000000105518505\n",
      "npID 10000000105860472\n",
      "Merger 10000000105860472\n",
      "mass prog 93.12425 mass fp 156.55971\n"
     ]
    },
    {
     "ename": "NameError",
     "evalue": "name 'STOP' is not defined",
     "output_type": "error",
     "traceback": [
      "\u001b[0;31m---------------------------------------------------------------------------\u001b[0m",
      "\u001b[0;31mNameError\u001b[0m                                 Traceback (most recent call last)",
      "\u001b[0;32m<ipython-input-70-ac61a1683f28>\u001b[0m in \u001b[0;36m<module>\u001b[0;34m\u001b[0m\n\u001b[0;32m----> 1\u001b[0;31m \u001b[0mnum_mergers\u001b[0m\u001b[0;34m,\u001b[0m \u001b[0mratios\u001b[0m\u001b[0;34m,\u001b[0m \u001b[0mindices\u001b[0m\u001b[0;34m,\u001b[0m \u001b[0msnapnums\u001b[0m \u001b[0;34m=\u001b[0m \u001b[0mmerger_info\u001b[0m\u001b[0;34m(\u001b[0m\u001b[0mf\u001b[0m\u001b[0;34m,\u001b[0m \u001b[0;36m1e-1\u001b[0m\u001b[0;34m,\u001b[0m \u001b[0;34m'stars'\u001b[0m\u001b[0;34m)\u001b[0m\u001b[0;34m\u001b[0m\u001b[0;34m\u001b[0m\u001b[0m\n\u001b[0m\u001b[1;32m      2\u001b[0m \u001b[0;31m#numMergers, ratio_list, index_list, snapnum_list\u001b[0m\u001b[0;34m\u001b[0m\u001b[0;34m\u001b[0m\u001b[0;34m\u001b[0m\u001b[0m\n",
      "\u001b[0;32m<ipython-input-67-d7fae031b95a>\u001b[0m in \u001b[0;36mmerger_info\u001b[0;34m(tree, minMassRatio, massPartType, index)\u001b[0m\n\u001b[1;32m     73\u001b[0m                     \u001b[0msnapnum_list\u001b[0m\u001b[0;34m.\u001b[0m\u001b[0mappend\u001b[0m\u001b[0;34m(\u001b[0m\u001b[0mnpsnapnum\u001b[0m\u001b[0;34m)\u001b[0m\u001b[0;34m\u001b[0m\u001b[0;34m\u001b[0m\u001b[0m\n\u001b[1;32m     74\u001b[0m \u001b[0;34m\u001b[0m\u001b[0m\n\u001b[0;32m---> 75\u001b[0;31m                     \u001b[0mSTOP\u001b[0m\u001b[0;34m\u001b[0m\u001b[0;34m\u001b[0m\u001b[0m\n\u001b[0m\u001b[1;32m     76\u001b[0m \u001b[0;34m\u001b[0m\u001b[0m\n\u001b[1;32m     77\u001b[0m             \u001b[0mnpID\u001b[0m \u001b[0;34m=\u001b[0m \u001b[0mtree\u001b[0m\u001b[0;34m[\u001b[0m\u001b[0;34m'NextProgenitorID'\u001b[0m\u001b[0;34m]\u001b[0m\u001b[0;34m[\u001b[0m\u001b[0mnpIndex\u001b[0m\u001b[0;34m]\u001b[0m\u001b[0;34m\u001b[0m\u001b[0;34m\u001b[0m\u001b[0m\n",
      "\u001b[0;31mNameError\u001b[0m: name 'STOP' is not defined"
     ]
    }
   ],
   "source": [
    "num_mergers, ratios, indices, snapnums = merger_info(f, 1e-1, 'stars')\n",
    "#numMergers, ratio_list, index_list, snapnum_list"
   ]
  },
  {
   "cell_type": "code",
   "execution_count": 98,
   "metadata": {},
   "outputs": [
    {
     "name": "stdout",
     "output_type": "stream",
     "text": [
      "compiled\n"
     ]
    }
   ],
   "source": [
    "def partTypeNum(partType):\n",
    "    \"\"\" Mapping between common names and numeric particle types. \"\"\"\n",
    "    if str(partType).isdigit():\n",
    "        return int(partType)\n",
    "        \n",
    "    if str(partType).lower() in ['gas','cells']:\n",
    "        return 0\n",
    "    if str(partType).lower() in ['dm','darkmatter']:\n",
    "        return 1\n",
    "    if str(partType).lower() in ['tracer','tracers','tracermc','trmc']:\n",
    "        return 3\n",
    "    if str(partType).lower() in ['star','stars','stellar']:\n",
    "        return 4 # only those with GFM_StellarFormationTime>0\n",
    "    if str(partType).lower() in ['wind']:\n",
    "        return 4 # only those with GFM_StellarFormationTime<0\n",
    "    if str(partType).lower() in ['bh','bhs','blackhole','blackholes']:\n",
    "        return 5\n",
    "    \n",
    "    raise Exception(\"Unknown particle type name.\")\n",
    "# This is code from Zephyr Penoyre\n",
    "# used to create the simple.json file that has the merger id and snapnum\n",
    "def returnSimpleTree(baseUrl, i, subhalo_id,snapshot_number):\n",
    "    '''\n",
    "    I think we first need the groupFile because we'll need to cross-list\n",
    "    the subhalo ID with the subfind ID.\n",
    "    '''\n",
    "    '''r = get(baseUrl)\n",
    "    sim = get( r['simulations'][i]['url'] )\n",
    "    print(sim)\n",
    "    print(sim['files'])\n",
    "    print(str(sim['files'])+'offsets.'+str(snapshot_number)+'.hdf5')\n",
    "    offsets = get( str(sim['files'])+'offsets.'+str(snapshot_number)+'.hdf5' )\n",
    "    print(offsets)'''\n",
    "    \n",
    "    \n",
    "    practice = get(\"http://www.tng-project.org/api/TNG100-1/files/offsets.\"+str(snapshot_number)+\".hdf5\")\n",
    "    prac = h5py.File(practice,'r')\n",
    "    print(prac.keys())\n",
    "    print(prac['FileOffsets'])\n",
    "    STOP\n",
    "    \n",
    "    \n",
    "    \n",
    "    '''# load sublink chunk offsets from header of first file\n",
    "    groupFile=basePath+'groups_'+str(snapshot_number)+'/'+'groups_'+str(snapshot_number)+'.0.hdf5'\n",
    "   \n",
    "    #groupFile=basePath+'groups_0'+str(snapshot_number)+'/fof_subhalo_groups_0'+str(snapshot_number)+'.0.hdf5'\n",
    "    file = h5py.File(groupFile, 'r')\n",
    "    print(file.keys())\n",
    "    print(file['Header'])'''\n",
    "    #with h5py.File(offsets,'r') as file:\n",
    "    subhaloFileOffsets = prac['FileOffsets']['Subhalo']\n",
    "    treeFileOffsets = prac['FileOffsets']['SubLink']\n",
    "\n",
    "    # calculate target group catalog file chunk which contains this id\n",
    "    subhaloFileOffsets = int(subhalo_id) - subhaloFileOffsets\n",
    "    fileNum = np.max( np.where(subhaloFileOffsets >= 0) )\n",
    "    subhaloFile=basePath+'groups_'+str(snapshot_number)+'/'+'groups_'+str(snapshot_number)+'.'+str(fileNum)+'.hdf5'\n",
    "    subhaloOffset=subhaloFileOffsets[fileNum]\n",
    "\n",
    "    #finding the right file for this tree and where exactly to look\n",
    "    with h5py.File(subhaloFile,'r') as groupFile:\n",
    "        rowNum=groupFile[\"Offsets\"]['Subhalo_SublinkRowNum'][subhaloOffset]\n",
    "        lastProgId=groupFile[\"Offsets\"]['Subhalo_SublinkLastProgenitorID'][subhaloOffset]\n",
    "        subhaloId=groupFile[\"Offsets\"]['Subhalo_SublinkSubhaloID'][subhaloOffset]\n",
    "\n",
    "    treeFileOffsets=int(rowNum)-treeFileOffsets\n",
    "    treeFileNum=np.max(np.where(treeFileOffsets >= 0))\n",
    "    \n",
    "    treeFile=basePath+'trees/SubLink/tree_extended.'+str(treeFileNum)+'.hdf5'\n",
    "    rowStart = treeFileOffsets[treeFileNum]\n",
    "\n",
    "    with h5py.File(treeFile,'r') as rawTree:\n",
    "        #finding which entries in tree we're interested in\n",
    "        firstId = rawTree['RootDescendantID'][rowStart]\n",
    "        rowStart=rowStart+(firstId-subhaloID)\n",
    "        lastId = rawTree['LastProgenitorID'][rowStart]\n",
    "        rowEnd=rowStart+lastId-firstId+1\n",
    "\n",
    "        nFind=rawTree['SubfindID'][rowStart:rowEnd]\n",
    "        nSnap=rawTree['SnapNum'][rowStart:rowEnd]\n",
    "        nSub=rawTree['SubhaloID'][rowStart:rowEnd]\n",
    "        nFirst=rawTree['FirstProgenitorID'][rowStart:rowEnd]\n",
    "        nNext=rawTree['NextProgenitorID'][rowStart:rowEnd]\n",
    "        nDesc=rawTree['DescendantID'][rowStart:rowEnd]\n",
    "\n",
    "    #initialises the tree\n",
    "    thisTree=-1*np.ones((136,2),dtype=int)\n",
    "    thisTree[:,0]=np.arange(135,-1,-1)\n",
    "\n",
    "    #traces the tree back to the latest subhalo in the mpb\n",
    "    zIndex=np.argwhere((nFind==subhalo_id) & (nSnap==snapshot_number))[0][0]\n",
    "    thisIndex=zIndex\n",
    "    if thisIndex!=0:\n",
    "        descSub=nDesc[zIndex]\n",
    "        thisSub=nSub[zIndex]\n",
    "        descIndex=zIndex+descSub-nSub[zIndex]\n",
    "        while ((nFirst[descIndex]==thisSub) & (nDesc[descIndex]!=-1)): #while the first progentior of each descendant is this subhalo\n",
    "            descSub=nDesc[descIndex]\n",
    "            thisSub=nSub[descIndex]\n",
    "            descIndex=descIndex+descSub-nSub[descIndex]\n",
    "            thisIndex=descIndex\n",
    "\n",
    "    thisSnap=nSnap[thisIndex]\n",
    "    thisFind=nFind[thisIndex]\n",
    "    thisTree[135-thisSnap,1]=thisFind # records subfind id of first step\n",
    "\n",
    "    #initialises the list of merging galaxies\n",
    "    if thisSnap!=135: #if it doesn't reach z=0 records the subhalo it merges with\n",
    "        descIndex=thisIndex+nDesc[thisIndex]-nSub[thisIndex]\n",
    "        descSnap=nSnap[descIndex]\n",
    "        descFind=nFind[descIndex]\n",
    "        mergerTree=[[descSnap,descIndex]]\n",
    "    else:\n",
    "        mergerTree=[]\n",
    "\n",
    "\n",
    "    while nFirst[thisIndex]!=-1: # goes through main progenitors\n",
    "        thisIndex=thisIndex+nFirst[thisIndex]-nSub[thisIndex] #index of next main step in main progenitor branch\n",
    "\n",
    "        thisSnap=nSnap[thisIndex] #snapshot of this main progenitor\n",
    "        thisFind=nFind[thisIndex] #subfind id of this main progenitor\n",
    "        thisTree[135-thisSnap,1]=thisFind # records subfind id of this main progenitor\n",
    "\n",
    "        nextIndex=thisIndex+0 #stupid python objects\n",
    "        while nNext[nextIndex]!=-1: # goes through merging halos (next progenitors)\n",
    "\n",
    "            nextIndex=nextIndex+nNext[nextIndex]-nSub[nextIndex] #index of next progenitor\n",
    "\n",
    "            #records details of these mergers\n",
    "            mergerSnap=nSnap[nextIndex]\n",
    "            mergerSub=nFind[nextIndex]\n",
    "            mergerTree.append([mergerSnap,mergerSub])\n",
    "\n",
    "    # got to the end of this branch, so must save it\n",
    "    filled=np.argwhere(thisTree[:,1]!=-1) # finds the snapshots during which the halo is in the tree\n",
    "    if filled.size==1:\n",
    "        thisTree=thisTree[filled[0],:]\n",
    "    elif thisTree[0,1]==-1: # if the tree doesn't make it to z=0\n",
    "        thisTree=thisTree[filled[0][0]:filled[-1][0]+1,:]\n",
    "    else:\n",
    "        thisTree=thisTree[0:filled[-1][0]+1,:] # if it does\n",
    "\n",
    "    mergerTree=np.array(mergerTree)\n",
    "    data={\"Main\":thisTree}\n",
    "    data['Mergers']=mergerTree\n",
    "    return data\n",
    "\n",
    "\n",
    "\n",
    "    \n",
    "def merger_info(tree, minMassRatio, minmass, h,  massPartType, index=0):\n",
    "    \"\"\" Calculate the number of mergers in this sub-tree (optionally above some mass ratio threshold). \"\"\"\n",
    "    # verify the input sub-tree has the required fields\n",
    "    reqFields = ['SubhaloID', 'NextProgenitorID', 'MainLeafProgenitorID',\n",
    "                 'FirstProgenitorID', 'SubhaloMassType']\n",
    "\n",
    "    if not set(reqFields).issubset(tree.keys()):\n",
    "        raise Exception('Error: Input tree needs to have loaded fields: '+', '.join(reqFields))\n",
    "\n",
    "    numMergers   = 0\n",
    "    invMassRatio = 1.0 / minMassRatio\n",
    "\n",
    "    # walk back main progenitor branch\n",
    "    rootID = tree['SubhaloID'][index]\n",
    "    fpID   = tree['FirstProgenitorID'][index]\n",
    "    \n",
    "    print('fpID', fpID, 'rootID', rootID)\n",
    "    \n",
    "    \n",
    "    ratio_list=[]\n",
    "    index_list=[]\n",
    "    snapnum_list=[]\n",
    "    mass_1_list=[]\n",
    "    mass_2_list=[]\n",
    "\n",
    "    while fpID != -1:# it equals -1 when it is snapnum 135 (the last snapshot)\n",
    "        # So when you begin this is simply 0 + (first progID - subhaloID) = 1\n",
    "        fpIndex = index + (fpID - rootID)\n",
    "        fpMass  = maxPastMass(tree, fpIndex, massPartType)\n",
    "        \n",
    "        \n",
    "        \n",
    "        # explore breadth\n",
    "        npID = tree['NextProgenitorID'][fpIndex]\n",
    "        ID = npID\n",
    "        '''print('fp Index', fpIndex, 'fpID', fpID)\n",
    "        print('npID', npID)'''\n",
    "        \n",
    "        # This actually needs to be the snapnum of the next progenitor\n",
    "        npsnapnum = tree['SnapNum'][fpIndex]\n",
    "\n",
    "        while npID != -1: # This means there is nothing else that merged\n",
    "            npIndex = index + (npID - rootID)\n",
    "            npMass  = maxPastMass(tree, npIndex, massPartType)\n",
    "            \n",
    "            # count if both masses are non-zero, and ratio exceeds threshold\n",
    "            #if fpMass > 0.0 and npMass > 0.0:\n",
    "            if fpMass*h > minmass and npMass*h > minmass:\n",
    "                ratio = npMass / fpMass\n",
    "\n",
    "                if ratio >= minMassRatio and ratio <= invMassRatio:\n",
    "                    '''print('Merger', npID)\n",
    "                    print('mass prog', npMass, 'mass fp', fpMass)'''\n",
    "                    numMergers += 1\n",
    "                    # Make a list for mass ratio and ids\n",
    "                    ratio_list.append(ratio)\n",
    "                    index_list.append(ID)\n",
    "                    snapnum_list.append(npsnapnum)\n",
    "                    mass_1_list.append(fpMass)\n",
    "                    mass_2_list.append(npMass)\n",
    "                    \n",
    "                    \n",
    "\n",
    "            npID = tree['NextProgenitorID'][npIndex]\n",
    "\n",
    "        fpID = tree['FirstProgenitorID'][fpIndex]\n",
    "\n",
    "    return numMergers, ratio_list, index_list, snapnum_list, mass_1_list, mass_2_list\n",
    "\n",
    "def numMergers_nocut(tree, minMassRatio, massPartType, index=0):\n",
    "    \"\"\" Calculate the number of mergers in this sub-tree (optionally above some mass ratio threshold). \"\"\"\n",
    "    # verify the input sub-tree has the required fields\n",
    "    reqFields = ['SubhaloID', 'NextProgenitorID', 'MainLeafProgenitorID',\n",
    "                 'FirstProgenitorID', 'SubhaloMassType']\n",
    "\n",
    "    if not set(reqFields).issubset(tree.keys()):\n",
    "        raise Exception('Error: Input tree needs to have loaded fields: '+', '.join(reqFields))\n",
    "\n",
    "    numMergers   = 0\n",
    "    invMassRatio = 1.0 / minMassRatio\n",
    "    \n",
    "\n",
    "    # walk back main progenitor branch\n",
    "    '''print('lastprog', tree['LastProgenitorID'][index])\n",
    "    print('rootdescendent', tree['RootDescendantID'][index])\n",
    "    print('firstprog', tree['FirstProgenitorID'][index])\n",
    "    print('nextprog', tree['NextProgenitorID'][index])\n",
    "    print('how does this change with index', tree['FirstProgenitorID'])\n",
    "    print('subhalo and snapnum', tree['SubhaloID'][index], tree['SnapNum'][index])\n",
    "    print('mass dm only', tree['Mass'][index], 'mass history', tree['MassHistory'][index])\n",
    "    STOP'''\n",
    "    \n",
    "    print('Starting with this galaxy', tree['SubhaloID'][index], tree['SnapNum'][index])\n",
    "    \n",
    "    rootID = tree['SubhaloID'][index]\n",
    "    fpID   = tree['FirstProgenitorID'][index]\n",
    "    \n",
    "    merger_before = []\n",
    "    merger_after = []\n",
    "    merger_mass_ratio = []\n",
    "    \n",
    "    while fpID != -1:\n",
    "        fpIndex = index + (fpID - rootID) # so when we are on the first first progenitor, \n",
    "        # you will only be adding a value of 1 to the index\n",
    "        \n",
    "        fpMass  = maxPastMass(tree, fpIndex, massPartType)\n",
    "\n",
    "        # explore breadth\n",
    "        npID = tree['NextProgenitorID'][fpIndex]\n",
    "\n",
    "        while npID != -1:\n",
    "            npIndex = index + (npID - rootID)\n",
    "            npMass  = maxPastMass(tree, npIndex, massPartType)\n",
    "            \n",
    "            ratio = fpMass / npMass\n",
    "            # count if both masses are non-zero, and ratio exceeds threshold\n",
    "            \n",
    "            if fpMass > 0.0 and npMass > 0.0:\n",
    "                if ratio >= minMassRatio and ratio <= invMassRatio:\n",
    "                    numMergers += 1\n",
    "                    merger_before.append([tree['SubhaloID'][fpIndex], tree['SubhaloID'][npIndex], tree['SnapNum'][fpIndex]])\n",
    "                    merger_after.append([tree['DescendantID'][fpIndex],tree['SnapNum'][fpIndex-1]])\n",
    "                    merger_mass_ratio.append(fpMass/npMass)\n",
    "\n",
    "                    '''print([tree['SubhaloID'][fpIndex], tree['SubhaloID'][npIndex], tree['SnapNum'][fpIndex]])\n",
    "                    print([tree['DescendantID'][fpIndex],tree['SnapNum'][fpIndex-1]])\n",
    "                    print(fpMass/npMass)\n",
    "                    STOP'''\n",
    "\n",
    "            npID = tree['NextProgenitorID'][npIndex]\n",
    "\n",
    "        fpID = tree['FirstProgenitorID'][fpIndex]\n",
    "        if fpID ==-1:\n",
    "            print('we are at the end times', tree['SnapNum'][fpIndex-1])\n",
    "            fpIndex+=1\n",
    "            print('restarting a new branch', tree['SnapNum'][fpIndex-1],tree['FirstProgenitorID'][fpIndex])\n",
    "            \n",
    "\n",
    "    return numMergers, merger_before, merger_after, merger_mass_ratio\n",
    "\n",
    "def numMergers(tree, minMassRatio, massPartType, index=0): # This is the number of mergers along the MPG,\n",
    "    # probably best to do only one step back in time?\n",
    "    # Since you are walking backward along the MPG and then checking for everything that merged\n",
    "    # with that progenitor \n",
    "    \"\"\" Calculate the number of mergers in this sub-tree (optionally above some mass ratio threshold). \"\"\"\n",
    "    # verify the input sub-tree has the required fields\n",
    "    reqFields = ['SubhaloID', 'NextProgenitorID', 'MainLeafProgenitorID',\n",
    "                 'FirstProgenitorID', 'SubhaloMassType']\n",
    "\n",
    "    if not set(reqFields).issubset(tree.keys()):\n",
    "        raise Exception('Error: Input tree needs to have loaded fields: '+', '.join(reqFields))\n",
    "\n",
    "    numMergers   = 0\n",
    "    invMassRatio = 1.0 / minMassRatio\n",
    "\n",
    "    # walk back main progenitor branch\n",
    "    rootID = tree['SubhaloID'][index]\n",
    "    fpID   = tree['FirstProgenitorID'][index] # one moment back in time\n",
    "\n",
    "    while fpID != -1: # while there is a FP id...\n",
    "        fpIndex = index + (fpID - rootID) # This will add one to the index (walking along the MPB)\n",
    "        fpMass  = maxPastMass(tree, fpIndex, massPartType)\n",
    "\n",
    "        # explore breadth\n",
    "        npID = tree['NextProgenitorID'][fpIndex] # Now moving horizontally\n",
    "\n",
    "        while npID != -1:\n",
    "            npIndex = index + (npID - rootID)\n",
    "            npMass  = maxPastMass(tree, npIndex, massPartType)\n",
    "\n",
    "            # count if both masses are non-zero, and ratio exceeds threshold\n",
    "            if fpMass > 0.0 and npMass > 0.0:\n",
    "                ratio = npMass / fpMass\n",
    "\n",
    "                if ratio >= minMassRatio and ratio <= invMassRatio:\n",
    "                    numMergers += 1\n",
    "\n",
    "            npID = tree['NextProgenitorID'][npIndex]\n",
    "\n",
    "        fpID = tree['FirstProgenitorID'][fpIndex]\n",
    "\n",
    "    return numMergers\n",
    "\n",
    "\n",
    "def maxPastMass(tree, index, partType='stars'):\n",
    "    \"\"\" Get maximum past mass (of the given partType) along the main branch of a subhalo\n",
    "        specified by index within this tree. \"\"\"\n",
    "    # Uses partTypeNum to look up id for the particle type\n",
    "    ptNum = partTypeNum(partType)\n",
    "\n",
    "    # Finds the length of the branch, 'MainLeafProgenitorID' is the earliest progenitor along the main branch,\n",
    "    # since the subhalo IDs increase by one along the main branch, this will give you the number of \n",
    "    # indices to increase by\n",
    "    branchSize = tree['MainLeafProgenitorID'][index] - tree['SubhaloID'][index] + 1\n",
    "    \n",
    "    # Create a list of masses along the main branch\n",
    "    masses = tree['SubhaloMassType'][index: index + branchSize, ptNum]\n",
    "    \n",
    "    # Find the max along the main branch, use this to determine mass ratio:\n",
    "    return np.max(masses)\n",
    "\n",
    "\n",
    "def maxPastMass_and_index(tree, index, partType='stars'):\n",
    "    \"\"\" Get maximum past mass (of the given partType) along the main branch of a subhalo\n",
    "        specified by index within this tree. \"\"\"\n",
    "    # Uses partTypeNum to look up id for the particle type\n",
    "    index = int(index)\n",
    "    ptNum = partTypeNum(partType)\n",
    "\n",
    "    # Finds the length of the branch, 'MainLeafProgenitorID' is the earliest progenitor along the main branch,\n",
    "    # since the subhalo IDs increase by one along the main branch, this will give you the number of \n",
    "    # indices to increase by\n",
    "    branchSize = tree['MainLeafProgenitorID'][index] - tree['SubhaloID'][index] + 1\n",
    "    \n",
    "    # Create a list of masses along the main branch\n",
    "    masses = tree['SubhaloMassType'][index: index + branchSize, ptNum]\n",
    "    max_mass = np.max(masses)\n",
    "    max_index = np.where(np.max(masses))\n",
    "    print('max index', max_index)\n",
    "    max_id = tree['SubhaloID'][index]\n",
    "    print('max subhalo ID', max_id)\n",
    "    max_snapnum = tree['Snapnum'][index]\n",
    "    # Find the max along the main branch, use this to determine mass ratio:\n",
    "    return max_mass, max_id, max_snapnum\n",
    "\n",
    "print('compiled')"
   ]
  },
  {
   "cell_type": "markdown",
   "metadata": {},
   "source": [
    "### Now, I want to be able to take a list of these and get some sort of image to check that this is right\n",
    "I also need to check out how to get the mass ratio"
   ]
  },
  {
   "cell_type": "code",
   "execution_count": 27,
   "metadata": {},
   "outputs": [
    {
     "ename": "NameError",
     "evalue": "name 'snapnum' is not defined",
     "output_type": "error",
     "traceback": [
      "\u001b[0;31m---------------------------------------------------------------------------\u001b[0m",
      "\u001b[0;31mNameError\u001b[0m                                 Traceback (most recent call last)",
      "\u001b[0;32m<ipython-input-27-5b3b9b290611>\u001b[0m in \u001b[0;36m<module>\u001b[0;34m\u001b[0m\n\u001b[1;32m      8\u001b[0m \u001b[0;31m#print('Snapnum',snapnum[merger_index])\u001b[0m\u001b[0;34m\u001b[0m\u001b[0;34m\u001b[0m\u001b[0;34m\u001b[0m\u001b[0m\n\u001b[1;32m      9\u001b[0m \u001b[0;31m#print('SubfindID', subfindid[merger_index])\u001b[0m\u001b[0;34m\u001b[0m\u001b[0;34m\u001b[0m\u001b[0;34m\u001b[0m\u001b[0m\n\u001b[0;32m---> 10\u001b[0;31m \u001b[0mnumber\u001b[0m \u001b[0;34m=\u001b[0m     \u001b[0msnapnum\u001b[0m\u001b[0;34m[\u001b[0m\u001b[0mmerger_index\u001b[0m\u001b[0;34m]\u001b[0m\u001b[0;34m[\u001b[0m\u001b[0;36m0\u001b[0m\u001b[0;34m:\u001b[0m\u001b[0;36m6\u001b[0m\u001b[0;34m]\u001b[0m\u001b[0;34m\u001b[0m\u001b[0;34m\u001b[0m\u001b[0m\n\u001b[0m\u001b[1;32m     11\u001b[0m \u001b[0mids\u001b[0m \u001b[0;34m=\u001b[0m \u001b[0msubfindid\u001b[0m\u001b[0;34m[\u001b[0m\u001b[0mmerger_index\u001b[0m\u001b[0;34m]\u001b[0m\u001b[0;34m[\u001b[0m\u001b[0;36m0\u001b[0m\u001b[0;34m:\u001b[0m\u001b[0;36m6\u001b[0m\u001b[0;34m]\u001b[0m\u001b[0;34m\u001b[0m\u001b[0;34m\u001b[0m\u001b[0m\n\u001b[1;32m     12\u001b[0m \u001b[0msub_count\u001b[0m \u001b[0;34m=\u001b[0m \u001b[0;36m1\u001b[0m\u001b[0;34m\u001b[0m\u001b[0;34m\u001b[0m\u001b[0m\n",
      "\u001b[0;31mNameError\u001b[0m: name 'snapnum' is not defined"
     ]
    }
   ],
   "source": [
    "# Get them images:\n",
    "import matplotlib.image as mpimg\n",
    "try:\n",
    "    from StringIO import StringIO ## for Python 2\n",
    "except ImportError:\n",
    "    from io import BytesIO ## for Python 3\n",
    "\n",
    "#print('Snapnum',snapnum[merger_index])\n",
    "#print('SubfindID', subfindid[merger_index])\n",
    "snapnum = \n",
    "number =     snapnum[merger_index][0:6]\n",
    "ids = subfindid[merger_index][0:6]\n",
    "sub_count = 1\n",
    "plt.figure(figsize=[15,3])\n",
    "\n",
    "for j in range(len(ids)):\n",
    "    url = \"http://www.illustris-project.org/api/Illustris-1/snapshots/\"+str(number[j])+\"/subhalos/\" + str(ids[j])\n",
    "    sub = get(url)\n",
    "    # it is of course possible this data product does not exist for all requested subhalos\n",
    "    if 'stellar_mocks' in sub['supplementary_data']: \n",
    "        # download PNG image, the version which includes all stars in the FoF halo (try replacing 'fof' with 'gz')\n",
    "        png_url = sub['supplementary_data']['stellar_mocks']['image_fof']\n",
    "        response = get(png_url)\n",
    "        # make plot a bit nicer\n",
    "        plt.subplot(1,len(ids),sub_count)\n",
    "        plt.text(0,-20,\"ID=\"+str(id),color='blue')\n",
    "        plt.gca().axes.get_xaxis().set_ticks([])\n",
    "        plt.gca().axes.get_yaxis().set_ticks([])\n",
    "        sub_count += 1\n",
    "\n",
    "        # plot the PNG binary data directly, without actually saving a .png file\n",
    "        file_object = BytesIO(response.content)\n",
    "        plt.imshow(mpimg.imread(file_object))\n",
    "plt.show()"
   ]
  },
  {
   "cell_type": "code",
   "execution_count": null,
   "metadata": {},
   "outputs": [],
   "source": []
  },
  {
   "cell_type": "code",
   "execution_count": null,
   "metadata": {},
   "outputs": [],
   "source": []
  },
  {
   "cell_type": "code",
   "execution_count": 35,
   "metadata": {},
   "outputs": [],
   "source": [
    "import illustris_python as ill\n",
    "BASE_PATH_ILLUSTRIS_1 = \"/n/ghernquist/Illustris/Runs/L75n1820FP\"\n",
    "#from illustris_python import ill, BASE_PATH_ILLUSTRIS_1\n",
    "def test_numMergers():\n",
    "    snap = 135\n",
    "    ratio = 1.0/5.0\n",
    "    start = 100\n",
    "\n",
    "    # Values for Illustris-1, snap=135, start=100\n",
    "    num_mergers = [2, 2, 3, 4, 3]\n",
    "\n",
    "    group_first_sub = ill.groupcat.loadHalos(\"http://www.illustris-project.org/api/Illustris-1/snapshots/\"+str(snap), \n",
    "                                             snap, fields=['GroupFirstSub'])\n",
    "\n",
    "    # the following fields are required for the walk and the mass ratio analysis\n",
    "    fields = ['SubhaloID', 'NextProgenitorID', 'MainLeafProgenitorID',\n",
    "              'FirstProgenitorID', 'SubhaloMassType']\n",
    "    for i, nm in zip(range(start, start+5), num_mergers):\n",
    "        tree = ill.sublink.loadTree(BASE_PATH_ILLUSTRIS_1, snap, group_first_sub[i], fields=fields)\n",
    "        _num_merg = ill.sublink.numMergers(tree, minMassRatio=ratio)\n",
    "        print(\"group_first_sub[{}] = {}, num_mergers = {} (should be {})\".format(\n",
    "            i, group_first_sub[i], _num_merg, nm))\n",
    "        assert_equal(_num_merg, nm)\n",
    "\n",
    "    return\n",
    "\n",
    "\n",
    "def maxPastMass(tree, index, partType='stars'):\n",
    "    \"\"\" Get maximum past mass (of the given partType) along the main branch of a subhalo\n",
    "        specified by index within this tree. \"\"\"\n",
    "    ptNum = partTypeNum(partType)\n",
    "\n",
    "    branchSize = tree['MainLeafProgenitorID'][index] - tree['SubhaloID'][index] + 1\n",
    "    masses = tree['SubhaloMassType'][index: index + branchSize, ptNum]\n",
    "    return np.max(masses)\n",
    "\n",
    "\n",
    "def numMergers(tree, minMassRatio=1e-10, massPartType='stars', index=0):\n",
    "    \"\"\" Calculate the number of mergers in this sub-tree (optionally above some mass ratio threshold). \"\"\"\n",
    "    # verify the input sub-tree has the required fields\n",
    "    reqFields = ['SubhaloID', 'NextProgenitorID', 'MainLeafProgenitorID',\n",
    "                 'FirstProgenitorID', 'SubhaloMassType']\n",
    "\n",
    "    if not set(reqFields).issubset(tree.keys()):\n",
    "        raise Exception('Error: Input tree needs to have loaded fields: '+', '.join(reqFields))\n",
    "\n",
    "    numMergers   = 0\n",
    "    invMassRatio = 1.0 / minMassRatio\n",
    "\n",
    "    # walk back main progenitor branch\n",
    "    rootID = tree['SubhaloID'][index]\n",
    "    fpID   = tree['FirstProgenitorID'][index]\n",
    "\n",
    "    while fpID != -1:\n",
    "        fpIndex = index + (fpID - rootID)\n",
    "        fpMass  = maxPastMass(tree, fpIndex, massPartType)\n",
    "\n",
    "        # explore breadth\n",
    "        npID = tree['NextProgenitorID'][fpIndex]\n",
    "\n",
    "        while npID != -1:\n",
    "            npIndex = index + (npID - rootID)\n",
    "            npMass  = maxPastMass(tree, npIndex, massPartType)\n",
    "\n",
    "            # count if both masses are non-zero, and ratio exceeds threshold\n",
    "            if fpMass > 0.0 and npMass > 0.0:\n",
    "                ratio = npMass / fpMass\n",
    "\n",
    "                if ratio >= minMassRatio and ratio <= invMassRatio:\n",
    "                    numMergers += 1\n",
    "\n",
    "            npID = tree['NextProgenitorID'][npIndex]\n",
    "\n",
    "        fpID = tree['FirstProgenitorID'][fpIndex]\n",
    "\n",
    "    return numMergers"
   ]
  },
  {
   "cell_type": "code",
   "execution_count": 36,
   "metadata": {},
   "outputs": [
    {
     "ename": "OSError",
     "evalue": "Unable to open file (unable to open file: name = 'http://www.illustris-project.org/api/Illustris-1/snapshots/135/groups_135/fof_subhalo_tab_135.0.hdf5', errno = 2, error message = 'No such file or directory', flags = 0, o_flags = 0)",
     "output_type": "error",
     "traceback": [
      "\u001b[0;31m---------------------------------------------------------------------------\u001b[0m",
      "\u001b[0;31mOSError\u001b[0m                                   Traceback (most recent call last)",
      "\u001b[0;32m<ipython-input-36-4e6581fba7de>\u001b[0m in \u001b[0;36m<module>\u001b[0;34m\u001b[0m\n\u001b[0;32m----> 1\u001b[0;31m \u001b[0mtest_numMergers\u001b[0m\u001b[0;34m(\u001b[0m\u001b[0;34m)\u001b[0m\u001b[0;34m\u001b[0m\u001b[0;34m\u001b[0m\u001b[0m\n\u001b[0m",
      "\u001b[0;32m<ipython-input-35-83d5db4db74b>\u001b[0m in \u001b[0;36mtest_numMergers\u001b[0;34m()\u001b[0m\n\u001b[1;32m     10\u001b[0m     \u001b[0mnum_mergers\u001b[0m \u001b[0;34m=\u001b[0m \u001b[0;34m[\u001b[0m\u001b[0;36m2\u001b[0m\u001b[0;34m,\u001b[0m \u001b[0;36m2\u001b[0m\u001b[0;34m,\u001b[0m \u001b[0;36m3\u001b[0m\u001b[0;34m,\u001b[0m \u001b[0;36m4\u001b[0m\u001b[0;34m,\u001b[0m \u001b[0;36m3\u001b[0m\u001b[0;34m]\u001b[0m\u001b[0;34m\u001b[0m\u001b[0;34m\u001b[0m\u001b[0m\n\u001b[1;32m     11\u001b[0m \u001b[0;34m\u001b[0m\u001b[0m\n\u001b[0;32m---> 12\u001b[0;31m     \u001b[0mgroup_first_sub\u001b[0m \u001b[0;34m=\u001b[0m \u001b[0mill\u001b[0m\u001b[0;34m.\u001b[0m\u001b[0mgroupcat\u001b[0m\u001b[0;34m.\u001b[0m\u001b[0mloadHalos\u001b[0m\u001b[0;34m(\u001b[0m\u001b[0;34m\"http://www.illustris-project.org/api/Illustris-1/snapshots/\"\u001b[0m\u001b[0;34m+\u001b[0m\u001b[0mstr\u001b[0m\u001b[0;34m(\u001b[0m\u001b[0msnap\u001b[0m\u001b[0;34m)\u001b[0m\u001b[0;34m,\u001b[0m \u001b[0msnap\u001b[0m\u001b[0;34m,\u001b[0m \u001b[0mfields\u001b[0m\u001b[0;34m=\u001b[0m\u001b[0;34m[\u001b[0m\u001b[0;34m'GroupFirstSub'\u001b[0m\u001b[0;34m]\u001b[0m\u001b[0;34m)\u001b[0m\u001b[0;34m\u001b[0m\u001b[0;34m\u001b[0m\u001b[0m\n\u001b[0m\u001b[1;32m     13\u001b[0m \u001b[0;34m\u001b[0m\u001b[0m\n\u001b[1;32m     14\u001b[0m     \u001b[0;31m# the following fields are required for the walk and the mass ratio analysis\u001b[0m\u001b[0;34m\u001b[0m\u001b[0;34m\u001b[0m\u001b[0;34m\u001b[0m\u001b[0m\n",
      "\u001b[0;32m~/CfA_Code/mockIllustris/illustris_python/groupcat.py\u001b[0m in \u001b[0;36mloadHalos\u001b[0;34m(basePath, snapNum, fields)\u001b[0m\n\u001b[1;32m    105\u001b[0m        (optionally restrict to a subset given by fields). \"\"\"\n\u001b[1;32m    106\u001b[0m \u001b[0;34m\u001b[0m\u001b[0m\n\u001b[0;32m--> 107\u001b[0;31m     \u001b[0;32mreturn\u001b[0m \u001b[0mloadObjects\u001b[0m\u001b[0;34m(\u001b[0m\u001b[0mbasePath\u001b[0m\u001b[0;34m,\u001b[0m \u001b[0msnapNum\u001b[0m\u001b[0;34m,\u001b[0m \u001b[0;34m\"Group\"\u001b[0m\u001b[0;34m,\u001b[0m \u001b[0;34m\"groups\"\u001b[0m\u001b[0;34m,\u001b[0m \u001b[0mfields\u001b[0m\u001b[0;34m)\u001b[0m\u001b[0;34m\u001b[0m\u001b[0;34m\u001b[0m\u001b[0m\n\u001b[0m\u001b[1;32m    108\u001b[0m \u001b[0;34m\u001b[0m\u001b[0m\n\u001b[1;32m    109\u001b[0m \u001b[0;34m\u001b[0m\u001b[0m\n",
      "\u001b[0;32m~/CfA_Code/mockIllustris/illustris_python/groupcat.py\u001b[0m in \u001b[0;36mloadObjects\u001b[0;34m(basePath, snapNum, gName, nName, fields)\u001b[0m\n\u001b[1;32m     36\u001b[0m \u001b[0;34m\u001b[0m\u001b[0m\n\u001b[1;32m     37\u001b[0m     \u001b[0;31m# load header from first chunk\u001b[0m\u001b[0;34m\u001b[0m\u001b[0;34m\u001b[0m\u001b[0;34m\u001b[0m\u001b[0m\n\u001b[0;32m---> 38\u001b[0;31m     \u001b[0;32mwith\u001b[0m \u001b[0mh5py\u001b[0m\u001b[0;34m.\u001b[0m\u001b[0mFile\u001b[0m\u001b[0;34m(\u001b[0m\u001b[0mgcPath\u001b[0m\u001b[0;34m(\u001b[0m\u001b[0mbasePath\u001b[0m\u001b[0;34m,\u001b[0m \u001b[0msnapNum\u001b[0m\u001b[0;34m)\u001b[0m\u001b[0;34m,\u001b[0m \u001b[0;34m'r'\u001b[0m\u001b[0;34m)\u001b[0m \u001b[0;32mas\u001b[0m \u001b[0mf\u001b[0m\u001b[0;34m:\u001b[0m\u001b[0;34m\u001b[0m\u001b[0;34m\u001b[0m\u001b[0m\n\u001b[0m\u001b[1;32m     39\u001b[0m \u001b[0;34m\u001b[0m\u001b[0m\n\u001b[1;32m     40\u001b[0m         \u001b[0mheader\u001b[0m \u001b[0;34m=\u001b[0m \u001b[0mdict\u001b[0m\u001b[0;34m(\u001b[0m\u001b[0mf\u001b[0m\u001b[0;34m[\u001b[0m\u001b[0;34m'Header'\u001b[0m\u001b[0;34m]\u001b[0m\u001b[0;34m.\u001b[0m\u001b[0mattrs\u001b[0m\u001b[0;34m.\u001b[0m\u001b[0mitems\u001b[0m\u001b[0;34m(\u001b[0m\u001b[0;34m)\u001b[0m\u001b[0;34m)\u001b[0m\u001b[0;34m\u001b[0m\u001b[0;34m\u001b[0m\u001b[0m\n",
      "\u001b[0;32m~/anaconda3/lib/python3.7/site-packages/h5py/_hl/files.py\u001b[0m in \u001b[0;36m__init__\u001b[0;34m(self, name, mode, driver, libver, userblock_size, swmr, rdcc_nslots, rdcc_nbytes, rdcc_w0, track_order, **kwds)\u001b[0m\n\u001b[1;32m    392\u001b[0m                 fid = make_fid(name, mode, userblock_size,\n\u001b[1;32m    393\u001b[0m                                \u001b[0mfapl\u001b[0m\u001b[0;34m,\u001b[0m \u001b[0mfcpl\u001b[0m\u001b[0;34m=\u001b[0m\u001b[0mmake_fcpl\u001b[0m\u001b[0;34m(\u001b[0m\u001b[0mtrack_order\u001b[0m\u001b[0;34m=\u001b[0m\u001b[0mtrack_order\u001b[0m\u001b[0;34m)\u001b[0m\u001b[0;34m,\u001b[0m\u001b[0;34m\u001b[0m\u001b[0;34m\u001b[0m\u001b[0m\n\u001b[0;32m--> 394\u001b[0;31m                                swmr=swmr)\n\u001b[0m\u001b[1;32m    395\u001b[0m \u001b[0;34m\u001b[0m\u001b[0m\n\u001b[1;32m    396\u001b[0m             \u001b[0;32mif\u001b[0m \u001b[0mswmr_support\u001b[0m\u001b[0;34m:\u001b[0m\u001b[0;34m\u001b[0m\u001b[0;34m\u001b[0m\u001b[0m\n",
      "\u001b[0;32m~/anaconda3/lib/python3.7/site-packages/h5py/_hl/files.py\u001b[0m in \u001b[0;36mmake_fid\u001b[0;34m(name, mode, userblock_size, fapl, fcpl, swmr)\u001b[0m\n\u001b[1;32m    168\u001b[0m         \u001b[0;32mif\u001b[0m \u001b[0mswmr\u001b[0m \u001b[0;32mand\u001b[0m \u001b[0mswmr_support\u001b[0m\u001b[0;34m:\u001b[0m\u001b[0;34m\u001b[0m\u001b[0;34m\u001b[0m\u001b[0m\n\u001b[1;32m    169\u001b[0m             \u001b[0mflags\u001b[0m \u001b[0;34m|=\u001b[0m \u001b[0mh5f\u001b[0m\u001b[0;34m.\u001b[0m\u001b[0mACC_SWMR_READ\u001b[0m\u001b[0;34m\u001b[0m\u001b[0;34m\u001b[0m\u001b[0m\n\u001b[0;32m--> 170\u001b[0;31m         \u001b[0mfid\u001b[0m \u001b[0;34m=\u001b[0m \u001b[0mh5f\u001b[0m\u001b[0;34m.\u001b[0m\u001b[0mopen\u001b[0m\u001b[0;34m(\u001b[0m\u001b[0mname\u001b[0m\u001b[0;34m,\u001b[0m \u001b[0mflags\u001b[0m\u001b[0;34m,\u001b[0m \u001b[0mfapl\u001b[0m\u001b[0;34m=\u001b[0m\u001b[0mfapl\u001b[0m\u001b[0;34m)\u001b[0m\u001b[0;34m\u001b[0m\u001b[0;34m\u001b[0m\u001b[0m\n\u001b[0m\u001b[1;32m    171\u001b[0m     \u001b[0;32melif\u001b[0m \u001b[0mmode\u001b[0m \u001b[0;34m==\u001b[0m \u001b[0;34m'r+'\u001b[0m\u001b[0;34m:\u001b[0m\u001b[0;34m\u001b[0m\u001b[0;34m\u001b[0m\u001b[0m\n\u001b[1;32m    172\u001b[0m         \u001b[0mfid\u001b[0m \u001b[0;34m=\u001b[0m \u001b[0mh5f\u001b[0m\u001b[0;34m.\u001b[0m\u001b[0mopen\u001b[0m\u001b[0;34m(\u001b[0m\u001b[0mname\u001b[0m\u001b[0;34m,\u001b[0m \u001b[0mh5f\u001b[0m\u001b[0;34m.\u001b[0m\u001b[0mACC_RDWR\u001b[0m\u001b[0;34m,\u001b[0m \u001b[0mfapl\u001b[0m\u001b[0;34m=\u001b[0m\u001b[0mfapl\u001b[0m\u001b[0;34m)\u001b[0m\u001b[0;34m\u001b[0m\u001b[0;34m\u001b[0m\u001b[0m\n",
      "\u001b[0;32mh5py/_objects.pyx\u001b[0m in \u001b[0;36mh5py._objects.with_phil.wrapper\u001b[0;34m()\u001b[0m\n",
      "\u001b[0;32mh5py/_objects.pyx\u001b[0m in \u001b[0;36mh5py._objects.with_phil.wrapper\u001b[0;34m()\u001b[0m\n",
      "\u001b[0;32mh5py/h5f.pyx\u001b[0m in \u001b[0;36mh5py.h5f.open\u001b[0;34m()\u001b[0m\n",
      "\u001b[0;31mOSError\u001b[0m: Unable to open file (unable to open file: name = 'http://www.illustris-project.org/api/Illustris-1/snapshots/135/groups_135/fof_subhalo_tab_135.0.hdf5', errno = 2, error message = 'No such file or directory', flags = 0, o_flags = 0)"
     ]
    }
   ],
   "source": [
    "test_numMergers()"
   ]
  },
  {
   "cell_type": "code",
   "execution_count": null,
   "metadata": {},
   "outputs": [],
   "source": []
  },
  {
   "cell_type": "code",
   "execution_count": null,
   "metadata": {},
   "outputs": [],
   "source": [
    "# Okay now plot the snapshot for the above before and after case :)\n",
    "#['snap','id','mass_gas','mass_stars','mass_dm','mass_bhs']\n",
    "print(r['snap'], r['id'])\n",
    "\n",
    "ids = r['id']\n",
    "snaps = r['snap']\n",
    "\n",
    "# it is of course possible this data product does not exist for all requested subhalos\n",
    "for j in range(len(ids)):\n",
    "    idj = ids[j]\n",
    "    snap = snaps[j]\n",
    "    print('id', idj, 'snap', snap)\n",
    "    url = \"http://www.illustris-project.org/api/Illustris-1/snapshots/\"+str(snap)+\"/subhalos/\" + str(idj)\n",
    "    sub = get(url)\n",
    "    if 'stellar_mocks' in sub['supplementary_data']: \n",
    "        # download PNG image, the version which includes all stars in the FoF halo (try replacing 'fof' with 'gz')\n",
    "        \n",
    "        print(sub['supplementary_data'])\n",
    "        try:\n",
    "            png_url = sub['supplementary_data']['stellar_mocks']['image_fof']\n",
    "            response = get(png_url)\n",
    "            # make plot a bit nicer\n",
    "            plt.subplot(1,len(ids),sub_count)\n",
    "            plt.text(0,-20,\"ID=\"+str(id),color='blue')\n",
    "            plt.gca().axes.get_xaxis().set_ticks([])\n",
    "            plt.gca().axes.get_yaxis().set_ticks([])\n",
    "            sub_count += 1\n",
    "\n",
    "            # plot the PNG binary data directly, without actually saving a .png file\n",
    "            file_object = BytesIO(response.content)\n",
    "            plt.imshow(mpimg.imread(file_object))\n",
    "            plt.show()\n",
    "        except:\n",
    "            fits_url = sub['supplementary_data']['stellar_mocks']['fits']\n",
    "            response = get(png_url)\n",
    "            file_object = BytesIO(response.content)\n",
    "            plt.imshow(mpimg.imread(file_object))\n",
    "            plt.show()\n",
    "plt.show()       "
   ]
  },
  {
   "cell_type": "code",
   "execution_count": 43,
   "metadata": {},
   "outputs": [
    {
     "name": "stdout",
     "output_type": "stream",
     "text": [
      "http://www.illustris-project.org/api/Illustris-1/snapshots/135/subhalos/41092/stellar_mocks/image_fof.png\n",
      "http://www.illustris-project.org/api/Illustris-1/snapshots/135/subhalos/338375/stellar_mocks/image_fof.png\n",
      "http://www.illustris-project.org/api/Illustris-1/snapshots/135/subhalos/257378/stellar_mocks/image_fof.png\n",
      "http://www.illustris-project.org/api/Illustris-1/snapshots/135/subhalos/110568/stellar_mocks/image_fof.png\n",
      "http://www.illustris-project.org/api/Illustris-1/snapshots/135/subhalos/260067/stellar_mocks/image_fof.png\n"
     ]
    },
    {
     "data": {
      "image/png": "[encoded data removed]",
      "text/plain": [
       "<Figure size 1080x216 with 5 Axes>"
      ]
     },
     "metadata": {},
     "output_type": "display_data"
    }
   ],
   "source": [
    "# Get them images:\n",
    "import matplotlib.image as mpimg\n",
    "try:\n",
    "    from StringIO import StringIO ## for Python 2\n",
    "except ImportError:\n",
    "    from io import BytesIO ## for Python 3\n",
    "\n",
    "ids = [41092,338375,257378,110568,260067]\n",
    "sub_count = 1\n",
    "plt.figure(figsize=[15,3])\n",
    "\n",
    "for id in ids:\n",
    "    url = \"http://www.illustris-project.org/api/Illustris-1/snapshots/135/subhalos/\" + str(id)\n",
    "    sub = get(url)\n",
    "    # it is of course possible this data product does not exist for all requested subhalos\n",
    "    if 'stellar_mocks' in sub['supplementary_data']: \n",
    "        print(sub['supplementary_data']['stellar_mocks']['image_fof'])\n",
    "        \n",
    "        # download PNG image, the version which includes all stars in the FoF halo (try replacing 'fof' with 'gz')\n",
    "        png_url = sub['supplementary_data']['stellar_mocks']['image_fof']\n",
    "        response = get(png_url)\n",
    "        # make plot a bit nicer\n",
    "        plt.subplot(1,len(ids),sub_count)\n",
    "        plt.text(0,-20,\"ID=\"+str(id),color='blue')\n",
    "        plt.gca().axes.get_xaxis().set_ticks([])\n",
    "        plt.gca().axes.get_yaxis().set_ticks([])\n",
    "        sub_count += 1\n",
    "\n",
    "        # plot the PNG binary data directly, without actually saving a .png file\n",
    "        file_object = BytesIO(response.content)\n",
    "        plt.imshow(mpimg.imread(file_object))"
   ]
  },
  {
   "cell_type": "code",
   "execution_count": 50,
   "metadata": {
    "scrolled": false
   },
   "outputs": [
    {
     "name": "stdout",
     "output_type": "stream",
     "text": [
      "{'snap': 99, 'id': 0, 'bhmdot': 0.00039801, 'cm_x': 832.387, 'cm_y': 26368.5, 'cm_z': 18060.8, 'gasmetallicity': 0.0077182, 'gasmetallicityhalfrad': 0.00799488, 'gasmetallicitymaxrad': 0.0056164, 'gasmetallicitysfr': 0.00668848, 'gasmetallicitysfrweighted': 0.00668008, 'pos_x': 849.091, 'pos_y': 26327.0, 'pos_z': 18306.9, 'halfmassrad': 607.966, 'halfmassrad_gas': 627.311, 'halfmassrad_dm': 610.31, 'halfmassrad_stars': 47.3881, 'halfmassrad_bhs': 0.0, 'len': 88772413, 'len_gas': 38648183, 'len_dm': 46136876, 'len_stars': 3987343, 'len_bhs': 11, 'mass': 27477.9, 'mass_gas': 3900.6, 'mass_dm': 23325.6, 'mass_stars': 251.016, 'mass_bhs': 0.701811, 'massinhalfrad': 555.356, 'massinhalfrad_gas': 13.5311, 'massinhalfrad_dm': 415.619, 'massinhalfrad_stars': 125.508, 'massinhalfrad_bhs': 0.697652, 'massinmaxrad': 7611.22, 'massinmaxrad_gas': 870.236, 'massinmaxrad_dm': 6518.97, 'massinmaxrad_stars': 221.317, 'massinmaxrad_bhs': 0.6981, 'massinrad': 1549.87, 'massinrad_gas': 80.1219, 'massinrad_dm': 1305.21, 'massinrad_stars': 163.834, 'massinrad_bhs': 0.6981, 'sfr': 2.22719, 'sfrinhalfrad': 0.0, 'sfrinmaxrad': 0.903495, 'sfrinrad': 0.195825, 'spin_x': 17997.8, 'spin_y': -3810.16, 'spin_z': -24480.9, 'starmetallicity': 0.0286223, 'starmetallicityhalfrad': 0.0325776, 'starmetallicitymaxrad': 0.0239841, 'stellarphotometrics_u': -24.1033, 'stellarphotometrics_b': -24.5116, 'stellarphotometrics_v': -25.376, 'stellarphotometrics_k': -28.3093, 'stellarphotometrics_g': -24.9662, 'stellarphotometrics_r': -25.7158, 'stellarphotometrics_i': -26.0726, 'stellarphotometrics_z': -26.3286, 'stellarphotometricsmassinrad': 139.712, 'stellarphotometricsrad': 39.7723, 'vel_x': 15.8496, 'vel_y': -236.392, 'vel_z': -89.5239, 'veldisp': 603.875, 'vmax': 999.385, 'vmaxrad': 327.828, 'windmass': 0.03918, 'prog_snap': 98, 'prog_sfid': 0, 'desc_snap': -1, 'desc_sfid': -1, 'parent': 0, 'grnr': 0, 'primary_flag': 1, 'mass_log_msun': 14.60813834636778, 'related': {'sublink_progenitor': 'http://www.tng-project.org/api/TNG100-1/snapshots/98/subhalos/0/', 'sublink_descendant': None, 'parent_halo': 'http://www.tng-project.org/api/TNG100-1/snapshots/99/halos/0/'}, 'cutouts': {'subhalo': 'http://www.tng-project.org/api/TNG100-1/snapshots/99/subhalos/0/cutout.hdf5', 'parent_halo': 'http://www.tng-project.org/api/TNG100-1/snapshots/99/halos/0/cutout.hdf5'}, 'trees': {'sublink': 'http://www.tng-project.org/api/TNG100-1/snapshots/99/subhalos/0/sublink/full.hdf5', 'sublink_mpb': 'http://www.tng-project.org/api/TNG100-1/snapshots/99/subhalos/0/sublink/mpb.hdf5', 'sublink_mdb': 'http://www.tng-project.org/api/TNG100-1/snapshots/99/subhalos/0/sublink/mdb.hdf5', 'sublink_simple': 'http://www.tng-project.org/api/TNG100-1/snapshots/99/subhalos/0/sublink/simple.json', 'lhalotree': 'http://www.tng-project.org/api/TNG100-1/snapshots/99/subhalos/0/lhalotree/full.hdf5', 'lhalotree_mpb': 'http://www.tng-project.org/api/TNG100-1/snapshots/99/subhalos/0/lhalotree/mpb.hdf5'}, 'supplementary_data': {'skirt_images': {'fits_sdss': 'http://www.tng-project.org/api/TNG100-1/snapshots/99/subhalos/0/skirt/broadband_sdss.fits', 'image_g_sdss': 'http://www.tng-project.org/api/TNG100-1/snapshots/99/subhalos/0/skirt/image_g_sdss.png', 'image_i_sdss': 'http://www.tng-project.org/api/TNG100-1/snapshots/99/subhalos/0/skirt/image_i_sdss.png', 'fits_pogs': 'http://www.tng-project.org/api/TNG100-1/snapshots/99/subhalos/0/skirt/broadband_pogs.fits', 'image_g_pogs': 'http://www.tng-project.org/api/TNG100-1/snapshots/99/subhalos/0/skirt/image_g_pogs.png', 'image_i_pogs': 'http://www.tng-project.org/api/TNG100-1/snapshots/99/subhalos/0/skirt/image_i_pogs.png'}}, 'vis': {'mergertree_sublink': 'http://www.tng-project.org/api/TNG100-1/snapshots/99/subhalos/0/sublink/tree.png', 'halo_gas_dens': 'http://www.tng-project.org/api/TNG100-1/snapshots/99/subhalos/0/vis.png?partType=gas', 'halo_gas_temp': 'http://www.tng-project.org/api/TNG100-1/snapshots/99/subhalos/0/vis.png?partType=gas&partField=temp', 'halo_dm_dens': 'http://www.tng-project.org/api/TNG100-1/snapshots/99/subhalos/0/vis.png?partType=dm', 'halo_stellar_dens': 'http://www.tng-project.org/api/TNG100-1/snapshots/99/subhalos/0/vis.png?partType=stars', 'galaxy_gas_dens': 'http://www.tng-project.org/api/TNG100-1/snapshots/99/subhalos/0/vis.png?partType=gas&size=5.0&sizeType=rHalfMassStars', 'galaxy_gas_dens_faceon': 'http://www.tng-project.org/api/TNG100-1/snapshots/99/subhalos/0/vis.png?partType=gas&size=5.0&sizeType=rHalfMassStars&rotation=face-on', 'galaxy_stellar_light': 'http://www.tng-project.org/api/TNG100-1/snapshots/99/subhalos/0/vis.png?partType=stars&partField=stellarComp-jwst_f200w-jwst_f115w-jwst_f070w&size=5.0&sizeType=rHalfMassStars', 'galaxy_stellar_light_faceon': 'http://www.tng-project.org/api/TNG100-1/snapshots/99/subhalos/0/vis.png?partType=stars&partField=stellarComp-jwst_f200w-jwst_f115w-jwst_f070w&size=5.0&sizeType=rHalfMassStars&rotation=face-on'}, 'meta': {'url': 'http://www.tng-project.org/api/TNG100-1/snapshots/99/subhalos/0/', 'snapshot': 'http://www.tng-project.org/api/TNG100-1/snapshots/99/', 'simulation': 'http://www.tng-project.org/api/TNG100-1/', 'info': 'http://www.tng-project.org/api/TNG100-1/snapshots/99/subhalos/0/info.json'}}\n"
     ]
    },
    {
     "ename": "NameError",
     "evalue": "name 'STOP' is not defined",
     "output_type": "error",
     "traceback": [
      "\u001b[0;31m---------------------------------------------------------------------------\u001b[0m",
      "\u001b[0;31mNameError\u001b[0m                                 Traceback (most recent call last)",
      "\u001b[0;32m<ipython-input-50-dde897b6e46c>\u001b[0m in \u001b[0;36m<module>\u001b[0;34m\u001b[0m\n\u001b[1;32m     15\u001b[0m     \u001b[0msub\u001b[0m \u001b[0;34m=\u001b[0m \u001b[0mget\u001b[0m\u001b[0;34m(\u001b[0m\u001b[0murl\u001b[0m\u001b[0;34m)\u001b[0m\u001b[0;34m\u001b[0m\u001b[0;34m\u001b[0m\u001b[0m\n\u001b[1;32m     16\u001b[0m     \u001b[0mprint\u001b[0m\u001b[0;34m(\u001b[0m\u001b[0msub\u001b[0m\u001b[0;34m)\u001b[0m\u001b[0;34m\u001b[0m\u001b[0;34m\u001b[0m\u001b[0m\n\u001b[0;32m---> 17\u001b[0;31m     \u001b[0mSTOP\u001b[0m\u001b[0;34m\u001b[0m\u001b[0;34m\u001b[0m\u001b[0m\n\u001b[0m\u001b[1;32m     18\u001b[0m     \u001b[0;31m# it is of course possible this data product does not exist for all requested subhalos\u001b[0m\u001b[0;34m\u001b[0m\u001b[0;34m\u001b[0m\u001b[0;34m\u001b[0m\u001b[0m\n\u001b[1;32m     19\u001b[0m     \u001b[0;32mif\u001b[0m \u001b[0;34m'stellar_mocks'\u001b[0m \u001b[0;32min\u001b[0m \u001b[0msub\u001b[0m\u001b[0;34m[\u001b[0m\u001b[0;34m'supplementary_data'\u001b[0m\u001b[0;34m]\u001b[0m\u001b[0;34m:\u001b[0m\u001b[0;34m\u001b[0m\u001b[0;34m\u001b[0m\u001b[0m\n",
      "\u001b[0;31mNameError\u001b[0m: name 'STOP' is not defined"
     ]
    },
    {
     "data": {
      "text/plain": [
       "<Figure size 1080x216 with 0 Axes>"
      ]
     },
     "metadata": {},
     "output_type": "display_data"
    }
   ],
   "source": [
    "# Get them images:\n",
    "import matplotlib.image as mpimg\n",
    "try:\n",
    "    from StringIO import StringIO ## for Python 2\n",
    "except ImportError:\n",
    "    from io import BytesIO ## for Python 3\n",
    "\n",
    "ids = [0,100,200,300]\n",
    "sub_count = 1\n",
    "plt.figure(figsize=[15,3])\n",
    "\n",
    "for id in ids:\n",
    "    url = \"http://www.tng-project.org/api/TNG100-1/snapshots/99/subhalos/\" + str(id)\n",
    "    \n",
    "    sub = get(url)\n",
    "    print(sub)\n",
    "    STOP\n",
    "    # it is of course possible this data product does not exist for all requested subhalos\n",
    "    if 'stellar_mocks' in sub['supplementary_data']: \n",
    "        # download PNG image, the version which includes all stars in the FoF halo (try replacing 'fof' with 'gz')\n",
    "        png_url = sub['supplementary_data']['stellar_mocks']['image_fof']\n",
    "        response = get(png_url)\n",
    "        # make plot a bit nicer\n",
    "        plt.subplot(1,len(ids),sub_count)\n",
    "        plt.text(0,-20,\"ID=\"+str(id),color='blue')\n",
    "        plt.gca().axes.get_xaxis().set_ticks([])\n",
    "        plt.gca().axes.get_yaxis().set_ticks([])\n",
    "        sub_count += 1\n",
    "\n",
    "        # plot the PNG binary data directly, without actually saving a .png file\n",
    "        file_object = BytesIO(response.content)\n",
    "        plt.imshow(mpimg.imread(file_object))\n",
    "    else:\n",
    "        if 'galaxy_stellar_light' in sub['vis']:\n",
    "            \n",
    "            png_url = sub['vis']['galaxy_stellar_light']\n",
    "            print(png_url)\n",
    "            response = get(png_url)\n",
    "            # make plot a bit nicer\n",
    "            plt.subplot(1,len(ids),sub_count)\n",
    "            plt.text(0,-20,\"ID=\"+str(id),color='blue')\n",
    "            plt.gca().axes.get_xaxis().set_ticks([])\n",
    "            plt.gca().axes.get_yaxis().set_ticks([])\n",
    "            sub_count += 1\n",
    "\n",
    "            # plot the PNG binary data directly, without actually saving a .png file\n",
    "            #print(response)\n",
    "            #file_object = BytesIO(response)\n",
    "            plt.imshow(mpimg.imread(response))\n",
    "            plt.show()\n",
    "            STOP\n",
    "        else:  \n",
    "            print(sub)\n",
    "            STOP"
   ]
  },
  {
   "cell_type": "code",
   "execution_count": null,
   "metadata": {},
   "outputs": [],
   "source": []
  }
 ],
 "metadata": {
  "kernelspec": {
   "display_name": "Python 3",
   "language": "python",
   "name": "python3"
  },
  "language_info": {
   "codemirror_mode": {
    "name": "ipython",
    "version": 3
   },
   "file_extension": ".py",
   "mimetype": "text/x-python",
   "name": "python",
   "nbconvert_exporter": "python",
   "pygments_lexer": "ipython3",
   "version": "3.7.3"
  }
 },
 "nbformat": 4,
 "nbformat_minor": 2
}
