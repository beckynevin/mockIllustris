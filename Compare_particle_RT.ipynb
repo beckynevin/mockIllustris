{
 "cells": [
  {
   "cell_type": "markdown",
   "id": "ea1e72b9",
   "metadata": {},
   "source": [
    "## Goal: make side by side panels of RT'ed images and particle maps"
   ]
  },
  {
   "cell_type": "code",
   "execution_count": 1,
   "id": "9f688ced",
   "metadata": {},
   "outputs": [
    {
     "name": "stdout",
     "output_type": "stream",
     "text": [
      "4.0.1\n"
     ]
    }
   ],
   "source": [
    "# Okay first remember how to get particle maps:\n",
    "import requests\n",
    "import yt\n",
    "from astropy.cosmology import Planck15\n",
    "print(yt.__version__)\n",
    "import numpy as np\n",
    "import matplotlib.pyplot as plt\n",
    "from PIL import Image\n",
    "import matplotlib\n",
    "import pandas as pd\n",
    "import random\n",
    "from matplotlib.offsetbox import AnchoredText\n",
    "\n",
    "baseUrl = 'http://www.tng-project.org/api/'\n",
    "headers = {\"api-key\":\"3b865713af85f5da0dba3b577e289484\"}\n",
    "\n",
    "\n",
    "def get(path, params=None):\n",
    "    # make HTTP GET request to path\n",
    "    r = requests.get(path, params=params, headers=headers)\n",
    "\n",
    "    # raise exception if response code is not HTTP SUCCESS (200)\n",
    "    r.raise_for_status()\n",
    "\n",
    "    if r.headers['content-type'] == 'application/json':\n",
    "        return r.json() # parse json responses automatically\n",
    "\n",
    "    if 'content-disposition' in r.headers:\n",
    "        filename = r.headers['content-disposition'].split(\"filename=\")[1]\n",
    "        with open(filename, 'wb') as f:\n",
    "            f.write(r.content)\n",
    "        return filename # return the filename string\n",
    "\n",
    "    return r"
   ]
  },
  {
   "cell_type": "code",
   "execution_count": 2,
   "id": "cefa517d",
   "metadata": {},
   "outputs": [
    {
     "data": {
      "text/plain": [
       "['output50_41130',\n",
       " 'output50_110864',\n",
       " 'output84_357527',\n",
       " 'output50_79621',\n",
       " 'output84_275477',\n",
       " 'output84_300739',\n",
       " 'output84_116308',\n",
       " 'output84_242148',\n",
       " 'output84_129693',\n",
       " 'output84_378743',\n",
       " 'output84_332766',\n",
       " 'output50_85']"
      ]
     },
     "execution_count": 2,
     "metadata": {},
     "output_type": "execute_result"
    }
   ],
   "source": [
    "# \n",
    "import os\n",
    "os.listdir('SKIRT_files/')"
   ]
  },
  {
   "cell_type": "code",
   "execution_count": null,
   "id": "1c397896",
   "metadata": {},
   "outputs": [],
   "source": [
    "redshift_dict = {'84':0.2,'50':1}\n",
    "\n",
    "snap = '84'\n",
    "redshift = redshift_dict[snap]\n",
    "id = 332766"
   ]
  },
  {
   "cell_type": "code",
   "execution_count": 9,
   "id": "e43709f3",
   "metadata": {},
   "outputs": [
    {
     "name": "stdout",
     "output_type": "stream",
     "text": [
      "{'sublink_progenitor': 'http://www.tng-project.org/api/TNG50-1/snapshots/83/subhalos/326686/', 'sublink_descendant': 'http://www.tng-project.org/api/TNG50-1/snapshots/85/subhalos/341875/', 'parent_halo': 'http://www.tng-project.org/api/TNG50-1/snapshots/84/halos/44/'}\n",
      "{'sublink_progenitor': 'http://www.tng-project.org/api/TNG50-1/snapshots/84/subhalos/332766/', 'sublink_descendant': 'http://www.tng-project.org/api/TNG50-1/snapshots/86/subhalos/344177/', 'parent_halo': 'http://www.tng-project.org/api/TNG50-1/snapshots/85/halos/45/'}\n",
      "{'sublink_progenitor': 'http://www.tng-project.org/api/TNG50-1/snapshots/85/subhalos/341875/', 'sublink_descendant': 'http://www.tng-project.org/api/TNG50-1/snapshots/87/subhalos/347435/', 'parent_halo': 'http://www.tng-project.org/api/TNG50-1/snapshots/86/halos/45/'}\n",
      "{'sublink_progenitor': 'http://www.tng-project.org/api/TNG50-1/snapshots/86/subhalos/344177/', 'sublink_descendant': 'http://www.tng-project.org/api/TNG50-1/snapshots/88/subhalos/349567/', 'parent_halo': 'http://www.tng-project.org/api/TNG50-1/snapshots/87/halos/44/'}\n",
      "{'sublink_progenitor': 'http://www.tng-project.org/api/TNG50-1/snapshots/87/subhalos/347435/', 'sublink_descendant': 'http://www.tng-project.org/api/TNG50-1/snapshots/89/subhalos/354683/', 'parent_halo': 'http://www.tng-project.org/api/TNG50-1/snapshots/88/halos/44/'}\n",
      "{'sublink_progenitor': 'http://www.tng-project.org/api/TNG50-1/snapshots/88/subhalos/349567/', 'sublink_descendant': 'http://www.tng-project.org/api/TNG50-1/snapshots/90/subhalos/362583/', 'parent_halo': 'http://www.tng-project.org/api/TNG50-1/snapshots/89/halos/44/'}\n",
      "{'sublink_progenitor': 'http://www.tng-project.org/api/TNG50-1/snapshots/89/subhalos/354683/', 'sublink_descendant': 'http://www.tng-project.org/api/TNG50-1/snapshots/91/subhalos/365474/', 'parent_halo': 'http://www.tng-project.org/api/TNG50-1/snapshots/90/halos/45/'}\n",
      "{'sublink_progenitor': 'http://www.tng-project.org/api/TNG50-1/snapshots/90/subhalos/362583/', 'sublink_descendant': 'http://www.tng-project.org/api/TNG50-1/snapshots/92/subhalos/370682/', 'parent_halo': 'http://www.tng-project.org/api/TNG50-1/snapshots/91/halos/44/'}\n",
      "{'sublink_progenitor': 'http://www.tng-project.org/api/TNG50-1/snapshots/91/subhalos/365474/', 'sublink_descendant': 'http://www.tng-project.org/api/TNG50-1/snapshots/93/subhalos/371453/', 'parent_halo': 'http://www.tng-project.org/api/TNG50-1/snapshots/92/halos/44/'}\n",
      "{'sublink_progenitor': 'http://www.tng-project.org/api/TNG50-1/snapshots/92/subhalos/370682/', 'sublink_descendant': 'http://www.tng-project.org/api/TNG50-1/snapshots/94/subhalos/375641/', 'parent_halo': 'http://www.tng-project.org/api/TNG50-1/snapshots/93/halos/44/'}\n",
      "{'sublink_progenitor': 'http://www.tng-project.org/api/TNG50-1/snapshots/93/subhalos/371453/', 'sublink_descendant': 'http://www.tng-project.org/api/TNG50-1/snapshots/95/subhalos/377770/', 'parent_halo': 'http://www.tng-project.org/api/TNG50-1/snapshots/94/halos/44/'}\n",
      "{'sublink_progenitor': 'http://www.tng-project.org/api/TNG50-1/snapshots/94/subhalos/375641/', 'sublink_descendant': 'http://www.tng-project.org/api/TNG50-1/snapshots/96/subhalos/380952/', 'parent_halo': 'http://www.tng-project.org/api/TNG50-1/snapshots/95/halos/43/'}\n",
      "{'sublink_progenitor': 'http://www.tng-project.org/api/TNG50-1/snapshots/95/subhalos/377770/', 'sublink_descendant': 'http://www.tng-project.org/api/TNG50-1/snapshots/97/subhalos/388074/', 'parent_halo': 'http://www.tng-project.org/api/TNG50-1/snapshots/96/halos/44/'}\n",
      "{'sublink_progenitor': 'http://www.tng-project.org/api/TNG50-1/snapshots/96/subhalos/380952/', 'sublink_descendant': 'http://www.tng-project.org/api/TNG50-1/snapshots/98/subhalos/389601/', 'parent_halo': 'http://www.tng-project.org/api/TNG50-1/snapshots/97/halos/46/'}\n",
      "{'sublink_progenitor': 'http://www.tng-project.org/api/TNG50-1/snapshots/97/subhalos/388074/', 'sublink_descendant': 'http://www.tng-project.org/api/TNG50-1/snapshots/99/subhalos/392278/', 'parent_halo': 'http://www.tng-project.org/api/TNG50-1/snapshots/98/halos/45/'}\n"
     ]
    },
    {
     "data": {
      "image/png": "[encoded data removed]",
      "text/plain": [
       "<Figure size 432x288 with 1 Axes>"
      ]
     },
     "metadata": {
      "needs_background": "light"
     },
     "output_type": "display_data"
    }
   ],
   "source": [
    "\n",
    "url = \"http://www.tng-project.org/api/TNG50-1/snapshots/\"+str(snap)+\"/subhalos/\" + str(id)\n",
    "\n",
    "sub = get(url) # get json response of subhalo properties\n",
    "# prepare dict to hold result arrays\n",
    "fields = ['snap','id','mass_gas','mass_stars','mass_dm','mass_bhs']\n",
    "r = {}\n",
    "for field in fields:\n",
    "    r[field] = []\n",
    "    \n",
    "while sub['desc_sfid'] != -1:\n",
    "    for field in fields:\n",
    "        r[field].append(sub[field])\n",
    "    # request the full subhalo details of the descendant by following the sublink URL\n",
    "    print(sub['related'])\n",
    "    sub = get(sub['related']['sublink_descendant'])\n",
    "    \n",
    "    \n",
    "plt.clf()\n",
    "# make a plot (notice our subhalo falls into a much more massive halo around snapshot 105)\n",
    "for partType in ['gas','dm','stars','bhs']:\n",
    "    mass_logmsun = np.log10( np.array(r['mass_'+partType])*1e10/0.704)\n",
    "    plt.plot(r['snap'],mass_logmsun,label=partType)\n",
    "\n",
    "plt.xlabel('Snapshot Number')\n",
    "plt.ylabel('Mass [log $M_\\odot$]')\n",
    "plt.legend(loc='lower right')\n",
    "plt.show()\n",
    "#savefig('merger_history_'+str(snapshot)+'_'+str(id)+'.png', dpi=1000)"
   ]
  },
  {
   "cell_type": "code",
   "execution_count": 33,
   "id": "a04f6b1f",
   "metadata": {},
   "outputs": [],
   "source": [
    "def plot_particles(snap, id, size_box_kpc, res):\n",
    "\n",
    "\n",
    "    cutout_request_stars = {'stars':'all'}\n",
    "\n",
    "    sub_url = \"http://www.tng-project.org/api/TNG50-1/snapshots/\"+str(snap)+\"/subhalos/\"+str(id)+\"/\"\n",
    "    cutout = get(sub_url+\"cutout.hdf5\",cutout_request_stars)\n",
    "    \n",
    "    ds = yt.load(cutout)\n",
    "\n",
    "\n",
    "    c = ds.arr([sub['pos_x'], sub['pos_y'], sub['pos_z']], \"code_length\")\n",
    "    \n",
    "    # Optionally also show the rgb plot\n",
    "    direction = 'z'\n",
    "\n",
    "    kpc_arcsec = Planck15.kpc_proper_per_arcmin(redshift).value/60\n",
    "\n",
    "    # Now, for a 20x20 kpc box how many pixels?\n",
    "\n",
    "    num_pix = int(size_box_kpc/(res*kpc_arcsec))\n",
    "\n",
    "\n",
    "    p2 = yt.FITSParticleProjection(ds, direction, [(\"PartType4\",\"particle_mass\")], width=(size_box_kpc, \"kpc\"), \n",
    "                        image_res=num_pix, center=c)#, deposition='cic'\n",
    "\n",
    "    particles = np.nan_to_num(p2[\"particle_mass\"].data.d)\n",
    "    return particles, num_pix\n",
    "\n"
   ]
  },
  {
   "cell_type": "code",
   "execution_count": null,
   "id": "9d558f10",
   "metadata": {},
   "outputs": [
    {
     "name": "stdout",
     "output_type": "stream",
     "text": [
      "50 1 41130\n",
      "size box 30.0\n"
     ]
    }
   ],
   "source": [
    "import astropy.io.fits as fits\n",
    "\n",
    "#print(os.listdir('SKIRT_files'))\n",
    "redshift_dict = {'50':1,'84':0.2}\n",
    "\n",
    "view = 1\n",
    "\n",
    "for folder in os.listdir('SKIRT_files'):\n",
    "    # First, get the redshift from the snap\n",
    "    second = str.split(folder,'output')[1]\n",
    "    snap = str.split(second, '_')[0]\n",
    "    id = str.split(second,'_')[1]\n",
    "    z = redshift_dict[snap]\n",
    "    \n",
    "    print(snap, z, id)\n",
    "    size_box_kpc = 60/(1+z)\n",
    "    print('size box', size_box_kpc)\n",
    "    \n",
    "    res = 0.031 # same as the blue channels\n",
    "    \n",
    "    particles, num_pix = plot_particles(snap, id, size_box_kpc, res)\n",
    "    plt.clf()\n",
    "    plt.imshow(particles)\n",
    "    plt.show()\n",
    "    STOP\n",
    "\n",
    "    plt.clf()\n",
    "    fig = plt.figure(figsize=(7,7))\n",
    "    ax = fig.add_subplot(131)\n",
    "    ax.imshow(particles, interpolation='nearest', norm=matplotlib.colors.LogNorm())#vmax=np.max(particles)/2))\n",
    "    ax.set_yticks([0, num_pix/2, num_pix])\n",
    "    ax.set_yticklabels([-size_box_kpc/2, 0, size_box_kpc/2])\n",
    "    ax.set_ylabel('kpc')\n",
    "    ax.set_title('Stellar particles')\n",
    "    #plt.annotate(r'snap = '+str(snap)+', $z = $'+str(round(redshift,4))+', ID = '+str(id), xy=(0.02, 0.93), xycoords='axes fraction', size=17, color='black')\n",
    "    #mass_logmsun = np.log10( np.array(r['mass_stars'][j])*1e10/0.704)\n",
    "    #plt.annotate(r'log $M_* = $'+str(round(mass_logmsun,2)), xy=(0.02, 0.85), xycoords='axes fraction', size=17, color='black')\n",
    "\n",
    "    #plt.title('Snap = '+str(snapshot)+' z = '+str(round(redshift,4))+' ID = '+str(id))\n",
    "    \n",
    "    \n",
    "    \n",
    "    try:\n",
    "        im = fits.open('SKIRT_files/'+folder+'/'+'dusty_img'+str(view)+'_total.fits')\n",
    "    except FileNotFoundError:\n",
    "        continue\n",
    "    ax1 = fig.add_subplot(132)\n",
    "    ax1.imshow(np.sum(im[0].data, axis=0), norm=matplotlib.colors.LogNorm())\n",
    "    print(folder)\n",
    "    ax1.set_title(r'\\texttt{SKIRT}\\nBolometric Surface Brightness')\n",
    "    ax1.axis('off')\n",
    "    \n",
    "    npy_file = np.load('mock_images/redshift_'+str(z)+'/'+str(id)+'/'+str(id)+'_'+str(view)+'.npy', allow_pickle=True)\n",
    "    \n",
    "    ax2 = fig.add_subplot(133)\n",
    "    ax2.imshow(abs(npy_file[5]), norm=matplotlib.colors.LogNorm())\n",
    "    ax2.set_title('Observational Realism')\n",
    "    ax2.axis('off')\n",
    "    plt.show()"
   ]
  },
  {
   "cell_type": "code",
   "execution_count": null,
   "id": "9efdbd19",
   "metadata": {},
   "outputs": [],
   "source": []
  }
 ],
 "metadata": {
  "kernelspec": {
   "display_name": "Python 3 (ipykernel)",
   "language": "python",
   "name": "python3"
  },
  "language_info": {
   "codemirror_mode": {
    "name": "ipython",
    "version": 3
   },
   "file_extension": ".py",
   "mimetype": "text/x-python",
   "name": "python",
   "nbconvert_exporter": "python",
   "pygments_lexer": "ipython3",
   "version": "3.7.4"
  }
 },
 "nbformat": 4,
 "nbformat_minor": 5
}
