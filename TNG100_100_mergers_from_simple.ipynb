{
 "cells": [
  {
   "cell_type": "markdown",
   "metadata": {},
   "source": [
    "### The goal of this notebook is to display photos\n",
    "(In whatever form)\n",
    "\n",
    "Of 100 mergers from TNG100.\n",
    "\n",
    "Since there are available images at z = 0.05, this could be a good place to search.\n",
    "\n",
    "Since there isn't a next progenitor pointer in the normal snapshot files, you'll have to use the merger trees.\n",
    "And it would be great if you could use the same architecture as TNG50 so that it could transfer over better.\n",
    "\n"
   ]
  },
  {
   "cell_type": "code",
   "execution_count": 1,
   "metadata": {},
   "outputs": [],
   "source": [
    "import requests\n",
    "import numpy as np\n",
    "import matplotlib.pyplot as plt\n",
    "import seaborn as sns\n",
    "\n",
    "baseUrl = 'http://www.tng-project.org/api/'\n",
    "headers = {\"api-key\":\"3b865713af85f5da0dba3b577e289484\"}\n",
    "def get(path, params=None):\n",
    "    # make HTTP GET request to path\n",
    "    r = requests.get(path, params=params, headers=headers)\n",
    "\n",
    "    # raise exception if response code is not HTTP SUCCESS (200)\n",
    "    r.raise_for_status()\n",
    "\n",
    "    if r.headers['content-type'] == 'application/json':\n",
    "        return r.json() # parse json responses automatically\n",
    "\n",
    "    if 'content-disposition' in r.headers:\n",
    "        filename = r.headers['content-disposition'].split(\"filename=\")[1]\n",
    "        with open(filename, 'wb') as f:\n",
    "            f.write(r.content)\n",
    "        return filename # return the filename string\n",
    "\n",
    "    return r"
   ]
  },
  {
   "cell_type": "code",
   "execution_count": 85,
   "metadata": {},
   "outputs": [
    {
     "name": "stdout",
     "output_type": "stream",
     "text": [
      "?mass_stars__gt=2.2262434727585387&mass_stars__lt=7.039999999999999\n",
      "Number of subhalos 2095\n"
     ]
    },
    {
     "data": {
      "text/plain": [
       "\"num=1000\\nsub = get( subs['results'][num]['url'] )#was 1\\nprint(sub.keys())\""
      ]
     },
     "execution_count": 85,
     "metadata": {},
     "output_type": "execute_result"
    }
   ],
   "source": [
    "r = get(baseUrl)\n",
    "names = [sim['name'] for sim in r['simulations']]\n",
    "i = names.index('TNG100-1')\n",
    "sim = get( r['simulations'][i]['url'] )\n",
    "snaps = get( sim['snapshots'] )\n",
    "snap = get( snaps[-1]['url'] )\n",
    "\n",
    "snap_98 = get( snaps[-2]['url'] )\n",
    "subs = get( snap['subhalos'], {'limit':2000, 'order_by':'-mass_stars'} )#was 20\n",
    "\n",
    "\n",
    "# Okay so try to sort this by query\n",
    "# Snyder sorts for M_stellar > 10^10.5\n",
    "mass_min = 10**10.5 / 1e10 * 0.704\n",
    "mass_max = 10**11 / 1e10 * 0.704\n",
    "search_query = \"?mass_stars__gt=\" + str(mass_min) + \"&mass_stars__lt=\" + str(mass_max)\n",
    "print(search_query)\n",
    "query_url = \"http://www.tng-project.org/api/TNG100-1/snapshots/99/subhalos/\" + search_query\n",
    "query_subhalos = get(query_url)\n",
    "print('Number of subhalos', query_subhalos['count'])\n",
    "\n",
    "'''\n",
    "num=1000\n",
    "sub = get( subs['results'][num]['url'] )#was 1\n",
    "print(sub.keys())\n",
    "'''"
   ]
  },
  {
   "cell_type": "code",
   "execution_count": 103,
   "metadata": {},
   "outputs": [
    {
     "name": "stdout",
     "output_type": "stream",
     "text": [
      "number of merger supposedly 400 for this id 12\n",
      "number of merger supposedly 578 for this id 13\n",
      "number of merger supposedly 277 for this id 15\n",
      "number of merger supposedly 589 for this id 16\n",
      "number of merger supposedly 879 for this id 17\n",
      "number of merger supposedly 251 for this id 18\n",
      "number of merger supposedly 198 for this id 20\n",
      "subfind id [98, 614]\n",
      "mass ratio 0.02689004650777945\n",
      "subfind id [98, 2852]\n",
      "mass ratio 0.0009732502697727015\n",
      "number of merger supposedly 242 for this id 22\n",
      "number of merger supposedly 240 for this id 25\n",
      "number of merger supposedly 147 for this id 26\n",
      "number of merger supposedly 199 for this id 27\n",
      "subfind id [98, 534]\n",
      "mass ratio 0.03588978600718438\n",
      "number of merger supposedly 211 for this id 28\n",
      "number of merger supposedly 181 for this id 30\n",
      "number of merger supposedly 295 for this id 31\n",
      "number of merger supposedly 183 for this id 32\n",
      "number of merger supposedly 180 for this id 33\n",
      "number of merger supposedly 325 for this id 34\n",
      "number of merger supposedly 157 for this id 35\n",
      "number of merger supposedly 147 for this id 41\n",
      "number of merger supposedly 224 for this id 45\n",
      "number of merger supposedly 182 for this id 53\n",
      "number of merger supposedly 172 for this id 55\n",
      "number of merger supposedly 186 for this id 57\n",
      "number of merger supposedly 462 for this id 58\n",
      "number of merger supposedly 298 for this id 60\n",
      "number of merger supposedly 217 for this id 63\n",
      "number of merger supposedly 162 for this id 66\n",
      "number of merger supposedly 228 for this id 17197\n",
      "number of merger supposedly 397 for this id 17199\n",
      "number of merger supposedly 209 for this id 17200\n",
      "number of merger supposedly 328 for this id 17201\n",
      "number of merger supposedly 360 for this id 17203\n",
      "number of merger supposedly 357 for this id 17204\n",
      "number of merger supposedly 281 for this id 17206\n",
      "number of merger supposedly 237 for this id 17207\n",
      "number of merger supposedly 519 for this id 17208\n",
      "number of merger supposedly 187 for this id 17209\n",
      "number of merger supposedly 95 for this id 17211\n",
      "number of merger supposedly 181 for this id 17212\n",
      "number of merger supposedly 221 for this id 17213\n",
      "number of merger supposedly 177 for this id 17216\n",
      "number of merger supposedly 162 for this id 17218\n",
      "number of merger supposedly 253 for this id 17219\n",
      "number of merger supposedly 1201 for this id 17220\n",
      "number of merger supposedly 154 for this id 17222\n",
      "number of merger supposedly 168 for this id 17223\n",
      "number of merger supposedly 212 for this id 17224\n",
      "number of merger supposedly 229 for this id 17225\n",
      "number of merger supposedly 4021 for this id 17227\n",
      "number of merger supposedly 110 for this id 17228\n",
      "number of merger supposedly 206 for this id 17230\n",
      "number of merger supposedly 355 for this id 31345\n",
      "number of merger supposedly 422 for this id 31347\n",
      "number of merger supposedly 404 for this id 31348\n",
      "subfind id [98, 31386]\n",
      "mass ratio 0.035714538639364246\n",
      "number of merger supposedly 442 for this id 31349\n",
      "number of merger supposedly 305 for this id 31350\n",
      "number of merger supposedly 343 for this id 31351\n",
      "number of merger supposedly 189 for this id 31356\n",
      "number of merger supposedly 236 for this id 31357\n",
      "subfind id [98, 31450]\n",
      "mass ratio 0.024110676055530807\n",
      "number of merger supposedly 236 for this id 31358\n",
      "number of merger supposedly 563 for this id 31359\n",
      "number of merger supposedly 143 for this id 31360\n",
      "number of merger supposedly 492 for this id 31361\n",
      "number of merger supposedly 271 for this id 31362\n",
      "number of merger supposedly 152 for this id 31363\n",
      "number of merger supposedly 474 for this id 31364\n",
      "number of merger supposedly 350 for this id 31365\n",
      "number of merger supposedly 126 for this id 31367\n",
      "number of merger supposedly 261 for this id 31368\n",
      "number of merger supposedly 180 for this id 31369\n",
      "number of merger supposedly 297 for this id 31370\n",
      "number of merger supposedly 189 for this id 31371\n",
      "number of merger supposedly 261 for this id 31372\n",
      "number of merger supposedly 162 for this id 31376\n",
      "number of merger supposedly 195 for this id 31377\n",
      "number of merger supposedly 157 for this id 31379\n",
      "number of merger supposedly 153 for this id 31380\n",
      "number of merger supposedly 465 for this id 41588\n",
      "number of merger supposedly 323 for this id 41589\n",
      "number of merger supposedly 386 for this id 41591\n",
      "number of merger supposedly 262 for this id 41592\n",
      "number of merger supposedly 389 for this id 41593\n",
      "number of merger supposedly 474 for this id 41594\n",
      "number of merger supposedly 651 for this id 41595\n",
      "number of merger supposedly 289 for this id 41597\n",
      "number of merger supposedly 183 for this id 41598\n",
      "subfind id [98, 42042]\n",
      "mass ratio 0.020313281357901808\n",
      "number of merger supposedly 406 for this id 41599\n",
      "number of merger supposedly 95 for this id 41601\n",
      "number of merger supposedly 301 for this id 41602\n",
      "number of merger supposedly 170 for this id 41604\n",
      "number of merger supposedly 230 for this id 41605\n",
      "number of merger supposedly 189 for this id 41606\n",
      "number of merger supposedly 315 for this id 41607\n",
      "number of merger supposedly 449 for this id 41609\n",
      "number of merger supposedly 227 for this id 41610\n",
      "number of merger supposedly 195 for this id 41611\n",
      "number of merger supposedly 139 for this id 41613\n",
      "number of merger supposedly 142 for this id 41615\n",
      "number of merger supposedly 284 for this id 41617\n",
      "number of merger supposedly 527 for this id 41619\n",
      "ending here 100\n"
     ]
    }
   ],
   "source": [
    "# Now, search through all of these subhalos for mergers\n",
    "mass_stars=[]\n",
    "sfr=[]\n",
    "id_list=[]\n",
    "mass_total=[]\n",
    "for i in range(query_subhalos['count']):\n",
    "    # So for each subhalo\n",
    "    try:\n",
    "        sub = get( query_subhalos['results'][i]['url'] )\n",
    "    except:\n",
    "        print('ending here', i)\n",
    "        break\n",
    "    mass_stars.append(sub['mass_stars'])\n",
    "    mass_total.append(sub['mass'])\n",
    "    sfr.append(sub['sfr'])\n",
    "    id_list.append(sub['id'])\n",
    "    \n",
    "    sub_desc = sub\n",
    "    \n",
    "    # Then use the simple query\n",
    "    url_json = sub['trees']['sublink_simple']\n",
    "    tree_simple = get(url_json)\n",
    "    print('number of merger supposedly', len(tree_simple['Mergers']), 'for this id', sub['id'])\n",
    "    # So make something that will hold all mergers at this point in time\n",
    "    merger_98 = []\n",
    "    for j in range(len(tree_simple['Mergers'])):\n",
    "        #print(tree_simple['Mergers'][j][0])\n",
    "        if tree_simple['Mergers'][j][0] ==98:\n",
    "\n",
    "            # Look through and see if any has a stellar mass that's near to the descendant\n",
    "            sub_prog_url = \"http://www.tng-project.org/api/TNG100-1/snapshots/98/subhalos/\"+str(tree_simple['Mergers'][j][1])+\"/\"\n",
    "            sub_prog = get(sub_prog_url)\n",
    "\n",
    "            ending_mass = sub_prog['mass_stars']\n",
    "            prog_mass_list = []\n",
    "            prog_snapnum_list = []\n",
    "            if sub_prog['mass_stars']==0.0:\n",
    "                continue\n",
    "\n",
    "            prog_mass_list.append(sub_prog['mass_stars'])\n",
    "            prog_snapnum_list.append(sub_prog['snap'])\n",
    "            while sub_prog['related']['sublink_progenitor'] != 'None':\n",
    "                try:\n",
    "                    mpb_prog = get(sub_prog['related']['sublink_progenitor'])\n",
    "                except:\n",
    "                    break\n",
    "                prog_mass_list.append(mpb_prog['mass_stars'])\n",
    "                prog_snapnum_list.append(mpb_prog['snap'])\n",
    "                #print('snapshot walkin ',mpb_prog['snap'], ' stellar mass', mpb_prog['mass_stars'])\n",
    "                sub_prog = mpb_prog\n",
    "                if mpb_prog['snap'] < 98-5:\n",
    "                    break\n",
    "\n",
    "            '''plt.clf()\n",
    "            plt.plot(prog_snapnum_list, prog_mass_list)\n",
    "            plt.show()'''\n",
    "\n",
    "            max_mass_history = max(prog_mass_list)\n",
    "            print('subfind id', tree_simple['Mergers'][j])\n",
    "            #print('max mass', max_mass_history)\n",
    "            print('mass ratio', max_mass_history/sub_desc['mass_stars'])\n",
    "            # Note that there is an option to load a main progenitor mass brach if you want to load a mass history.\n",
    "            if max_mass_history > 0.1*sub_desc['mass_stars']:# basically if its within 10%\n",
    "                merger_98.append(tree_simple['Mergers'][j][1])\n",
    "                print('found another', sub_prog['mass_stars'], tree_simple['Mergers'][j][1])\n",
    "        if len(merger_98) > 0:\n",
    "            print('merger 98', merger_98, 'one subhalo', sub['id'])\n",
    "        \n",
    "\n"
   ]
  },
  {
   "cell_type": "code",
   "execution_count": 97,
   "metadata": {},
   "outputs": [
    {
     "name": "stdout",
     "output_type": "stream",
     "text": [
      "n points 100\n",
      "[0.0, 0.0, 0.0130215, 0.0, 0.0583733, 0.0174699, 0.461354, 0.0, 0.0, 0.0, 0.0, 0.0, 0.0, 0.0, 0.451621, 0.0, 0.0, 0.0, 7.76206, 0.0, 0.0, 0.0, 0.0, 0.0, 0.0, 0.0, 0.0, 0.00734263, 0.0, 0.000519468, 0.0, 0.0, 0.0, 0.0, 0.0, 0.0, 0.0, 2.57396, 0.0, 0.0, 1.672, 0.0, 0.0, 0.0, 0.0, 0.0, 0.0, 0.0, 0.0, 0.0, 0.0, 0.0580418, 0.0, 0.55751, 0.0, 0.0120872, 0.0, 0.0, 2.36634, 0.0, 0.0, 0.0, 0.0, 0.0, 0.0, 0.0, 0.0, 0.0, 0.0, 0.0, 0.0, 0.0, 0.0, 0.0, 0.0, 0.0, 0.0, 0.808439, 0.0, 0.0, 0.0, 0.0, 0.0, 0.0, 0.0, 0.0, 0.0305612, 0.0268847, 0.0, 4.12298, 0.0, 0.0, 0.0, 0.0, 0.0, 0.0, 0.0, 0.0, 0.0, 3.01544]\n"
     ]
    },
    {
     "data": {
      "image/png": "[encoded data removed]",
      "text/plain": [
       "<Figure size 432x288 with 1 Axes>"
      ]
     },
     "metadata": {
      "needs_background": "light"
     },
     "output_type": "display_data"
    }
   ],
   "source": [
    "scaled_mass = [x* 1e10 / 0.704 for x in mass_stars]\n",
    "scaled_mass_total = [x* 1e10 / 0.704 for x in mass_total]\n",
    "print('n points', len(scaled_mass))\n",
    "\n",
    "print(sfr)\n",
    "\n",
    "plt.clf()\n",
    "plt.scatter(scaled_mass, sfr, label='Stellar Mass')\n",
    "plt.scatter(scaled_mass_total, sfr, label='Total Mass')\n",
    "plt.xscale('log')\n",
    "#plt.yscale('log')\n",
    "plt.legend()\n",
    "plt.xlabel('Stellar Mass [$M_\\odot$]')\n",
    "plt.ylabel('Star Formation Rate [$M_\\odot / yr$]')\n",
    "plt.show()"
   ]
  },
  {
   "cell_type": "code",
   "execution_count": 71,
   "metadata": {},
   "outputs": [
    {
     "name": "stdout",
     "output_type": "stream",
     "text": [
      "dict_keys(['sublink', 'sublink_mpb', 'sublink_mdb', 'sublink_simple', 'lhalotree', 'lhalotree_mpb'])\n"
     ]
    }
   ],
   "source": [
    "print(sub['trees'].keys())"
   ]
  },
  {
   "cell_type": "code",
   "execution_count": 72,
   "metadata": {},
   "outputs": [
    {
     "name": "stdout",
     "output_type": "stream",
     "text": [
      "88\n"
     ]
    }
   ],
   "source": [
    "print(len(sub['trees']['sublink_simple']))"
   ]
  },
  {
   "cell_type": "code",
   "execution_count": 73,
   "metadata": {},
   "outputs": [
    {
     "name": "stdout",
     "output_type": "stream",
     "text": [
      "http://www.tng-project.org/api/TNG100-1/snapshots/99/subhalos/435782/sublink/simple.json\n"
     ]
    }
   ],
   "source": [
    "print(sub['trees']['sublink_simple'])"
   ]
  },
  {
   "cell_type": "code",
   "execution_count": 74,
   "metadata": {},
   "outputs": [
    {
     "name": "stdout",
     "output_type": "stream",
     "text": [
      "455\n"
     ]
    }
   ],
   "source": [
    "url_json = sub['trees']['sublink_simple']\n",
    "tree_simple = get(url_json)\n",
    "fields = ['SubhaloID','NextProgenitorID','MainLeafProgenitorID','FirstProgenitorID','SubhaloMassType']\n",
    "\n",
    "\n",
    "print(len(tree_simple['Mergers']))# This is the number of mergers in the merger tree\n"
   ]
  },
  {
   "cell_type": "code",
   "execution_count": 75,
   "metadata": {},
   "outputs": [
    {
     "name": "stdout",
     "output_type": "stream",
     "text": [
      "id descendent 435782\n",
      "Stellar mass descendant 5.21982\n"
     ]
    }
   ],
   "source": [
    "# Get the information for the descendant subhalo we're talking about and get a pic of it:\n",
    "id_desc = subs['results'][num]['id']\n",
    "print('id descendent', id_desc)\n",
    "\n",
    "sub_desc_url = \"http://www.tng-project.org/api/TNG100-1/snapshots/99/subhalos/\"+str(id_desc)+\"/\"\n",
    "sub_desc = get(sub_desc_url)\n",
    "#get(sub_desc['vis']['galaxy_stellar_light'])\n",
    "print('Stellar mass descendant', sub_desc['mass_stars'])\n"
   ]
  },
  {
   "cell_type": "code",
   "execution_count": 76,
   "metadata": {
    "scrolled": true
   },
   "outputs": [
    {
     "name": "stdout",
     "output_type": "stream",
     "text": [
      "subfind id [98, 434443]\n",
      "mass ratio 0.0012084707901805043\n",
      "0\n"
     ]
    }
   ],
   "source": [
    "# Now search through and see if it merges in the last snapshot\n",
    "merger_98 = []\n",
    "for j in range(len(tree_simple['Mergers'])):\n",
    "    #print(tree_simple['Mergers'][j][0])\n",
    "    if tree_simple['Mergers'][j][0] ==98:\n",
    "        \n",
    "        # Look through and see if any has a stellar mass that's near to the descendant\n",
    "        sub_prog_url = \"http://www.tng-project.org/api/TNG100-1/snapshots/98/subhalos/\"+str(tree_simple['Mergers'][j][1])+\"/\"\n",
    "        sub_prog = get(sub_prog_url)\n",
    "        \n",
    "        ending_mass = sub_prog['mass_stars']\n",
    "        prog_mass_list = []\n",
    "        prog_snapnum_list = []\n",
    "        if sub_prog['mass_stars']==0.0:\n",
    "            continue\n",
    "        \n",
    "        prog_mass_list.append(sub_prog['mass_stars'])\n",
    "        prog_snapnum_list.append(sub_prog['snap'])\n",
    "        while sub_prog['related']['sublink_progenitor'] != 'None':\n",
    "            try:\n",
    "                mpb_prog = get(sub_prog['related']['sublink_progenitor'])\n",
    "            except:\n",
    "                break\n",
    "            prog_mass_list.append(mpb_prog['mass_stars'])\n",
    "            prog_snapnum_list.append(mpb_prog['snap'])\n",
    "            #print('snapshot walkin ',mpb_prog['snap'], ' stellar mass', mpb_prog['mass_stars'])\n",
    "            sub_prog = mpb_prog\n",
    "            if mpb_prog['snap'] < 98-5:\n",
    "                break\n",
    "            \n",
    "        '''plt.clf()\n",
    "        plt.plot(prog_snapnum_list, prog_mass_list)\n",
    "        plt.show()'''\n",
    "        \n",
    "        max_mass_history = max(prog_mass_list)\n",
    "        print('subfind id', tree_simple['Mergers'][j])\n",
    "        #print('max mass', max_mass_history)\n",
    "        print('mass ratio', max_mass_history/sub_desc['mass_stars'])\n",
    "        # Note that there is an option to load a main progenitor mass brach if you want to load a mass history.\n",
    "        if max_mass_history > 0.1*sub_desc['mass_stars']:# basically if its within 10%\n",
    "            merger_98.append(tree_simple['Mergers'][j][1])\n",
    "            print('found another', sub_prog['mass_stars'], tree_simple['Mergers'][j][1])\n",
    "    \n",
    "    '''if gal > 5:\n",
    "        break\n",
    "    if tree_simple['Mergers'][j][0] ==snapnumber:'''\n",
    "print(len(merger_98))\n",
    "# How is merger defined here?"
   ]
  },
  {
   "cell_type": "code",
   "execution_count": 31,
   "metadata": {},
   "outputs": [
    {
     "name": "stdout",
     "output_type": "stream",
     "text": [
      "dict_keys(['snap', 'id', 'bhmdot', 'cm_x', 'cm_y', 'cm_z', 'gasmetallicity', 'gasmetallicityhalfrad', 'gasmetallicitymaxrad', 'gasmetallicitysfr', 'gasmetallicitysfrweighted', 'pos_x', 'pos_y', 'pos_z', 'halfmassrad', 'halfmassrad_gas', 'halfmassrad_dm', 'halfmassrad_stars', 'halfmassrad_bhs', 'len', 'len_gas', 'len_dm', 'len_stars', 'len_bhs', 'mass', 'mass_gas', 'mass_dm', 'mass_stars', 'mass_bhs', 'massinhalfrad', 'massinhalfrad_gas', 'massinhalfrad_dm', 'massinhalfrad_stars', 'massinhalfrad_bhs', 'massinmaxrad', 'massinmaxrad_gas', 'massinmaxrad_dm', 'massinmaxrad_stars', 'massinmaxrad_bhs', 'massinrad', 'massinrad_gas', 'massinrad_dm', 'massinrad_stars', 'massinrad_bhs', 'sfr', 'sfrinhalfrad', 'sfrinmaxrad', 'sfrinrad', 'spin_x', 'spin_y', 'spin_z', 'starmetallicity', 'starmetallicityhalfrad', 'starmetallicitymaxrad', 'stellarphotometrics_u', 'stellarphotometrics_b', 'stellarphotometrics_v', 'stellarphotometrics_k', 'stellarphotometrics_g', 'stellarphotometrics_r', 'stellarphotometrics_i', 'stellarphotometrics_z', 'stellarphotometricsmassinrad', 'stellarphotometricsrad', 'vel_x', 'vel_y', 'vel_z', 'veldisp', 'vmax', 'vmaxrad', 'windmass', 'prog_snap', 'prog_sfid', 'desc_snap', 'desc_sfid', 'parent', 'grnr', 'primary_flag', 'mass_log_msun', 'related', 'cutouts', 'trees', 'supplementary_data', 'vis', 'meta'])\n",
      "Stellar mass 0.000269\n",
      "Stellar mass 191.961\n"
     ]
    }
   ],
   "source": [
    "sub_prog_url = \"http://www.tng-project.org/api/TNG100-1/snapshots/98/subhalos/\"+str(merger_98[0])+\"/\"\n",
    "sub_prog = get(sub_prog_url)\n",
    "print(sub_prog.keys())\n",
    "print('Stellar mass progenitor', sub_prog['mass_stars'])\n",
    "\n",
    "#get(sub_prog['vis']['galaxy_stellar_light'])\n",
    "\n",
    "\n"
   ]
  },
  {
   "cell_type": "code",
   "execution_count": 21,
   "metadata": {},
   "outputs": [],
   "source": [
    "cutout_request = {'gas':'Coordinates,Masses'}\n",
    "cutout = get(sub_prog_url+\"cutout.hdf5\", cutout_request)"
   ]
  },
  {
   "cell_type": "code",
   "execution_count": null,
   "metadata": {},
   "outputs": [],
   "source": []
  },
  {
   "cell_type": "code",
   "execution_count": 27,
   "metadata": {},
   "outputs": [
    {
     "ename": "KeyError",
     "evalue": "\"Unable to open object (object 'PartType0' doesn't exist)\"",
     "output_type": "error",
     "traceback": [
      "\u001b[0;31m---------------------------------------------------------------------------\u001b[0m",
      "\u001b[0;31mKeyError\u001b[0m                                  Traceback (most recent call last)",
      "\u001b[0;32m<ipython-input-27-e9bbbde56ed1>\u001b[0m in \u001b[0;36m<module>\u001b[0;34m\u001b[0m\n\u001b[1;32m      5\u001b[0m \u001b[0mcutout\u001b[0m \u001b[0;34m=\u001b[0m \u001b[0mget\u001b[0m\u001b[0;34m(\u001b[0m\u001b[0msub_prog_url\u001b[0m\u001b[0;34m+\u001b[0m\u001b[0;34m\"/cutout.hdf5\"\u001b[0m\u001b[0;34m,\u001b[0m \u001b[0mcutout_request\u001b[0m\u001b[0;34m)\u001b[0m\u001b[0;34m\u001b[0m\u001b[0;34m\u001b[0m\u001b[0m\n\u001b[1;32m      6\u001b[0m \u001b[0;32mwith\u001b[0m \u001b[0mh5py\u001b[0m\u001b[0;34m.\u001b[0m\u001b[0mFile\u001b[0m\u001b[0;34m(\u001b[0m\u001b[0mcutout\u001b[0m\u001b[0;34m,\u001b[0m\u001b[0;34m'r'\u001b[0m\u001b[0;34m)\u001b[0m \u001b[0;32mas\u001b[0m \u001b[0mf\u001b[0m\u001b[0;34m:\u001b[0m\u001b[0;34m\u001b[0m\u001b[0;34m\u001b[0m\u001b[0m\n\u001b[0;32m----> 7\u001b[0;31m     \u001b[0mx\u001b[0m \u001b[0;34m=\u001b[0m \u001b[0mf\u001b[0m\u001b[0;34m[\u001b[0m\u001b[0;34m'PartType0'\u001b[0m\u001b[0;34m]\u001b[0m\u001b[0;34m[\u001b[0m\u001b[0;34m'Coordinates'\u001b[0m\u001b[0;34m]\u001b[0m\u001b[0;34m[\u001b[0m\u001b[0;34m:\u001b[0m\u001b[0;34m,\u001b[0m\u001b[0;36m0\u001b[0m\u001b[0;34m]\u001b[0m \u001b[0;34m-\u001b[0m \u001b[0msub_prog\u001b[0m\u001b[0;34m[\u001b[0m\u001b[0;34m'pos_x'\u001b[0m\u001b[0;34m]\u001b[0m\u001b[0;34m\u001b[0m\u001b[0;34m\u001b[0m\u001b[0m\n\u001b[0m\u001b[1;32m      8\u001b[0m     \u001b[0my\u001b[0m \u001b[0;34m=\u001b[0m \u001b[0mf\u001b[0m\u001b[0;34m[\u001b[0m\u001b[0;34m'PartType0'\u001b[0m\u001b[0;34m]\u001b[0m\u001b[0;34m[\u001b[0m\u001b[0;34m'Coordinates'\u001b[0m\u001b[0;34m]\u001b[0m\u001b[0;34m[\u001b[0m\u001b[0;34m:\u001b[0m\u001b[0;34m,\u001b[0m\u001b[0;36m1\u001b[0m\u001b[0;34m]\u001b[0m \u001b[0;34m-\u001b[0m \u001b[0msub_prog\u001b[0m\u001b[0;34m[\u001b[0m\u001b[0;34m'pos_y'\u001b[0m\u001b[0;34m]\u001b[0m\u001b[0;34m\u001b[0m\u001b[0;34m\u001b[0m\u001b[0m\n\u001b[1;32m      9\u001b[0m \u001b[0;34m\u001b[0m\u001b[0m\n",
      "\u001b[0;32mh5py/_objects.pyx\u001b[0m in \u001b[0;36mh5py._objects.with_phil.wrapper\u001b[0;34m()\u001b[0m\n",
      "\u001b[0;32mh5py/_objects.pyx\u001b[0m in \u001b[0;36mh5py._objects.with_phil.wrapper\u001b[0;34m()\u001b[0m\n",
      "\u001b[0;32m~/anaconda3/lib/python3.7/site-packages/h5py/_hl/group.py\u001b[0m in \u001b[0;36m__getitem__\u001b[0;34m(self, name)\u001b[0m\n\u001b[1;32m    260\u001b[0m                 \u001b[0;32mraise\u001b[0m \u001b[0mValueError\u001b[0m\u001b[0;34m(\u001b[0m\u001b[0;34m\"Invalid HDF5 object reference\"\u001b[0m\u001b[0;34m)\u001b[0m\u001b[0;34m\u001b[0m\u001b[0;34m\u001b[0m\u001b[0m\n\u001b[1;32m    261\u001b[0m         \u001b[0;32melse\u001b[0m\u001b[0;34m:\u001b[0m\u001b[0;34m\u001b[0m\u001b[0;34m\u001b[0m\u001b[0m\n\u001b[0;32m--> 262\u001b[0;31m             \u001b[0moid\u001b[0m \u001b[0;34m=\u001b[0m \u001b[0mh5o\u001b[0m\u001b[0;34m.\u001b[0m\u001b[0mopen\u001b[0m\u001b[0;34m(\u001b[0m\u001b[0mself\u001b[0m\u001b[0;34m.\u001b[0m\u001b[0mid\u001b[0m\u001b[0;34m,\u001b[0m \u001b[0mself\u001b[0m\u001b[0;34m.\u001b[0m\u001b[0m_e\u001b[0m\u001b[0;34m(\u001b[0m\u001b[0mname\u001b[0m\u001b[0;34m)\u001b[0m\u001b[0;34m,\u001b[0m \u001b[0mlapl\u001b[0m\u001b[0;34m=\u001b[0m\u001b[0mself\u001b[0m\u001b[0;34m.\u001b[0m\u001b[0m_lapl\u001b[0m\u001b[0;34m)\u001b[0m\u001b[0;34m\u001b[0m\u001b[0;34m\u001b[0m\u001b[0m\n\u001b[0m\u001b[1;32m    263\u001b[0m \u001b[0;34m\u001b[0m\u001b[0m\n\u001b[1;32m    264\u001b[0m         \u001b[0motype\u001b[0m \u001b[0;34m=\u001b[0m \u001b[0mh5i\u001b[0m\u001b[0;34m.\u001b[0m\u001b[0mget_type\u001b[0m\u001b[0;34m(\u001b[0m\u001b[0moid\u001b[0m\u001b[0;34m)\u001b[0m\u001b[0;34m\u001b[0m\u001b[0;34m\u001b[0m\u001b[0m\n",
      "\u001b[0;32mh5py/_objects.pyx\u001b[0m in \u001b[0;36mh5py._objects.with_phil.wrapper\u001b[0;34m()\u001b[0m\n",
      "\u001b[0;32mh5py/_objects.pyx\u001b[0m in \u001b[0;36mh5py._objects.with_phil.wrapper\u001b[0;34m()\u001b[0m\n",
      "\u001b[0;32mh5py/h5o.pyx\u001b[0m in \u001b[0;36mh5py.h5o.open\u001b[0;34m()\u001b[0m\n",
      "\u001b[0;31mKeyError\u001b[0m: \"Unable to open object (object 'PartType0' doesn't exist)\""
     ]
    }
   ],
   "source": [
    "import h5py\n",
    "\n",
    "\n",
    "\n",
    "sub_prog_url = \"http://www.tng-project.org/api/TNG100-1/snapshots/98/subhalos/\" + str(merger_98[0])\n",
    "sub_prog = get(sub_prog_url)\n",
    "\n",
    "cutout = get(sub_prog_url+\"/cutout.hdf5\", cutout_request)\n",
    "with h5py.File(cutout,'r') as f:\n",
    "    x = f['PartType0']['Coordinates'][:,0] - sub_prog['pos_x']\n",
    "    y = f['PartType0']['Coordinates'][:,1] - sub_prog['pos_y']\n",
    "\n",
    "    x *= scale_factor/little_h\n",
    "    y *= scale_factor/little_h\n",
    "    #rr *= scale_factor/little_h # ckpc/h -> physical kpc\n",
    "    #scale_factor = 1.0 / (1+redshift)\n",
    "    #little_h = 0.704\n",
    "    dens = np.log10(f['PartType0']['Masses'][:])\n",
    "plt.hist2d(x,y,weights=dens,bins=[150,100], cmap='RdYlGn')\n",
    "plt.xlabel('$\\Delta x$ [kpc]')\n",
    "plt.ylabel('$\\Delta y$ [kpc]');\n",
    "plt.title('Snap = '+str(snap)+' ID = '+str(idj))\n",
    "plt.show()"
   ]
  },
  {
   "cell_type": "code",
   "execution_count": null,
   "metadata": {},
   "outputs": [],
   "source": []
  }
 ],
 "metadata": {
  "kernelspec": {
   "display_name": "Python 3",
   "language": "python",
   "name": "python3"
  },
  "language_info": {
   "codemirror_mode": {
    "name": "ipython",
    "version": 3
   },
   "file_extension": ".py",
   "mimetype": "text/x-python",
   "name": "python",
   "nbconvert_exporter": "python",
   "pygments_lexer": "ipython3",
   "version": "3.7.3"
  }
 },
 "nbformat": 4,
 "nbformat_minor": 2
}
